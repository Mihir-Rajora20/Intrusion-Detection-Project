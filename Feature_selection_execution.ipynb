{
 "cells": [
  {
   "cell_type": "code",
   "execution_count": 6,
   "metadata": {},
   "outputs": [],
   "source": [
    "import pandas as pd\n",
    "import numpy as np\n",
    "import matplotlib.pyplot as plt\n",
    "%matplotlib inline\n",
    "import seaborn as sns\n",
    "from sklearn.preprocessing import LabelEncoder,OneHotEncoder\n",
    "from sklearn.preprocessing import RobustScaler,MinMaxScaler\n",
    "label_encoder=LabelEncoder()\n",
    "oh_encoder=OneHotEncoder()\n",
    "scaler=MinMaxScaler()\n",
    "from sklearn.model_selection import train_test_split\n",
    "import time\n",
    "import pickle\n",
    "from sklearn.metrics import classification_report"
   ]
  },
  {
   "cell_type": "code",
   "execution_count": 48,
   "metadata": {},
   "outputs": [],
   "source": []
  },
  {
   "cell_type": "code",
   "execution_count": 2,
   "metadata": {},
   "outputs": [],
   "source": [
    "data=pd.read_csv('final_destination2.csv')"
   ]
  },
  {
   "cell_type": "code",
   "execution_count": 4,
   "metadata": {},
   "outputs": [
    {
     "data": {
      "text/plain": [
       "(19000, 118)"
      ]
     },
     "execution_count": 4,
     "metadata": {},
     "output_type": "execute_result"
    }
   ],
   "source": [
    "data.shape"
   ]
  },
  {
   "cell_type": "code",
   "execution_count": 5,
   "metadata": {},
   "outputs": [
    {
     "data": {
      "text/plain": [
       "philips_sec_cam     8000\n",
       "security_cam        4000\n",
       "danmini_doorbell    4000\n",
       "samsung             3000\n",
       "Name: source, dtype: int64"
      ]
     },
     "execution_count": 5,
     "metadata": {},
     "output_type": "execute_result"
    }
   ],
   "source": [
    "data['source'].value_counts()"
   ]
  },
  {
   "cell_type": "code",
   "execution_count": null,
   "metadata": {},
   "outputs": [],
   "source": []
  },
  {
   "cell_type": "code",
   "execution_count": 7,
   "metadata": {},
   "outputs": [
    {
     "data": {
      "text/html": [
       "<div>\n",
       "<style scoped>\n",
       "    .dataframe tbody tr th:only-of-type {\n",
       "        vertical-align: middle;\n",
       "    }\n",
       "\n",
       "    .dataframe tbody tr th {\n",
       "        vertical-align: top;\n",
       "    }\n",
       "\n",
       "    .dataframe thead th {\n",
       "        text-align: right;\n",
       "    }\n",
       "</style>\n",
       "<table border=\"1\" class=\"dataframe\">\n",
       "  <thead>\n",
       "    <tr style=\"text-align: right;\">\n",
       "      <th></th>\n",
       "      <th>MI_dir_L5_weight</th>\n",
       "      <th>MI_dir_L5_mean</th>\n",
       "      <th>MI_dir_L5_variance</th>\n",
       "      <th>MI_dir_L3_weight</th>\n",
       "      <th>MI_dir_L3_mean</th>\n",
       "      <th>MI_dir_L3_variance</th>\n",
       "      <th>MI_dir_L1_weight</th>\n",
       "      <th>MI_dir_L1_mean</th>\n",
       "      <th>MI_dir_L1_variance</th>\n",
       "      <th>MI_dir_L0.1_weight</th>\n",
       "      <th>...</th>\n",
       "      <th>HpHp_L0.01_weight</th>\n",
       "      <th>HpHp_L0.01_mean</th>\n",
       "      <th>HpHp_L0.01_std</th>\n",
       "      <th>HpHp_L0.01_magnitude</th>\n",
       "      <th>HpHp_L0.01_radius</th>\n",
       "      <th>HpHp_L0.01_covariance</th>\n",
       "      <th>HpHp_L0.01_pcc</th>\n",
       "      <th>source</th>\n",
       "      <th>output</th>\n",
       "      <th>attack_type</th>\n",
       "    </tr>\n",
       "  </thead>\n",
       "  <tbody>\n",
       "    <tr>\n",
       "      <th>0</th>\n",
       "      <td>2.979897</td>\n",
       "      <td>456.515870</td>\n",
       "      <td>371.700595</td>\n",
       "      <td>2.987890</td>\n",
       "      <td>456.443004</td>\n",
       "      <td>372.715178</td>\n",
       "      <td>2.995948</td>\n",
       "      <td>456.369841</td>\n",
       "      <td>373.755653</td>\n",
       "      <td>4.000143</td>\n",
       "      <td>...</td>\n",
       "      <td>15.974548</td>\n",
       "      <td>456.333476</td>\n",
       "      <td>19.344776</td>\n",
       "      <td>456.333476</td>\n",
       "      <td>3.742204e+02</td>\n",
       "      <td>0.000000e+00</td>\n",
       "      <td>0.000000e+00</td>\n",
       "      <td>samsung</td>\n",
       "      <td>benign</td>\n",
       "      <td>None</td>\n",
       "    </tr>\n",
       "    <tr>\n",
       "      <th>1</th>\n",
       "      <td>1.000000</td>\n",
       "      <td>429.000000</td>\n",
       "      <td>0.000133</td>\n",
       "      <td>1.000004</td>\n",
       "      <td>428.998549</td>\n",
       "      <td>0.535599</td>\n",
       "      <td>1.016685</td>\n",
       "      <td>423.005222</td>\n",
       "      <td>2162.062877</td>\n",
       "      <td>3.241126</td>\n",
       "      <td>...</td>\n",
       "      <td>13.978410</td>\n",
       "      <td>454.377983</td>\n",
       "      <td>19.926723</td>\n",
       "      <td>454.377983</td>\n",
       "      <td>3.970743e+02</td>\n",
       "      <td>0.000000e+00</td>\n",
       "      <td>0.000000e+00</td>\n",
       "      <td>samsung</td>\n",
       "      <td>benign</td>\n",
       "      <td>None</td>\n",
       "    </tr>\n",
       "    <tr>\n",
       "      <th>2</th>\n",
       "      <td>1.000000</td>\n",
       "      <td>429.000000</td>\n",
       "      <td>0.000000</td>\n",
       "      <td>1.000000</td>\n",
       "      <td>429.000000</td>\n",
       "      <td>0.000006</td>\n",
       "      <td>1.000370</td>\n",
       "      <td>428.864646</td>\n",
       "      <td>49.695641</td>\n",
       "      <td>2.666670</td>\n",
       "      <td>...</td>\n",
       "      <td>13.980002</td>\n",
       "      <td>454.378263</td>\n",
       "      <td>19.926658</td>\n",
       "      <td>454.378263</td>\n",
       "      <td>3.970717e+02</td>\n",
       "      <td>0.000000e+00</td>\n",
       "      <td>0.000000e+00</td>\n",
       "      <td>samsung</td>\n",
       "      <td>benign</td>\n",
       "      <td>None</td>\n",
       "    </tr>\n",
       "    <tr>\n",
       "      <th>3</th>\n",
       "      <td>3.363795</td>\n",
       "      <td>428.064755</td>\n",
       "      <td>6678.795429</td>\n",
       "      <td>3.549155</td>\n",
       "      <td>416.732858</td>\n",
       "      <td>8746.940648</td>\n",
       "      <td>3.820229</td>\n",
       "      <td>401.982767</td>\n",
       "      <td>11056.308330</td>\n",
       "      <td>5.111517</td>\n",
       "      <td>...</td>\n",
       "      <td>15.978757</td>\n",
       "      <td>456.333422</td>\n",
       "      <td>19.344796</td>\n",
       "      <td>456.333422</td>\n",
       "      <td>3.742211e+02</td>\n",
       "      <td>0.000000e+00</td>\n",
       "      <td>0.000000e+00</td>\n",
       "      <td>samsung</td>\n",
       "      <td>benign</td>\n",
       "      <td>None</td>\n",
       "    </tr>\n",
       "    <tr>\n",
       "      <th>4</th>\n",
       "      <td>1.000000</td>\n",
       "      <td>60.000001</td>\n",
       "      <td>0.000179</td>\n",
       "      <td>1.000044</td>\n",
       "      <td>60.002257</td>\n",
       "      <td>0.300567</td>\n",
       "      <td>1.055247</td>\n",
       "      <td>63.499012</td>\n",
       "      <td>467.375232</td>\n",
       "      <td>3.200599</td>\n",
       "      <td>...</td>\n",
       "      <td>4.907064</td>\n",
       "      <td>60.000000</td>\n",
       "      <td>0.000001</td>\n",
       "      <td>84.852814</td>\n",
       "      <td>1.440000e-12</td>\n",
       "      <td>-8.350000e-30</td>\n",
       "      <td>-1.060000e-17</td>\n",
       "      <td>samsung</td>\n",
       "      <td>benign</td>\n",
       "      <td>None</td>\n",
       "    </tr>\n",
       "  </tbody>\n",
       "</table>\n",
       "<p>5 rows × 118 columns</p>\n",
       "</div>"
      ],
      "text/plain": [
       "   MI_dir_L5_weight  MI_dir_L5_mean  MI_dir_L5_variance  MI_dir_L3_weight  \\\n",
       "0          2.979897      456.515870          371.700595          2.987890   \n",
       "1          1.000000      429.000000            0.000133          1.000004   \n",
       "2          1.000000      429.000000            0.000000          1.000000   \n",
       "3          3.363795      428.064755         6678.795429          3.549155   \n",
       "4          1.000000       60.000001            0.000179          1.000044   \n",
       "\n",
       "   MI_dir_L3_mean  MI_dir_L3_variance  MI_dir_L1_weight  MI_dir_L1_mean  \\\n",
       "0      456.443004          372.715178          2.995948      456.369841   \n",
       "1      428.998549            0.535599          1.016685      423.005222   \n",
       "2      429.000000            0.000006          1.000370      428.864646   \n",
       "3      416.732858         8746.940648          3.820229      401.982767   \n",
       "4       60.002257            0.300567          1.055247       63.499012   \n",
       "\n",
       "   MI_dir_L1_variance  MI_dir_L0.1_weight  ...  HpHp_L0.01_weight  \\\n",
       "0          373.755653            4.000143  ...          15.974548   \n",
       "1         2162.062877            3.241126  ...          13.978410   \n",
       "2           49.695641            2.666670  ...          13.980002   \n",
       "3        11056.308330            5.111517  ...          15.978757   \n",
       "4          467.375232            3.200599  ...           4.907064   \n",
       "\n",
       "   HpHp_L0.01_mean  HpHp_L0.01_std  HpHp_L0.01_magnitude  HpHp_L0.01_radius  \\\n",
       "0       456.333476       19.344776            456.333476       3.742204e+02   \n",
       "1       454.377983       19.926723            454.377983       3.970743e+02   \n",
       "2       454.378263       19.926658            454.378263       3.970717e+02   \n",
       "3       456.333422       19.344796            456.333422       3.742211e+02   \n",
       "4        60.000000        0.000001             84.852814       1.440000e-12   \n",
       "\n",
       "   HpHp_L0.01_covariance  HpHp_L0.01_pcc   source  output  attack_type  \n",
       "0           0.000000e+00    0.000000e+00  samsung  benign         None  \n",
       "1           0.000000e+00    0.000000e+00  samsung  benign         None  \n",
       "2           0.000000e+00    0.000000e+00  samsung  benign         None  \n",
       "3           0.000000e+00    0.000000e+00  samsung  benign         None  \n",
       "4          -8.350000e-30   -1.060000e-17  samsung  benign         None  \n",
       "\n",
       "[5 rows x 118 columns]"
      ]
     },
     "execution_count": 7,
     "metadata": {},
     "output_type": "execute_result"
    }
   ],
   "source": [
    "data.head()"
   ]
  },
  {
   "cell_type": "code",
   "execution_count": 55,
   "metadata": {},
   "outputs": [],
   "source": [
    "data=data.sample(frac=1).reset_index(drop=True)"
   ]
  },
  {
   "cell_type": "code",
   "execution_count": 56,
   "metadata": {},
   "outputs": [
    {
     "data": {
      "text/html": [
       "<div>\n",
       "<style scoped>\n",
       "    .dataframe tbody tr th:only-of-type {\n",
       "        vertical-align: middle;\n",
       "    }\n",
       "\n",
       "    .dataframe tbody tr th {\n",
       "        vertical-align: top;\n",
       "    }\n",
       "\n",
       "    .dataframe thead th {\n",
       "        text-align: right;\n",
       "    }\n",
       "</style>\n",
       "<table border=\"1\" class=\"dataframe\">\n",
       "  <thead>\n",
       "    <tr style=\"text-align: right;\">\n",
       "      <th></th>\n",
       "      <th>MI_dir_L5_weight</th>\n",
       "      <th>MI_dir_L5_mean</th>\n",
       "      <th>MI_dir_L5_variance</th>\n",
       "      <th>MI_dir_L3_weight</th>\n",
       "      <th>MI_dir_L3_mean</th>\n",
       "      <th>MI_dir_L3_variance</th>\n",
       "      <th>MI_dir_L1_weight</th>\n",
       "      <th>MI_dir_L1_mean</th>\n",
       "      <th>MI_dir_L1_variance</th>\n",
       "      <th>MI_dir_L0.1_weight</th>\n",
       "      <th>...</th>\n",
       "      <th>HpHp_L0.01_weight</th>\n",
       "      <th>HpHp_L0.01_mean</th>\n",
       "      <th>HpHp_L0.01_std</th>\n",
       "      <th>HpHp_L0.01_magnitude</th>\n",
       "      <th>HpHp_L0.01_radius</th>\n",
       "      <th>HpHp_L0.01_covariance</th>\n",
       "      <th>HpHp_L0.01_pcc</th>\n",
       "      <th>source</th>\n",
       "      <th>output</th>\n",
       "      <th>attack_type</th>\n",
       "    </tr>\n",
       "  </thead>\n",
       "  <tbody>\n",
       "    <tr>\n",
       "      <th>0</th>\n",
       "      <td>156.190625</td>\n",
       "      <td>74.004701</td>\n",
       "      <td>0.113284</td>\n",
       "      <td>264.812857</td>\n",
       "      <td>74.012848</td>\n",
       "      <td>0.394270</td>\n",
       "      <td>809.312031</td>\n",
       "      <td>74.064328</td>\n",
       "      <td>10.045754</td>\n",
       "      <td>4289.545993</td>\n",
       "      <td>...</td>\n",
       "      <td>1.000000</td>\n",
       "      <td>74.000000</td>\n",
       "      <td>0.000000</td>\n",
       "      <td>74.000000</td>\n",
       "      <td>0.000000e+00</td>\n",
       "      <td>0.000000e+00</td>\n",
       "      <td>0.0</td>\n",
       "      <td>samsung</td>\n",
       "      <td>attack</td>\n",
       "      <td>gafgyt</td>\n",
       "    </tr>\n",
       "    <tr>\n",
       "      <th>1</th>\n",
       "      <td>1.999893</td>\n",
       "      <td>330.000000</td>\n",
       "      <td>0.000000</td>\n",
       "      <td>1.999936</td>\n",
       "      <td>330.000000</td>\n",
       "      <td>0.000000</td>\n",
       "      <td>1.999980</td>\n",
       "      <td>329.999850</td>\n",
       "      <td>0.040584</td>\n",
       "      <td>2.738291</td>\n",
       "      <td>...</td>\n",
       "      <td>6.273792</td>\n",
       "      <td>330.000000</td>\n",
       "      <td>0.000007</td>\n",
       "      <td>431.490440</td>\n",
       "      <td>4.370000e-11</td>\n",
       "      <td>1.250000e-26</td>\n",
       "      <td>0.0</td>\n",
       "      <td>security_cam</td>\n",
       "      <td>benign</td>\n",
       "      <td>None</td>\n",
       "    </tr>\n",
       "    <tr>\n",
       "      <th>2</th>\n",
       "      <td>171.173878</td>\n",
       "      <td>273.479685</td>\n",
       "      <td>62447.144692</td>\n",
       "      <td>255.671444</td>\n",
       "      <td>304.861269</td>\n",
       "      <td>63942.757146</td>\n",
       "      <td>670.859283</td>\n",
       "      <td>357.684114</td>\n",
       "      <td>62011.765771</td>\n",
       "      <td>6379.792304</td>\n",
       "      <td>...</td>\n",
       "      <td>1.000000</td>\n",
       "      <td>566.000000</td>\n",
       "      <td>0.000000</td>\n",
       "      <td>566.000000</td>\n",
       "      <td>0.000000e+00</td>\n",
       "      <td>0.000000e+00</td>\n",
       "      <td>0.0</td>\n",
       "      <td>philips_sec_cam</td>\n",
       "      <td>attack</td>\n",
       "      <td>mirai</td>\n",
       "    </tr>\n",
       "    <tr>\n",
       "      <th>3</th>\n",
       "      <td>1.999845</td>\n",
       "      <td>449.001416</td>\n",
       "      <td>400.052998</td>\n",
       "      <td>2.000111</td>\n",
       "      <td>448.961371</td>\n",
       "      <td>415.267526</td>\n",
       "      <td>2.058881</td>\n",
       "      <td>437.926823</td>\n",
       "      <td>4551.371875</td>\n",
       "      <td>3.721299</td>\n",
       "      <td>...</td>\n",
       "      <td>14.977934</td>\n",
       "      <td>455.354243</td>\n",
       "      <td>19.592984</td>\n",
       "      <td>455.354243</td>\n",
       "      <td>3.838850e+02</td>\n",
       "      <td>0.000000e+00</td>\n",
       "      <td>0.0</td>\n",
       "      <td>samsung</td>\n",
       "      <td>benign</td>\n",
       "      <td>None</td>\n",
       "    </tr>\n",
       "    <tr>\n",
       "      <th>4</th>\n",
       "      <td>1.990930</td>\n",
       "      <td>449.091115</td>\n",
       "      <td>399.991698</td>\n",
       "      <td>1.994548</td>\n",
       "      <td>449.054669</td>\n",
       "      <td>399.997116</td>\n",
       "      <td>1.999352</td>\n",
       "      <td>448.791962</td>\n",
       "      <td>487.262627</td>\n",
       "      <td>3.754564</td>\n",
       "      <td>...</td>\n",
       "      <td>14.973470</td>\n",
       "      <td>455.353983</td>\n",
       "      <td>19.593039</td>\n",
       "      <td>455.353983</td>\n",
       "      <td>3.838872e+02</td>\n",
       "      <td>0.000000e+00</td>\n",
       "      <td>0.0</td>\n",
       "      <td>samsung</td>\n",
       "      <td>benign</td>\n",
       "      <td>None</td>\n",
       "    </tr>\n",
       "  </tbody>\n",
       "</table>\n",
       "<p>5 rows × 118 columns</p>\n",
       "</div>"
      ],
      "text/plain": [
       "   MI_dir_L5_weight  MI_dir_L5_mean  MI_dir_L5_variance  MI_dir_L3_weight  \\\n",
       "0        156.190625       74.004701            0.113284        264.812857   \n",
       "1          1.999893      330.000000            0.000000          1.999936   \n",
       "2        171.173878      273.479685        62447.144692        255.671444   \n",
       "3          1.999845      449.001416          400.052998          2.000111   \n",
       "4          1.990930      449.091115          399.991698          1.994548   \n",
       "\n",
       "   MI_dir_L3_mean  MI_dir_L3_variance  MI_dir_L1_weight  MI_dir_L1_mean  \\\n",
       "0       74.012848            0.394270        809.312031       74.064328   \n",
       "1      330.000000            0.000000          1.999980      329.999850   \n",
       "2      304.861269        63942.757146        670.859283      357.684114   \n",
       "3      448.961371          415.267526          2.058881      437.926823   \n",
       "4      449.054669          399.997116          1.999352      448.791962   \n",
       "\n",
       "   MI_dir_L1_variance  MI_dir_L0.1_weight  ...  HpHp_L0.01_weight  \\\n",
       "0           10.045754         4289.545993  ...           1.000000   \n",
       "1            0.040584            2.738291  ...           6.273792   \n",
       "2        62011.765771         6379.792304  ...           1.000000   \n",
       "3         4551.371875            3.721299  ...          14.977934   \n",
       "4          487.262627            3.754564  ...          14.973470   \n",
       "\n",
       "   HpHp_L0.01_mean  HpHp_L0.01_std  HpHp_L0.01_magnitude  HpHp_L0.01_radius  \\\n",
       "0        74.000000        0.000000             74.000000       0.000000e+00   \n",
       "1       330.000000        0.000007            431.490440       4.370000e-11   \n",
       "2       566.000000        0.000000            566.000000       0.000000e+00   \n",
       "3       455.354243       19.592984            455.354243       3.838850e+02   \n",
       "4       455.353983       19.593039            455.353983       3.838872e+02   \n",
       "\n",
       "   HpHp_L0.01_covariance  HpHp_L0.01_pcc           source  output  attack_type  \n",
       "0           0.000000e+00             0.0          samsung  attack       gafgyt  \n",
       "1           1.250000e-26             0.0     security_cam  benign         None  \n",
       "2           0.000000e+00             0.0  philips_sec_cam  attack        mirai  \n",
       "3           0.000000e+00             0.0          samsung  benign         None  \n",
       "4           0.000000e+00             0.0          samsung  benign         None  \n",
       "\n",
       "[5 rows x 118 columns]"
      ]
     },
     "execution_count": 56,
     "metadata": {},
     "output_type": "execute_result"
    }
   ],
   "source": [
    "data.head()"
   ]
  },
  {
   "cell_type": "code",
   "execution_count": null,
   "metadata": {},
   "outputs": [],
   "source": []
  },
  {
   "cell_type": "markdown",
   "metadata": {},
   "source": [
    "# Data Preprocessing\n",
    "1. Encoding the Categorical Variables\n",
    "2. Scaling all numerical variables using Standard Scaler and Robust Scalers\n",
    "3. Removing instances of Low Counts"
   ]
  },
  {
   "cell_type": "markdown",
   "metadata": {},
   "source": [
    "# Data Encoding"
   ]
  },
  {
   "cell_type": "code",
   "execution_count": 59,
   "metadata": {},
   "outputs": [],
   "source": [
    "temp=data.copy()"
   ]
  },
  {
   "cell_type": "code",
   "execution_count": 9,
   "metadata": {},
   "outputs": [],
   "source": [
    "#plt.figure(figsize=(12,12))\n",
    "#sns.heatmap(temp.corr())"
   ]
  },
  {
   "cell_type": "code",
   "execution_count": null,
   "metadata": {},
   "outputs": [],
   "source": []
  },
  {
   "cell_type": "code",
   "execution_count": 60,
   "metadata": {},
   "outputs": [],
   "source": [
    "encoder=LabelEncoder()"
   ]
  },
  {
   "cell_type": "code",
   "execution_count": 61,
   "metadata": {},
   "outputs": [],
   "source": [
    "temp['output']=encoder.fit_transform(data['output'])"
   ]
  },
  {
   "cell_type": "code",
   "execution_count": 12,
   "metadata": {},
   "outputs": [
    {
     "data": {
      "text/html": [
       "<div>\n",
       "<style scoped>\n",
       "    .dataframe tbody tr th:only-of-type {\n",
       "        vertical-align: middle;\n",
       "    }\n",
       "\n",
       "    .dataframe tbody tr th {\n",
       "        vertical-align: top;\n",
       "    }\n",
       "\n",
       "    .dataframe thead th {\n",
       "        text-align: right;\n",
       "    }\n",
       "</style>\n",
       "<table border=\"1\" class=\"dataframe\">\n",
       "  <thead>\n",
       "    <tr style=\"text-align: right;\">\n",
       "      <th></th>\n",
       "      <th>MI_dir_L5_weight</th>\n",
       "      <th>MI_dir_L5_mean</th>\n",
       "      <th>MI_dir_L5_variance</th>\n",
       "      <th>MI_dir_L3_weight</th>\n",
       "      <th>MI_dir_L3_mean</th>\n",
       "      <th>MI_dir_L3_variance</th>\n",
       "      <th>MI_dir_L1_weight</th>\n",
       "      <th>MI_dir_L1_mean</th>\n",
       "      <th>MI_dir_L1_variance</th>\n",
       "      <th>MI_dir_L0.1_weight</th>\n",
       "      <th>...</th>\n",
       "      <th>HpHp_L0.01_weight</th>\n",
       "      <th>HpHp_L0.01_mean</th>\n",
       "      <th>HpHp_L0.01_std</th>\n",
       "      <th>HpHp_L0.01_magnitude</th>\n",
       "      <th>HpHp_L0.01_radius</th>\n",
       "      <th>HpHp_L0.01_covariance</th>\n",
       "      <th>HpHp_L0.01_pcc</th>\n",
       "      <th>source</th>\n",
       "      <th>output</th>\n",
       "      <th>attack_type</th>\n",
       "    </tr>\n",
       "  </thead>\n",
       "  <tbody>\n",
       "    <tr>\n",
       "      <th>0</th>\n",
       "      <td>2.979897</td>\n",
       "      <td>456.515870</td>\n",
       "      <td>371.700595</td>\n",
       "      <td>2.987890</td>\n",
       "      <td>456.443004</td>\n",
       "      <td>372.715178</td>\n",
       "      <td>2.995948</td>\n",
       "      <td>456.369841</td>\n",
       "      <td>373.755653</td>\n",
       "      <td>4.000143</td>\n",
       "      <td>...</td>\n",
       "      <td>15.974548</td>\n",
       "      <td>456.333476</td>\n",
       "      <td>19.344776</td>\n",
       "      <td>456.333476</td>\n",
       "      <td>3.742204e+02</td>\n",
       "      <td>0.000000e+00</td>\n",
       "      <td>0.000000e+00</td>\n",
       "      <td>samsung</td>\n",
       "      <td>1</td>\n",
       "      <td>None</td>\n",
       "    </tr>\n",
       "    <tr>\n",
       "      <th>1</th>\n",
       "      <td>1.000000</td>\n",
       "      <td>429.000000</td>\n",
       "      <td>0.000133</td>\n",
       "      <td>1.000004</td>\n",
       "      <td>428.998549</td>\n",
       "      <td>0.535599</td>\n",
       "      <td>1.016685</td>\n",
       "      <td>423.005222</td>\n",
       "      <td>2162.062877</td>\n",
       "      <td>3.241126</td>\n",
       "      <td>...</td>\n",
       "      <td>13.978410</td>\n",
       "      <td>454.377983</td>\n",
       "      <td>19.926723</td>\n",
       "      <td>454.377983</td>\n",
       "      <td>3.970743e+02</td>\n",
       "      <td>0.000000e+00</td>\n",
       "      <td>0.000000e+00</td>\n",
       "      <td>samsung</td>\n",
       "      <td>1</td>\n",
       "      <td>None</td>\n",
       "    </tr>\n",
       "    <tr>\n",
       "      <th>2</th>\n",
       "      <td>1.000000</td>\n",
       "      <td>429.000000</td>\n",
       "      <td>0.000000</td>\n",
       "      <td>1.000000</td>\n",
       "      <td>429.000000</td>\n",
       "      <td>0.000006</td>\n",
       "      <td>1.000370</td>\n",
       "      <td>428.864646</td>\n",
       "      <td>49.695641</td>\n",
       "      <td>2.666670</td>\n",
       "      <td>...</td>\n",
       "      <td>13.980002</td>\n",
       "      <td>454.378263</td>\n",
       "      <td>19.926658</td>\n",
       "      <td>454.378263</td>\n",
       "      <td>3.970717e+02</td>\n",
       "      <td>0.000000e+00</td>\n",
       "      <td>0.000000e+00</td>\n",
       "      <td>samsung</td>\n",
       "      <td>1</td>\n",
       "      <td>None</td>\n",
       "    </tr>\n",
       "    <tr>\n",
       "      <th>3</th>\n",
       "      <td>3.363795</td>\n",
       "      <td>428.064755</td>\n",
       "      <td>6678.795429</td>\n",
       "      <td>3.549155</td>\n",
       "      <td>416.732858</td>\n",
       "      <td>8746.940648</td>\n",
       "      <td>3.820229</td>\n",
       "      <td>401.982767</td>\n",
       "      <td>11056.308330</td>\n",
       "      <td>5.111517</td>\n",
       "      <td>...</td>\n",
       "      <td>15.978757</td>\n",
       "      <td>456.333422</td>\n",
       "      <td>19.344796</td>\n",
       "      <td>456.333422</td>\n",
       "      <td>3.742211e+02</td>\n",
       "      <td>0.000000e+00</td>\n",
       "      <td>0.000000e+00</td>\n",
       "      <td>samsung</td>\n",
       "      <td>1</td>\n",
       "      <td>None</td>\n",
       "    </tr>\n",
       "    <tr>\n",
       "      <th>4</th>\n",
       "      <td>1.000000</td>\n",
       "      <td>60.000001</td>\n",
       "      <td>0.000179</td>\n",
       "      <td>1.000044</td>\n",
       "      <td>60.002257</td>\n",
       "      <td>0.300567</td>\n",
       "      <td>1.055247</td>\n",
       "      <td>63.499012</td>\n",
       "      <td>467.375232</td>\n",
       "      <td>3.200599</td>\n",
       "      <td>...</td>\n",
       "      <td>4.907064</td>\n",
       "      <td>60.000000</td>\n",
       "      <td>0.000001</td>\n",
       "      <td>84.852814</td>\n",
       "      <td>1.440000e-12</td>\n",
       "      <td>-8.350000e-30</td>\n",
       "      <td>-1.060000e-17</td>\n",
       "      <td>samsung</td>\n",
       "      <td>1</td>\n",
       "      <td>None</td>\n",
       "    </tr>\n",
       "  </tbody>\n",
       "</table>\n",
       "<p>5 rows × 118 columns</p>\n",
       "</div>"
      ],
      "text/plain": [
       "   MI_dir_L5_weight  MI_dir_L5_mean  MI_dir_L5_variance  MI_dir_L3_weight  \\\n",
       "0          2.979897      456.515870          371.700595          2.987890   \n",
       "1          1.000000      429.000000            0.000133          1.000004   \n",
       "2          1.000000      429.000000            0.000000          1.000000   \n",
       "3          3.363795      428.064755         6678.795429          3.549155   \n",
       "4          1.000000       60.000001            0.000179          1.000044   \n",
       "\n",
       "   MI_dir_L3_mean  MI_dir_L3_variance  MI_dir_L1_weight  MI_dir_L1_mean  \\\n",
       "0      456.443004          372.715178          2.995948      456.369841   \n",
       "1      428.998549            0.535599          1.016685      423.005222   \n",
       "2      429.000000            0.000006          1.000370      428.864646   \n",
       "3      416.732858         8746.940648          3.820229      401.982767   \n",
       "4       60.002257            0.300567          1.055247       63.499012   \n",
       "\n",
       "   MI_dir_L1_variance  MI_dir_L0.1_weight  ...  HpHp_L0.01_weight  \\\n",
       "0          373.755653            4.000143  ...          15.974548   \n",
       "1         2162.062877            3.241126  ...          13.978410   \n",
       "2           49.695641            2.666670  ...          13.980002   \n",
       "3        11056.308330            5.111517  ...          15.978757   \n",
       "4          467.375232            3.200599  ...           4.907064   \n",
       "\n",
       "   HpHp_L0.01_mean  HpHp_L0.01_std  HpHp_L0.01_magnitude  HpHp_L0.01_radius  \\\n",
       "0       456.333476       19.344776            456.333476       3.742204e+02   \n",
       "1       454.377983       19.926723            454.377983       3.970743e+02   \n",
       "2       454.378263       19.926658            454.378263       3.970717e+02   \n",
       "3       456.333422       19.344796            456.333422       3.742211e+02   \n",
       "4        60.000000        0.000001             84.852814       1.440000e-12   \n",
       "\n",
       "   HpHp_L0.01_covariance  HpHp_L0.01_pcc   source  output  attack_type  \n",
       "0           0.000000e+00    0.000000e+00  samsung       1         None  \n",
       "1           0.000000e+00    0.000000e+00  samsung       1         None  \n",
       "2           0.000000e+00    0.000000e+00  samsung       1         None  \n",
       "3           0.000000e+00    0.000000e+00  samsung       1         None  \n",
       "4          -8.350000e-30   -1.060000e-17  samsung       1         None  \n",
       "\n",
       "[5 rows x 118 columns]"
      ]
     },
     "execution_count": 12,
     "metadata": {},
     "output_type": "execute_result"
    }
   ],
   "source": [
    "temp.head()"
   ]
  },
  {
   "cell_type": "markdown",
   "metadata": {},
   "source": [
    "## One Hot Encoding the Data Sources"
   ]
  },
  {
   "cell_type": "code",
   "execution_count": 63,
   "metadata": {},
   "outputs": [],
   "source": [
    "temp2=pd.get_dummies(temp,columns=['source'])"
   ]
  },
  {
   "cell_type": "code",
   "execution_count": 64,
   "metadata": {},
   "outputs": [],
   "source": [
    "\n",
    "temp=temp2"
   ]
  },
  {
   "cell_type": "code",
   "execution_count": 65,
   "metadata": {},
   "outputs": [],
   "source": [
    "temp=temp.sample(frac=1)"
   ]
  },
  {
   "cell_type": "code",
   "execution_count": 66,
   "metadata": {},
   "outputs": [],
   "source": [
    "temp.reset_index(inplace=True)"
   ]
  },
  {
   "cell_type": "code",
   "execution_count": 67,
   "metadata": {},
   "outputs": [],
   "source": [
    "X=temp.drop(['output','attack_type'],axis=1)\n",
    "y=temp['output']"
   ]
  },
  {
   "cell_type": "markdown",
   "metadata": {},
   "source": [
    "# Scaling"
   ]
  },
  {
   "cell_type": "code",
   "execution_count": 69,
   "metadata": {},
   "outputs": [],
   "source": [
    "X[X.columns[:115]]=scaler.fit_transform(X[X.columns[:115]])"
   ]
  },
  {
   "cell_type": "code",
   "execution_count": 70,
   "metadata": {},
   "outputs": [],
   "source": [
    "X.drop('index',axis=1,inplace=True)"
   ]
  },
  {
   "cell_type": "code",
   "execution_count": 22,
   "metadata": {},
   "outputs": [],
   "source": [
    "#X"
   ]
  },
  {
   "cell_type": "code",
   "execution_count": 23,
   "metadata": {},
   "outputs": [
    {
     "data": {
      "text/plain": [
       "\"desc=X.describe()\\nfor col in X.columns:\\n    print(col,desc.at['min',col])\""
      ]
     },
     "execution_count": 23,
     "metadata": {},
     "output_type": "execute_result"
    }
   ],
   "source": [
    "\"\"\"desc=X.describe()\n",
    "for col in X.columns:\n",
    "    print(col,desc.at['min',col])\"\"\""
   ]
  },
  {
   "cell_type": "code",
   "execution_count": 24,
   "metadata": {},
   "outputs": [
    {
     "name": "stdout",
     "output_type": "stream",
     "text": [
      "MI_dir_L5_weight           float64\n",
      "MI_dir_L5_mean             float64\n",
      "MI_dir_L5_variance         float64\n",
      "MI_dir_L3_weight           float64\n",
      "MI_dir_L3_mean             float64\n",
      "                            ...   \n",
      "HpHp_L0.01_pcc             float64\n",
      "source_danmini_doorbell      uint8\n",
      "source_philips_sec_cam       uint8\n",
      "source_samsung               uint8\n",
      "source_security_cam          uint8\n",
      "Length: 119, dtype: object\n"
     ]
    }
   ],
   "source": [
    "print(X.dtypes)"
   ]
  },
  {
   "cell_type": "code",
   "execution_count": 71,
   "metadata": {},
   "outputs": [],
   "source": [
    "from sklearn.model_selection import train_test_split\n"
   ]
  },
  {
   "cell_type": "code",
   "execution_count": 81,
   "metadata": {},
   "outputs": [],
   "source": [
    "X_train,X_test,y_train,y_test=train_test_split(X,y)"
   ]
  },
  {
   "cell_type": "code",
   "execution_count": 82,
   "metadata": {},
   "outputs": [],
   "source": [
    "from sklearn.linear_model import LogisticRegression"
   ]
  },
  {
   "cell_type": "code",
   "execution_count": 83,
   "metadata": {},
   "outputs": [],
   "source": [
    "logreg=LogisticRegression()"
   ]
  },
  {
   "cell_type": "code",
   "execution_count": 85,
   "metadata": {},
   "outputs": [],
   "source": [
    "X_train=X_train.to_numpy()"
   ]
  },
  {
   "cell_type": "code",
   "execution_count": 86,
   "metadata": {},
   "outputs": [],
   "source": [
    "y_train=y_train.to_numpy()"
   ]
  },
  {
   "cell_type": "markdown",
   "metadata": {},
   "source": [
    "# Feature Selection on the IOT Botnet Dataset"
   ]
  },
  {
   "cell_type": "code",
   "execution_count": 87,
   "metadata": {},
   "outputs": [],
   "source": [
    "from feature_selection_ga import FeatureSelectionGA, FitnessFunction"
   ]
  },
  {
   "cell_type": "code",
   "execution_count": 88,
   "metadata": {},
   "outputs": [
    {
     "name": "stderr",
     "output_type": "stream",
     "text": [
      "c:\\users\\mihee\\appdata\\local\\programs\\python\\python36\\lib\\site-packages\\deap\\creator.py:141: RuntimeWarning: A class named 'FeatureSelect' has already been created and it will be overwritten. Consider deleting previous creation of that class or rename it.\n",
      "  RuntimeWarning)\n",
      "c:\\users\\mihee\\appdata\\local\\programs\\python\\python36\\lib\\site-packages\\deap\\creator.py:141: RuntimeWarning: A class named 'Individual' has already been created and it will be overwritten. Consider deleting previous creation of that class or rename it.\n",
      "  RuntimeWarning)\n"
     ]
    }
   ],
   "source": [
    "from feature_selection_ga import FeatureSelectionGA, FitnessFunction\n",
    "model = LogisticRegression(solver='lbfgs')\n",
    "fsga = FeatureSelectionGA(model,X_train,y_train, ff_obj = FitnessFunction())"
   ]
  },
  {
   "cell_type": "code",
   "execution_count": 89,
   "metadata": {},
   "outputs": [
    {
     "name": "stdout",
     "output_type": "stream",
     "text": [
      "EVOLVING.......\n",
      "-- GENERATION 1 --\n",
      "Evaluated 32 individuals\n",
      "-- GENERATION 2 --\n",
      "Evaluated 31 individuals\n",
      "-- GENERATION 3 --\n",
      "Evaluated 31 individuals\n",
      "-- GENERATION 4 --\n",
      "Evaluated 26 individuals\n",
      "-- GENERATION 5 --\n",
      "Evaluated 32 individuals\n",
      "-- Only the fittest survives --\n",
      "Best individual is [0, 1, 1, 1, 0, 0, 1, 0, 0, 0, 1, 0, 0, 1, 1, 1, 0, 0, 1, 0, 1, 1, 1, 0, 1, 0, 1, 1, 0, 1, 0, 1, 1, 1, 0, 1, 1, 1, 0, 1, 1, 1, 0, 0, 0, 0, 0, 1, 0, 0, 0, 1, 1, 1, 1, 1, 1, 0, 0, 0, 1, 1, 0, 0, 0, 0, 1, 1, 1, 0, 1, 0, 1, 0, 1, 1, 0, 1, 1, 0, 0, 1, 0, 0, 0, 0, 0, 0, 1, 0, 0, 0, 1, 1, 0, 0, 1, 0, 0, 1, 1, 1, 0, 0, 1, 1, 1, 0, 1, 0, 1, 0, 0, 1, 0, 1, 1, 1, 0], (0.9999298245614036,)\n"
     ]
    }
   ],
   "source": [
    "pop=fsga.generate(50)"
   ]
  },
  {
   "cell_type": "code",
   "execution_count": 38,
   "metadata": {},
   "outputs": [
    {
     "data": {
      "text/plain": [
       "(19000, 118)"
      ]
     },
     "execution_count": 38,
     "metadata": {},
     "output_type": "execute_result"
    }
   ],
   "source": [
    "data.shape"
   ]
  },
  {
   "cell_type": "code",
   "execution_count": 90,
   "metadata": {},
   "outputs": [],
   "source": [
    "\n",
    "final_pop= [0, 1, 1, 1, 0, 0, 1, 0, 0, 0, 1, 0, 0, 1, 1, 1, 0, 0, 1, 0, 1, 1, 1, 0, 1, 0, 1, 1, 0, 1, 0, 1, 1, 1, 0, 1, 1, 1, 0, 1, 1, 1, 0, 0, 0, 0, 0, 1, 0, 0, 0, 1, 1, 1, 1, 1, 1, 0, 0, 0, 1, 1, 0, 0, 0, 0, 1, 1, 1, 0, 1, 0, 1, 0, 1, 1, 0, 1, 1, 0, 0, 1, 0, 0, 0, 0, 0, 0, 1, 0, 0, 0, 1, 1, 0, 0, 1, 0, 0, 1, 1, 1, 0, 0, 1, 1, 1, 0, 1, 0, 1, 0, 0, 1, 0, 1, 1, 1, 0]\n",
    "selected_cols=[]\n",
    "for idx in range(len(final_pop)):\n",
    "    if final_pop[idx]==1:\n",
    "        selected_cols.append(X.columns[idx])"
   ]
  },
  {
   "cell_type": "code",
   "execution_count": 91,
   "metadata": {},
   "outputs": [
    {
     "data": {
      "text/plain": [
       "['MI_dir_L5_mean',\n",
       " 'MI_dir_L5_variance',\n",
       " 'MI_dir_L3_weight',\n",
       " 'MI_dir_L1_weight',\n",
       " 'MI_dir_L0.1_mean',\n",
       " 'MI_dir_L0.01_mean',\n",
       " 'MI_dir_L0.01_variance',\n",
       " 'H_L5_weight',\n",
       " 'H_L3_weight',\n",
       " 'H_L3_variance',\n",
       " 'H_L1_weight',\n",
       " 'H_L1_mean',\n",
       " 'H_L0.1_weight',\n",
       " 'H_L0.1_variance',\n",
       " 'H_L0.01_weight',\n",
       " 'H_L0.01_variance',\n",
       " 'HH_L5_mean',\n",
       " 'HH_L5_std',\n",
       " 'HH_L5_magnitude',\n",
       " 'HH_L5_covariance',\n",
       " 'HH_L5_pcc',\n",
       " 'HH_L3_weight',\n",
       " 'HH_L3_std',\n",
       " 'HH_L3_magnitude',\n",
       " 'HH_L3_radius',\n",
       " 'HH_L1_magnitude',\n",
       " 'HH_L0.1_weight',\n",
       " 'HH_L0.1_mean',\n",
       " 'HH_L0.1_std',\n",
       " 'HH_L0.1_magnitude',\n",
       " 'HH_L0.1_radius',\n",
       " 'HH_L0.1_covariance',\n",
       " 'HH_L0.01_std',\n",
       " 'HH_L0.01_magnitude',\n",
       " 'HH_jit_L5_mean',\n",
       " 'HH_jit_L5_variance',\n",
       " 'HH_jit_L3_weight',\n",
       " 'HH_jit_L3_variance',\n",
       " 'HH_jit_L1_mean',\n",
       " 'HH_jit_L0.1_weight',\n",
       " 'HH_jit_L0.1_mean',\n",
       " 'HH_jit_L0.01_weight',\n",
       " 'HH_jit_L0.01_mean',\n",
       " 'HpHp_L5_mean',\n",
       " 'HpHp_L3_mean',\n",
       " 'HpHp_L3_covariance',\n",
       " 'HpHp_L3_pcc',\n",
       " 'HpHp_L1_std',\n",
       " 'HpHp_L1_covariance',\n",
       " 'HpHp_L1_pcc',\n",
       " 'HpHp_L0.1_weight',\n",
       " 'HpHp_L0.1_magnitude',\n",
       " 'HpHp_L0.1_radius',\n",
       " 'HpHp_L0.1_covariance',\n",
       " 'HpHp_L0.01_weight',\n",
       " 'HpHp_L0.01_std',\n",
       " 'HpHp_L0.01_covariance',\n",
       " 'source_danmini_doorbell',\n",
       " 'source_philips_sec_cam',\n",
       " 'source_samsung']"
      ]
     },
     "execution_count": 91,
     "metadata": {},
     "output_type": "execute_result"
    }
   ],
   "source": [
    "selected_cols"
   ]
  },
  {
   "cell_type": "code",
   "execution_count": 14,
   "metadata": {},
   "outputs": [
    {
     "data": {
      "text/plain": [
       "60"
      ]
     },
     "execution_count": 14,
     "metadata": {},
     "output_type": "execute_result"
    }
   ],
   "source": [
    "sum([0, 1, 1, 1, 0, 0, 1, 0, 0, 0, 1, 0, 0, 1, 1, 1, 0, 0, 1, 0, 1, 1, 1, 0, 1, 0, 1, 1, 0, 1, 0, 1, 1, 1, 0, 1, 1, 1, 0, 1, 1, 1, 0, 0, 0, 0, 0, 1, 0, 0, 0, 1, 1, 1, 1, 1, 1, 0, 0, 0, 1, 1, 0, 0, 0, 0, 1, 1, 1, 0, 1, 0, 1, 0, 1, 1, 0, 1, 1, 0, 0, 1, 0, 0, 0, 0, 0, 0, 1, 0, 0, 0, 1, 1, 0, 0, 1, 0, 0, 1, 1, 1, 0, 0, 1, 1, 1, 0, 1, 0, 1, 0, 0, 1, 0, 1, 1, 1, 0])"
   ]
  },
  {
   "cell_type": "code",
   "execution_count": 92,
   "metadata": {},
   "outputs": [],
   "source": [
    "model=LogisticRegression(solver='lbfgs')"
   ]
  },
  {
   "cell_type": "code",
   "execution_count": 93,
   "metadata": {},
   "outputs": [],
   "source": [
    "temp_Xtrain=pd.DataFrame(X_train,columns=X.columns)"
   ]
  },
  {
   "cell_type": "code",
   "execution_count": 94,
   "metadata": {},
   "outputs": [],
   "source": [
    "X_test_subset=X_test[selected_cols]\n",
    "X_train_subset=temp_Xtrain[selected_cols]"
   ]
  },
  {
   "cell_type": "code",
   "execution_count": 95,
   "metadata": {},
   "outputs": [
    {
     "data": {
      "text/plain": [
       "LogisticRegression(C=1.0, class_weight=None, dual=False, fit_intercept=True,\n",
       "                   intercept_scaling=1, l1_ratio=None, max_iter=100,\n",
       "                   multi_class='warn', n_jobs=None, penalty='l2',\n",
       "                   random_state=None, solver='lbfgs', tol=0.0001, verbose=0,\n",
       "                   warm_start=False)"
      ]
     },
     "execution_count": 95,
     "metadata": {},
     "output_type": "execute_result"
    }
   ],
   "source": [
    "model.fit(X_train_subset,y_train)"
   ]
  },
  {
   "cell_type": "code",
   "execution_count": 96,
   "metadata": {},
   "outputs": [],
   "source": [
    "preds=model.predict(X_test_subset)"
   ]
  },
  {
   "cell_type": "code",
   "execution_count": 97,
   "metadata": {},
   "outputs": [
    {
     "data": {
      "text/plain": [
       "60"
      ]
     },
     "execution_count": 97,
     "metadata": {},
     "output_type": "execute_result"
    }
   ],
   "source": [
    "len(selected_cols)"
   ]
  },
  {
   "cell_type": "code",
   "execution_count": 98,
   "metadata": {},
   "outputs": [
    {
     "name": "stdout",
     "output_type": "stream",
     "text": [
      "              precision    recall  f1-score   support\n",
      "\n",
      "           0       1.00      1.00      1.00      2238\n",
      "           1       1.00      1.00      1.00      2512\n",
      "\n",
      "    accuracy                           1.00      4750\n",
      "   macro avg       1.00      1.00      1.00      4750\n",
      "weighted avg       1.00      1.00      1.00      4750\n",
      "\n"
     ]
    }
   ],
   "source": [
    "from sklearn.metrics import classification_report\n",
    "print(classification_report(y_test,preds))"
   ]
  },
  {
   "cell_type": "code",
   "execution_count": 118,
   "metadata": {},
   "outputs": [
    {
     "data": {
      "text/plain": [
       "<AxesSubplot:xlabel='H_L0.1_weight', ylabel='HpHp_L0.1_magnitude'>"
      ]
     },
     "execution_count": 118,
     "metadata": {},
     "output_type": "execute_result"
    },
    {
     "data": {
      "image/png": "[encoded data removed]",
      "text/plain": [
       "<Figure size 432x288 with 1 Axes>"
      ]
     },
     "metadata": {
      "needs_background": "light"
     },
     "output_type": "display_data"
    }
   ],
   "source": [
    "num1=12\n",
    "num2=51\n",
    "sns.scatterplot(x=selected_cols[num1],y=selected_cols[num2],hue='output',data=data)"
   ]
  },
  {
   "cell_type": "code",
   "execution_count": 105,
   "metadata": {},
   "outputs": [
    {
     "data": {
      "text/plain": [
       "benign    10000\n",
       "attack     9000\n",
       "Name: output, dtype: int64"
      ]
     },
     "execution_count": 105,
     "metadata": {},
     "output_type": "execute_result"
    }
   ],
   "source": [
    "data['output'].value_counts()"
   ]
  },
  {
   "cell_type": "markdown",
   "metadata": {},
   "source": [
    "# Test on a set of 2 features"
   ]
  },
  {
   "cell_type": "code",
   "execution_count": 119,
   "metadata": {},
   "outputs": [],
   "source": [
    "test=temp[[selected_cols[num1],selected_cols[num2],'output']]"
   ]
  },
  {
   "cell_type": "code",
   "execution_count": 120,
   "metadata": {},
   "outputs": [
    {
     "data": {
      "text/html": [
       "<div>\n",
       "<style scoped>\n",
       "    .dataframe tbody tr th:only-of-type {\n",
       "        vertical-align: middle;\n",
       "    }\n",
       "\n",
       "    .dataframe tbody tr th {\n",
       "        vertical-align: top;\n",
       "    }\n",
       "\n",
       "    .dataframe thead th {\n",
       "        text-align: right;\n",
       "    }\n",
       "</style>\n",
       "<table border=\"1\" class=\"dataframe\">\n",
       "  <thead>\n",
       "    <tr style=\"text-align: right;\">\n",
       "      <th></th>\n",
       "      <th>H_L0.1_weight</th>\n",
       "      <th>HpHp_L0.1_magnitude</th>\n",
       "      <th>output</th>\n",
       "    </tr>\n",
       "  </thead>\n",
       "  <tbody>\n",
       "    <tr>\n",
       "      <th>0</th>\n",
       "      <td>7598.895006</td>\n",
       "      <td>74.000000</td>\n",
       "      <td>0</td>\n",
       "    </tr>\n",
       "    <tr>\n",
       "      <th>1</th>\n",
       "      <td>7180.838896</td>\n",
       "      <td>95.268043</td>\n",
       "      <td>0</td>\n",
       "    </tr>\n",
       "    <tr>\n",
       "      <th>2</th>\n",
       "      <td>2.910554</td>\n",
       "      <td>431.490440</td>\n",
       "      <td>1</td>\n",
       "    </tr>\n",
       "    <tr>\n",
       "      <th>3</th>\n",
       "      <td>2.730297</td>\n",
       "      <td>431.490440</td>\n",
       "      <td>1</td>\n",
       "    </tr>\n",
       "    <tr>\n",
       "      <th>4</th>\n",
       "      <td>9.305787</td>\n",
       "      <td>116.057165</td>\n",
       "      <td>1</td>\n",
       "    </tr>\n",
       "  </tbody>\n",
       "</table>\n",
       "</div>"
      ],
      "text/plain": [
       "   H_L0.1_weight  HpHp_L0.1_magnitude  output\n",
       "0    7598.895006            74.000000       0\n",
       "1    7180.838896            95.268043       0\n",
       "2       2.910554           431.490440       1\n",
       "3       2.730297           431.490440       1\n",
       "4       9.305787           116.057165       1"
      ]
     },
     "execution_count": 120,
     "metadata": {},
     "output_type": "execute_result"
    }
   ],
   "source": [
    "test.head()"
   ]
  },
  {
   "cell_type": "code",
   "execution_count": 121,
   "metadata": {},
   "outputs": [
    {
     "name": "stdout",
     "output_type": "stream",
     "text": [
      "              precision    recall  f1-score   support\n",
      "\n",
      "           0       1.00      1.00      1.00      2241\n",
      "           1       1.00      1.00      1.00      2509\n",
      "\n",
      "    accuracy                           1.00      4750\n",
      "   macro avg       1.00      1.00      1.00      4750\n",
      "weighted avg       1.00      1.00      1.00      4750\n",
      "\n"
     ]
    }
   ],
   "source": [
    "X=test.drop('output',axis=1)\n",
    "y=test['output']\n",
    "X_train,X_test,y_train,y_test=train_test_split(X,y)\n",
    "model=LogisticRegression(solver='lbfgs')\n",
    "model.fit(X_train,y_train)\n",
    "pred=model.predict(X_test)\n",
    "print(classification_report(y_test,pred))"
   ]
  },
  {
   "cell_type": "code",
   "execution_count": 62,
   "metadata": {},
   "outputs": [],
   "source": [
    "tempx=pd.DataFrame(X)"
   ]
  },
  {
   "cell_type": "code",
   "execution_count": 64,
   "metadata": {},
   "outputs": [
    {
     "data": {
      "text/html": [
       "<div>\n",
       "<style scoped>\n",
       "    .dataframe tbody tr th:only-of-type {\n",
       "        vertical-align: middle;\n",
       "    }\n",
       "\n",
       "    .dataframe tbody tr th {\n",
       "        vertical-align: top;\n",
       "    }\n",
       "\n",
       "    .dataframe thead th {\n",
       "        text-align: right;\n",
       "    }\n",
       "</style>\n",
       "<table border=\"1\" class=\"dataframe\">\n",
       "  <thead>\n",
       "    <tr style=\"text-align: right;\">\n",
       "      <th></th>\n",
       "      <th>0</th>\n",
       "      <th>1</th>\n",
       "      <th>2</th>\n",
       "      <th>3</th>\n",
       "      <th>4</th>\n",
       "      <th>5</th>\n",
       "      <th>6</th>\n",
       "      <th>7</th>\n",
       "      <th>8</th>\n",
       "      <th>9</th>\n",
       "      <th>...</th>\n",
       "      <th>109</th>\n",
       "      <th>110</th>\n",
       "      <th>111</th>\n",
       "      <th>112</th>\n",
       "      <th>113</th>\n",
       "      <th>114</th>\n",
       "      <th>115</th>\n",
       "      <th>116</th>\n",
       "      <th>117</th>\n",
       "      <th>118</th>\n",
       "    </tr>\n",
       "  </thead>\n",
       "  <tbody>\n",
       "    <tr>\n",
       "      <th>count</th>\n",
       "      <td>9.500000e+03</td>\n",
       "      <td>9500.000000</td>\n",
       "      <td>9500.000000</td>\n",
       "      <td>9500.000000</td>\n",
       "      <td>9500.000000</td>\n",
       "      <td>9.500000e+03</td>\n",
       "      <td>9500.000000</td>\n",
       "      <td>9500.000000</td>\n",
       "      <td>9.500000e+03</td>\n",
       "      <td>9.500000e+03</td>\n",
       "      <td>...</td>\n",
       "      <td>9500.000000</td>\n",
       "      <td>9.500000e+03</td>\n",
       "      <td>9500.000000</td>\n",
       "      <td>9.500000e+03</td>\n",
       "      <td>9500.000000</td>\n",
       "      <td>9500.000000</td>\n",
       "      <td>9500.000000</td>\n",
       "      <td>9500.000000</td>\n",
       "      <td>9500.000000</td>\n",
       "      <td>9500.000000</td>\n",
       "    </tr>\n",
       "    <tr>\n",
       "      <th>mean</th>\n",
       "      <td>4.432100e-01</td>\n",
       "      <td>0.424280</td>\n",
       "      <td>3.773174</td>\n",
       "      <td>0.452177</td>\n",
       "      <td>0.423198</td>\n",
       "      <td>3.048743e+00</td>\n",
       "      <td>0.485475</td>\n",
       "      <td>0.384922</td>\n",
       "      <td>2.485858e+00</td>\n",
       "      <td>4.865139e-01</td>\n",
       "      <td>...</td>\n",
       "      <td>0.421233</td>\n",
       "      <td>7.503808e+00</td>\n",
       "      <td>0.296221</td>\n",
       "      <td>2.364990e+01</td>\n",
       "      <td>-0.000176</td>\n",
       "      <td>0.003476</td>\n",
       "      <td>0.210526</td>\n",
       "      <td>0.421053</td>\n",
       "      <td>0.157895</td>\n",
       "      <td>0.210526</td>\n",
       "    </tr>\n",
       "    <tr>\n",
       "      <th>std</th>\n",
       "      <td>5.004530e-01</td>\n",
       "      <td>0.649124</td>\n",
       "      <td>9.470276</td>\n",
       "      <td>0.501168</td>\n",
       "      <td>0.631599</td>\n",
       "      <td>7.126274e+00</td>\n",
       "      <td>0.526319</td>\n",
       "      <td>0.563163</td>\n",
       "      <td>5.275627e+00</td>\n",
       "      <td>5.261389e-01</td>\n",
       "      <td>...</td>\n",
       "      <td>0.733515</td>\n",
       "      <td>2.717888e+01</td>\n",
       "      <td>0.569562</td>\n",
       "      <td>1.690988e+02</td>\n",
       "      <td>0.015585</td>\n",
       "      <td>0.042702</td>\n",
       "      <td>0.407704</td>\n",
       "      <td>0.493754</td>\n",
       "      <td>0.364661</td>\n",
       "      <td>0.407704</td>\n",
       "    </tr>\n",
       "    <tr>\n",
       "      <th>min</th>\n",
       "      <td>-1.971530e-02</td>\n",
       "      <td>-0.062426</td>\n",
       "      <td>-0.000313</td>\n",
       "      <td>-0.014469</td>\n",
       "      <td>-0.064137</td>\n",
       "      <td>-5.524442e-04</td>\n",
       "      <td>-0.005826</td>\n",
       "      <td>-0.065184</td>\n",
       "      <td>-1.364356e-02</td>\n",
       "      <td>-2.188621e-03</td>\n",
       "      <td>...</td>\n",
       "      <td>-0.053270</td>\n",
       "      <td>-8.080768e-07</td>\n",
       "      <td>-0.159943</td>\n",
       "      <td>-5.043427e-15</td>\n",
       "      <td>-0.697674</td>\n",
       "      <td>-0.589781</td>\n",
       "      <td>0.000000</td>\n",
       "      <td>0.000000</td>\n",
       "      <td>0.000000</td>\n",
       "      <td>0.000000</td>\n",
       "    </tr>\n",
       "    <tr>\n",
       "      <th>25%</th>\n",
       "      <td>-1.910876e-02</td>\n",
       "      <td>-0.008000</td>\n",
       "      <td>-0.000313</td>\n",
       "      <td>-0.013380</td>\n",
       "      <td>-0.009580</td>\n",
       "      <td>-5.497041e-04</td>\n",
       "      <td>-0.004614</td>\n",
       "      <td>-0.014873</td>\n",
       "      <td>-1.340195e-02</td>\n",
       "      <td>-1.572453e-03</td>\n",
       "      <td>...</td>\n",
       "      <td>-0.026441</td>\n",
       "      <td>-8.080768e-07</td>\n",
       "      <td>-0.088246</td>\n",
       "      <td>-5.043427e-15</td>\n",
       "      <td>0.000000</td>\n",
       "      <td>0.000000</td>\n",
       "      <td>0.000000</td>\n",
       "      <td>0.000000</td>\n",
       "      <td>0.000000</td>\n",
       "      <td>0.000000</td>\n",
       "    </tr>\n",
       "    <tr>\n",
       "      <th>50%</th>\n",
       "      <td>-1.718947e-18</td>\n",
       "      <td>0.000000</td>\n",
       "      <td>0.000000</td>\n",
       "      <td>0.000000</td>\n",
       "      <td>0.000000</td>\n",
       "      <td>-4.501682e-20</td>\n",
       "      <td>0.000000</td>\n",
       "      <td>0.000000</td>\n",
       "      <td>-9.931461e-19</td>\n",
       "      <td>-1.359488e-19</td>\n",
       "      <td>...</td>\n",
       "      <td>0.000000</td>\n",
       "      <td>0.000000e+00</td>\n",
       "      <td>0.000000</td>\n",
       "      <td>0.000000e+00</td>\n",
       "      <td>0.000000</td>\n",
       "      <td>0.000000</td>\n",
       "      <td>0.000000</td>\n",
       "      <td>0.000000</td>\n",
       "      <td>0.000000</td>\n",
       "      <td>0.000000</td>\n",
       "    </tr>\n",
       "    <tr>\n",
       "      <th>75%</th>\n",
       "      <td>9.808912e-01</td>\n",
       "      <td>0.992000</td>\n",
       "      <td>0.999687</td>\n",
       "      <td>0.986620</td>\n",
       "      <td>0.990420</td>\n",
       "      <td>9.994503e-01</td>\n",
       "      <td>0.995386</td>\n",
       "      <td>0.985127</td>\n",
       "      <td>9.865981e-01</td>\n",
       "      <td>9.984275e-01</td>\n",
       "      <td>...</td>\n",
       "      <td>0.973559</td>\n",
       "      <td>9.999992e-01</td>\n",
       "      <td>0.911754</td>\n",
       "      <td>1.000000e+00</td>\n",
       "      <td>0.000000</td>\n",
       "      <td>0.000000</td>\n",
       "      <td>0.000000</td>\n",
       "      <td>1.000000</td>\n",
       "      <td>0.000000</td>\n",
       "      <td>0.000000</td>\n",
       "    </tr>\n",
       "    <tr>\n",
       "      <th>max</th>\n",
       "      <td>1.962096e+00</td>\n",
       "      <td>5.373480</td>\n",
       "      <td>152.983932</td>\n",
       "      <td>1.630330</td>\n",
       "      <td>5.363202</td>\n",
       "      <td>1.062896e+02</td>\n",
       "      <td>1.310967</td>\n",
       "      <td>4.851360</td>\n",
       "      <td>7.328584e+01</td>\n",
       "      <td>1.251246e+00</td>\n",
       "      <td>...</td>\n",
       "      <td>5.177891</td>\n",
       "      <td>5.419436e+02</td>\n",
       "      <td>3.810602</td>\n",
       "      <td>2.368760e+03</td>\n",
       "      <td>0.302326</td>\n",
       "      <td>0.410219</td>\n",
       "      <td>1.000000</td>\n",
       "      <td>1.000000</td>\n",
       "      <td>1.000000</td>\n",
       "      <td>1.000000</td>\n",
       "    </tr>\n",
       "  </tbody>\n",
       "</table>\n",
       "<p>8 rows × 119 columns</p>\n",
       "</div>"
      ],
      "text/plain": [
       "                0            1            2            3            4    \\\n",
       "count  9.500000e+03  9500.000000  9500.000000  9500.000000  9500.000000   \n",
       "mean   4.432100e-01     0.424280     3.773174     0.452177     0.423198   \n",
       "std    5.004530e-01     0.649124     9.470276     0.501168     0.631599   \n",
       "min   -1.971530e-02    -0.062426    -0.000313    -0.014469    -0.064137   \n",
       "25%   -1.910876e-02    -0.008000    -0.000313    -0.013380    -0.009580   \n",
       "50%   -1.718947e-18     0.000000     0.000000     0.000000     0.000000   \n",
       "75%    9.808912e-01     0.992000     0.999687     0.986620     0.990420   \n",
       "max    1.962096e+00     5.373480   152.983932     1.630330     5.363202   \n",
       "\n",
       "                5            6            7             8             9    \\\n",
       "count  9.500000e+03  9500.000000  9500.000000  9.500000e+03  9.500000e+03   \n",
       "mean   3.048743e+00     0.485475     0.384922  2.485858e+00  4.865139e-01   \n",
       "std    7.126274e+00     0.526319     0.563163  5.275627e+00  5.261389e-01   \n",
       "min   -5.524442e-04    -0.005826    -0.065184 -1.364356e-02 -2.188621e-03   \n",
       "25%   -5.497041e-04    -0.004614    -0.014873 -1.340195e-02 -1.572453e-03   \n",
       "50%   -4.501682e-20     0.000000     0.000000 -9.931461e-19 -1.359488e-19   \n",
       "75%    9.994503e-01     0.995386     0.985127  9.865981e-01  9.984275e-01   \n",
       "max    1.062896e+02     1.310967     4.851360  7.328584e+01  1.251246e+00   \n",
       "\n",
       "       ...          109           110          111           112          113  \\\n",
       "count  ...  9500.000000  9.500000e+03  9500.000000  9.500000e+03  9500.000000   \n",
       "mean   ...     0.421233  7.503808e+00     0.296221  2.364990e+01    -0.000176   \n",
       "std    ...     0.733515  2.717888e+01     0.569562  1.690988e+02     0.015585   \n",
       "min    ...    -0.053270 -8.080768e-07    -0.159943 -5.043427e-15    -0.697674   \n",
       "25%    ...    -0.026441 -8.080768e-07    -0.088246 -5.043427e-15     0.000000   \n",
       "50%    ...     0.000000  0.000000e+00     0.000000  0.000000e+00     0.000000   \n",
       "75%    ...     0.973559  9.999992e-01     0.911754  1.000000e+00     0.000000   \n",
       "max    ...     5.177891  5.419436e+02     3.810602  2.368760e+03     0.302326   \n",
       "\n",
       "               114          115          116          117          118  \n",
       "count  9500.000000  9500.000000  9500.000000  9500.000000  9500.000000  \n",
       "mean      0.003476     0.210526     0.421053     0.157895     0.210526  \n",
       "std       0.042702     0.407704     0.493754     0.364661     0.407704  \n",
       "min      -0.589781     0.000000     0.000000     0.000000     0.000000  \n",
       "25%       0.000000     0.000000     0.000000     0.000000     0.000000  \n",
       "50%       0.000000     0.000000     0.000000     0.000000     0.000000  \n",
       "75%       0.000000     0.000000     1.000000     0.000000     0.000000  \n",
       "max       0.410219     1.000000     1.000000     1.000000     1.000000  \n",
       "\n",
       "[8 rows x 119 columns]"
      ]
     },
     "execution_count": 64,
     "metadata": {},
     "output_type": "execute_result"
    }
   ],
   "source": [
    "tempx.describe()"
   ]
  },
  {
   "cell_type": "markdown",
   "metadata": {},
   "source": [
    "# KDD"
   ]
  },
  {
   "cell_type": "code",
   "execution_count": 7,
   "metadata": {},
   "outputs": [],
   "source": [
    "names=\"\"\"duration: continuous.\n",
    "protocol_type: symbolic.\n",
    "service: symbolic.\n",
    "flag: symbolic.\n",
    "src_bytes: continuous.\n",
    "dst_bytes: continuous.\n",
    "land: symbolic.\n",
    "wrong_fragment: continuous.\n",
    "urgent: continuous.\n",
    "hot: continuous.\n",
    "num_failed_logins: continuous.\n",
    "logged_in: symbolic.\n",
    "num_compromised: continuous.\n",
    "root_shell: continuous.\n",
    "su_attempted: continuous.\n",
    "num_root: continuous.\n",
    "num_file_creations: continuous.\n",
    "num_shells: continuous.\n",
    "num_access_files: continuous.\n",
    "num_outbound_cmds: continuous.\n",
    "is_host_login: symbolic.\n",
    "is_guest_login: symbolic.\n",
    "count: continuous.\n",
    "srv_count: continuous.\n",
    "serror_rate: continuous.\n",
    "srv_serror_rate: continuous.\n",
    "rerror_rate: continuous.\n",
    "srv_rerror_rate: continuous.\n",
    "same_srv_rate: continuous.\n",
    "diff_srv_rate: continuous.\n",
    "srv_diff_host_rate: continuous.\n",
    "dst_host_count: continuous.\n",
    "dst_host_srv_count: continuous.\n",
    "dst_host_same_srv_rate: continuous.\n",
    "dst_host_diff_srv_rate: continuous.\n",
    "dst_host_same_src_port_rate: continuous.\n",
    "dst_host_srv_diff_host_rate: continuous.\n",
    "dst_host_serror_rate: continuous.\n",
    "dst_host_srv_serror_rate: continuous.\n",
    "dst_host_rerror_rate: continuous.\n",
    "dst_host_srv_rerror_rate: continuous.\"\"\"\n",
    "names=names.split(\"\\n\")"
   ]
  },
  {
   "cell_type": "code",
   "execution_count": 8,
   "metadata": {},
   "outputs": [],
   "source": [
    "final_names=[]\n",
    "for obj in names:\n",
    "    idx=obj.index(\":\")\n",
    "    colname=obj[:idx]\n",
    "    final_names.append(colname)"
   ]
  },
  {
   "cell_type": "code",
   "execution_count": 9,
   "metadata": {},
   "outputs": [
    {
     "data": {
      "text/plain": [
       "['duration',\n",
       " 'protocol_type',\n",
       " 'service',\n",
       " 'flag',\n",
       " 'src_bytes',\n",
       " 'dst_bytes',\n",
       " 'land',\n",
       " 'wrong_fragment',\n",
       " 'urgent',\n",
       " 'hot',\n",
       " 'num_failed_logins',\n",
       " 'logged_in',\n",
       " 'num_compromised',\n",
       " 'root_shell',\n",
       " 'su_attempted',\n",
       " 'num_root',\n",
       " 'num_file_creations',\n",
       " 'num_shells',\n",
       " 'num_access_files',\n",
       " 'num_outbound_cmds',\n",
       " 'is_host_login',\n",
       " 'is_guest_login',\n",
       " 'count',\n",
       " 'srv_count',\n",
       " 'serror_rate',\n",
       " 'srv_serror_rate',\n",
       " 'rerror_rate',\n",
       " 'srv_rerror_rate',\n",
       " 'same_srv_rate',\n",
       " 'diff_srv_rate',\n",
       " 'srv_diff_host_rate',\n",
       " 'dst_host_count',\n",
       " 'dst_host_srv_count',\n",
       " 'dst_host_same_srv_rate',\n",
       " 'dst_host_diff_srv_rate',\n",
       " 'dst_host_same_src_port_rate',\n",
       " 'dst_host_srv_diff_host_rate',\n",
       " 'dst_host_serror_rate',\n",
       " 'dst_host_srv_serror_rate',\n",
       " 'dst_host_rerror_rate',\n",
       " 'dst_host_srv_rerror_rate']"
      ]
     },
     "execution_count": 9,
     "metadata": {},
     "output_type": "execute_result"
    }
   ],
   "source": [
    "final_names"
   ]
  },
  {
   "cell_type": "code",
   "execution_count": 9,
   "metadata": {},
   "outputs": [
    {
     "data": {
      "text/plain": [
       "41"
      ]
     },
     "execution_count": 9,
     "metadata": {},
     "output_type": "execute_result"
    }
   ],
   "source": [
    "len(final_names)"
   ]
  },
  {
   "cell_type": "code",
   "execution_count": null,
   "metadata": {},
   "outputs": [],
   "source": []
  },
  {
   "cell_type": "code",
   "execution_count": 10,
   "metadata": {},
   "outputs": [],
   "source": [
    "final_names.append('output')\n",
    "kdd=pd.read_csv('kddcup.data_10_percent/kddcup.data_10_percent_corrected',names=final_names)"
   ]
  },
  {
   "cell_type": "code",
   "execution_count": 11,
   "metadata": {},
   "outputs": [
    {
     "data": {
      "text/plain": [
       "(494021, 42)"
      ]
     },
     "execution_count": 11,
     "metadata": {},
     "output_type": "execute_result"
    }
   ],
   "source": [
    "kdd.shape"
   ]
  },
  {
   "cell_type": "code",
   "execution_count": 13,
   "metadata": {},
   "outputs": [
    {
     "data": {
      "text/plain": [
       "23"
      ]
     },
     "execution_count": 13,
     "metadata": {},
     "output_type": "execute_result"
    }
   ],
   "source": [
    "len(kdd['output'].value_counts())"
   ]
  },
  {
   "cell_type": "code",
   "execution_count": null,
   "metadata": {},
   "outputs": [],
   "source": []
  },
  {
   "cell_type": "code",
   "execution_count": null,
   "metadata": {},
   "outputs": [],
   "source": []
  },
  {
   "cell_type": "markdown",
   "metadata": {},
   "source": [
    "# Data Preprocessing on the KDD Dataset"
   ]
  },
  {
   "cell_type": "code",
   "execution_count": 24,
   "metadata": {},
   "outputs": [
    {
     "data": {
      "text/plain": [
       "3"
      ]
     },
     "execution_count": 24,
     "metadata": {},
     "output_type": "execute_result"
    }
   ],
   "source": [
    "len(kdd['protocol_type'].value_counts())"
   ]
  },
  {
   "cell_type": "code",
   "execution_count": 23,
   "metadata": {},
   "outputs": [
    {
     "data": {
      "text/plain": [
       "66"
      ]
     },
     "execution_count": 23,
     "metadata": {},
     "output_type": "execute_result"
    }
   ],
   "source": [
    "len(kdd['service'].value_counts())"
   ]
  },
  {
   "cell_type": "code",
   "execution_count": 22,
   "metadata": {},
   "outputs": [
    {
     "data": {
      "text/plain": [
       "11"
      ]
     },
     "execution_count": 22,
     "metadata": {},
     "output_type": "execute_result"
    }
   ],
   "source": [
    "len(kdd['flag'].value_counts())"
   ]
  },
  {
   "cell_type": "code",
   "execution_count": 14,
   "metadata": {},
   "outputs": [],
   "source": [
    "temp=kdd.copy()"
   ]
  },
  {
   "cell_type": "code",
   "execution_count": 15,
   "metadata": {},
   "outputs": [],
   "source": [
    "categoricals=['output','protocol_type','service','flag']\n",
    "continuous=temp.drop(categoricals,axis=1).columns"
   ]
  },
  {
   "cell_type": "code",
   "execution_count": 16,
   "metadata": {},
   "outputs": [],
   "source": [
    "temp[continuous]=scaler.fit_transform(temp[continuous])"
   ]
  },
  {
   "cell_type": "code",
   "execution_count": 17,
   "metadata": {},
   "outputs": [],
   "source": [
    "label_encoder=LabelEncoder()"
   ]
  },
  {
   "cell_type": "code",
   "execution_count": 18,
   "metadata": {},
   "outputs": [],
   "source": [
    "temp['output']=label_encoder.fit_transform(temp['output'])"
   ]
  },
  {
   "cell_type": "code",
   "execution_count": 12,
   "metadata": {},
   "outputs": [],
   "source": [
    "temp2=pd.get_dummies(temp,columns=['protocol_type'])\n",
    "temp=temp2"
   ]
  },
  {
   "cell_type": "code",
   "execution_count": 13,
   "metadata": {},
   "outputs": [],
   "source": [
    "label_encoder=LabelEncoder()\n",
    "temp['service']=label_encoder.fit_transform(temp['service'])"
   ]
  },
  {
   "cell_type": "code",
   "execution_count": 14,
   "metadata": {},
   "outputs": [],
   "source": [
    "label_encoder=LabelEncoder()\n",
    "temp['flag']=label_encoder.fit_transform(temp['flag'])"
   ]
  },
  {
   "cell_type": "code",
   "execution_count": 24,
   "metadata": {},
   "outputs": [
    {
     "data": {
      "text/html": [
       "<div>\n",
       "<style scoped>\n",
       "    .dataframe tbody tr th:only-of-type {\n",
       "        vertical-align: middle;\n",
       "    }\n",
       "\n",
       "    .dataframe tbody tr th {\n",
       "        vertical-align: top;\n",
       "    }\n",
       "\n",
       "    .dataframe thead th {\n",
       "        text-align: right;\n",
       "    }\n",
       "</style>\n",
       "<table border=\"1\" class=\"dataframe\">\n",
       "  <thead>\n",
       "    <tr style=\"text-align: right;\">\n",
       "      <th></th>\n",
       "      <th>duration</th>\n",
       "      <th>service</th>\n",
       "      <th>flag</th>\n",
       "      <th>src_bytes</th>\n",
       "      <th>dst_bytes</th>\n",
       "      <th>land</th>\n",
       "      <th>wrong_fragment</th>\n",
       "      <th>urgent</th>\n",
       "      <th>hot</th>\n",
       "      <th>num_failed_logins</th>\n",
       "      <th>...</th>\n",
       "      <th>dst_host_same_src_port_rate</th>\n",
       "      <th>dst_host_srv_diff_host_rate</th>\n",
       "      <th>dst_host_serror_rate</th>\n",
       "      <th>dst_host_srv_serror_rate</th>\n",
       "      <th>dst_host_rerror_rate</th>\n",
       "      <th>dst_host_srv_rerror_rate</th>\n",
       "      <th>output</th>\n",
       "      <th>protocol_type_icmp</th>\n",
       "      <th>protocol_type_tcp</th>\n",
       "      <th>protocol_type_udp</th>\n",
       "    </tr>\n",
       "  </thead>\n",
       "  <tbody>\n",
       "    <tr>\n",
       "      <th>0</th>\n",
       "      <td>0.0</td>\n",
       "      <td>22</td>\n",
       "      <td>9</td>\n",
       "      <td>2.610418e-07</td>\n",
       "      <td>0.001057</td>\n",
       "      <td>0.0</td>\n",
       "      <td>0.0</td>\n",
       "      <td>0.0</td>\n",
       "      <td>0.0</td>\n",
       "      <td>0.0</td>\n",
       "      <td>...</td>\n",
       "      <td>0.11</td>\n",
       "      <td>0.0</td>\n",
       "      <td>0.0</td>\n",
       "      <td>0.0</td>\n",
       "      <td>0.0</td>\n",
       "      <td>0.0</td>\n",
       "      <td>11</td>\n",
       "      <td>0</td>\n",
       "      <td>1</td>\n",
       "      <td>0</td>\n",
       "    </tr>\n",
       "    <tr>\n",
       "      <th>1</th>\n",
       "      <td>0.0</td>\n",
       "      <td>22</td>\n",
       "      <td>9</td>\n",
       "      <td>3.446905e-07</td>\n",
       "      <td>0.000094</td>\n",
       "      <td>0.0</td>\n",
       "      <td>0.0</td>\n",
       "      <td>0.0</td>\n",
       "      <td>0.0</td>\n",
       "      <td>0.0</td>\n",
       "      <td>...</td>\n",
       "      <td>0.05</td>\n",
       "      <td>0.0</td>\n",
       "      <td>0.0</td>\n",
       "      <td>0.0</td>\n",
       "      <td>0.0</td>\n",
       "      <td>0.0</td>\n",
       "      <td>11</td>\n",
       "      <td>0</td>\n",
       "      <td>1</td>\n",
       "      <td>0</td>\n",
       "    </tr>\n",
       "    <tr>\n",
       "      <th>2</th>\n",
       "      <td>0.0</td>\n",
       "      <td>22</td>\n",
       "      <td>9</td>\n",
       "      <td>3.389216e-07</td>\n",
       "      <td>0.000259</td>\n",
       "      <td>0.0</td>\n",
       "      <td>0.0</td>\n",
       "      <td>0.0</td>\n",
       "      <td>0.0</td>\n",
       "      <td>0.0</td>\n",
       "      <td>...</td>\n",
       "      <td>0.03</td>\n",
       "      <td>0.0</td>\n",
       "      <td>0.0</td>\n",
       "      <td>0.0</td>\n",
       "      <td>0.0</td>\n",
       "      <td>0.0</td>\n",
       "      <td>11</td>\n",
       "      <td>0</td>\n",
       "      <td>1</td>\n",
       "      <td>0</td>\n",
       "    </tr>\n",
       "    <tr>\n",
       "      <th>3</th>\n",
       "      <td>0.0</td>\n",
       "      <td>22</td>\n",
       "      <td>9</td>\n",
       "      <td>3.158461e-07</td>\n",
       "      <td>0.000259</td>\n",
       "      <td>0.0</td>\n",
       "      <td>0.0</td>\n",
       "      <td>0.0</td>\n",
       "      <td>0.0</td>\n",
       "      <td>0.0</td>\n",
       "      <td>...</td>\n",
       "      <td>0.03</td>\n",
       "      <td>0.0</td>\n",
       "      <td>0.0</td>\n",
       "      <td>0.0</td>\n",
       "      <td>0.0</td>\n",
       "      <td>0.0</td>\n",
       "      <td>11</td>\n",
       "      <td>0</td>\n",
       "      <td>1</td>\n",
       "      <td>0</td>\n",
       "    </tr>\n",
       "    <tr>\n",
       "      <th>4</th>\n",
       "      <td>0.0</td>\n",
       "      <td>22</td>\n",
       "      <td>9</td>\n",
       "      <td>3.129617e-07</td>\n",
       "      <td>0.000394</td>\n",
       "      <td>0.0</td>\n",
       "      <td>0.0</td>\n",
       "      <td>0.0</td>\n",
       "      <td>0.0</td>\n",
       "      <td>0.0</td>\n",
       "      <td>...</td>\n",
       "      <td>0.02</td>\n",
       "      <td>0.0</td>\n",
       "      <td>0.0</td>\n",
       "      <td>0.0</td>\n",
       "      <td>0.0</td>\n",
       "      <td>0.0</td>\n",
       "      <td>11</td>\n",
       "      <td>0</td>\n",
       "      <td>1</td>\n",
       "      <td>0</td>\n",
       "    </tr>\n",
       "  </tbody>\n",
       "</table>\n",
       "<p>5 rows × 44 columns</p>\n",
       "</div>"
      ],
      "text/plain": [
       "   duration  service  flag     src_bytes  dst_bytes  land  wrong_fragment  \\\n",
       "0       0.0       22     9  2.610418e-07   0.001057   0.0             0.0   \n",
       "1       0.0       22     9  3.446905e-07   0.000094   0.0             0.0   \n",
       "2       0.0       22     9  3.389216e-07   0.000259   0.0             0.0   \n",
       "3       0.0       22     9  3.158461e-07   0.000259   0.0             0.0   \n",
       "4       0.0       22     9  3.129617e-07   0.000394   0.0             0.0   \n",
       "\n",
       "   urgent  hot  num_failed_logins  ...  dst_host_same_src_port_rate  \\\n",
       "0     0.0  0.0                0.0  ...                         0.11   \n",
       "1     0.0  0.0                0.0  ...                         0.05   \n",
       "2     0.0  0.0                0.0  ...                         0.03   \n",
       "3     0.0  0.0                0.0  ...                         0.03   \n",
       "4     0.0  0.0                0.0  ...                         0.02   \n",
       "\n",
       "   dst_host_srv_diff_host_rate  dst_host_serror_rate  \\\n",
       "0                          0.0                   0.0   \n",
       "1                          0.0                   0.0   \n",
       "2                          0.0                   0.0   \n",
       "3                          0.0                   0.0   \n",
       "4                          0.0                   0.0   \n",
       "\n",
       "   dst_host_srv_serror_rate  dst_host_rerror_rate  dst_host_srv_rerror_rate  \\\n",
       "0                       0.0                   0.0                       0.0   \n",
       "1                       0.0                   0.0                       0.0   \n",
       "2                       0.0                   0.0                       0.0   \n",
       "3                       0.0                   0.0                       0.0   \n",
       "4                       0.0                   0.0                       0.0   \n",
       "\n",
       "   output  protocol_type_icmp  protocol_type_tcp  protocol_type_udp  \n",
       "0      11                   0                  1                  0  \n",
       "1      11                   0                  1                  0  \n",
       "2      11                   0                  1                  0  \n",
       "3      11                   0                  1                  0  \n",
       "4      11                   0                  1                  0  \n",
       "\n",
       "[5 rows x 44 columns]"
      ]
     },
     "execution_count": 24,
     "metadata": {},
     "output_type": "execute_result"
    }
   ],
   "source": [
    "temp.head()"
   ]
  },
  {
   "cell_type": "code",
   "execution_count": 28,
   "metadata": {},
   "outputs": [
    {
     "data": {
      "text/plain": [
       "(494021, 44)"
      ]
     },
     "execution_count": 28,
     "metadata": {},
     "output_type": "execute_result"
    }
   ],
   "source": [
    "temp.shape"
   ]
  },
  {
   "cell_type": "code",
   "execution_count": 113,
   "metadata": {},
   "outputs": [],
   "source": [
    "mini_temp=temp.sample(n=20000,random_state=40)"
   ]
  },
  {
   "cell_type": "code",
   "execution_count": 114,
   "metadata": {},
   "outputs": [
    {
     "data": {
      "text/html": [
       "<div>\n",
       "<style scoped>\n",
       "    .dataframe tbody tr th:only-of-type {\n",
       "        vertical-align: middle;\n",
       "    }\n",
       "\n",
       "    .dataframe tbody tr th {\n",
       "        vertical-align: top;\n",
       "    }\n",
       "\n",
       "    .dataframe thead th {\n",
       "        text-align: right;\n",
       "    }\n",
       "</style>\n",
       "<table border=\"1\" class=\"dataframe\">\n",
       "  <thead>\n",
       "    <tr style=\"text-align: right;\">\n",
       "      <th></th>\n",
       "      <th>duration</th>\n",
       "      <th>service</th>\n",
       "      <th>flag</th>\n",
       "      <th>src_bytes</th>\n",
       "      <th>dst_bytes</th>\n",
       "      <th>land</th>\n",
       "      <th>wrong_fragment</th>\n",
       "      <th>urgent</th>\n",
       "      <th>hot</th>\n",
       "      <th>num_failed_logins</th>\n",
       "      <th>...</th>\n",
       "      <th>dst_host_same_src_port_rate</th>\n",
       "      <th>dst_host_srv_diff_host_rate</th>\n",
       "      <th>dst_host_serror_rate</th>\n",
       "      <th>dst_host_srv_serror_rate</th>\n",
       "      <th>dst_host_rerror_rate</th>\n",
       "      <th>dst_host_srv_rerror_rate</th>\n",
       "      <th>output</th>\n",
       "      <th>protocol_type_icmp</th>\n",
       "      <th>protocol_type_tcp</th>\n",
       "      <th>protocol_type_udp</th>\n",
       "    </tr>\n",
       "  </thead>\n",
       "  <tbody>\n",
       "    <tr>\n",
       "      <th>0</th>\n",
       "      <td>0.000000</td>\n",
       "      <td>45</td>\n",
       "      <td>5</td>\n",
       "      <td>0.000000e+00</td>\n",
       "      <td>0.00000</td>\n",
       "      <td>0.0</td>\n",
       "      <td>0.0</td>\n",
       "      <td>0.0</td>\n",
       "      <td>0.0</td>\n",
       "      <td>0.0</td>\n",
       "      <td>...</td>\n",
       "      <td>0.0</td>\n",
       "      <td>0.0</td>\n",
       "      <td>1.0</td>\n",
       "      <td>1.0</td>\n",
       "      <td>0.0</td>\n",
       "      <td>0.0</td>\n",
       "      <td>9</td>\n",
       "      <td>0</td>\n",
       "      <td>1</td>\n",
       "      <td>0</td>\n",
       "    </tr>\n",
       "    <tr>\n",
       "      <th>1</th>\n",
       "      <td>0.081829</td>\n",
       "      <td>40</td>\n",
       "      <td>9</td>\n",
       "      <td>2.120063e-07</td>\n",
       "      <td>0.00002</td>\n",
       "      <td>0.0</td>\n",
       "      <td>0.0</td>\n",
       "      <td>0.0</td>\n",
       "      <td>0.0</td>\n",
       "      <td>0.0</td>\n",
       "      <td>...</td>\n",
       "      <td>1.0</td>\n",
       "      <td>0.0</td>\n",
       "      <td>0.0</td>\n",
       "      <td>0.0</td>\n",
       "      <td>0.0</td>\n",
       "      <td>0.0</td>\n",
       "      <td>11</td>\n",
       "      <td>0</td>\n",
       "      <td>0</td>\n",
       "      <td>1</td>\n",
       "    </tr>\n",
       "    <tr>\n",
       "      <th>2</th>\n",
       "      <td>0.000000</td>\n",
       "      <td>14</td>\n",
       "      <td>9</td>\n",
       "      <td>1.488371e-06</td>\n",
       "      <td>0.00000</td>\n",
       "      <td>0.0</td>\n",
       "      <td>0.0</td>\n",
       "      <td>0.0</td>\n",
       "      <td>0.0</td>\n",
       "      <td>0.0</td>\n",
       "      <td>...</td>\n",
       "      <td>1.0</td>\n",
       "      <td>0.0</td>\n",
       "      <td>0.0</td>\n",
       "      <td>0.0</td>\n",
       "      <td>0.0</td>\n",
       "      <td>0.0</td>\n",
       "      <td>18</td>\n",
       "      <td>1</td>\n",
       "      <td>0</td>\n",
       "      <td>0</td>\n",
       "    </tr>\n",
       "    <tr>\n",
       "      <th>3</th>\n",
       "      <td>0.000000</td>\n",
       "      <td>14</td>\n",
       "      <td>9</td>\n",
       "      <td>1.488371e-06</td>\n",
       "      <td>0.00000</td>\n",
       "      <td>0.0</td>\n",
       "      <td>0.0</td>\n",
       "      <td>0.0</td>\n",
       "      <td>0.0</td>\n",
       "      <td>0.0</td>\n",
       "      <td>...</td>\n",
       "      <td>1.0</td>\n",
       "      <td>0.0</td>\n",
       "      <td>0.0</td>\n",
       "      <td>0.0</td>\n",
       "      <td>0.0</td>\n",
       "      <td>0.0</td>\n",
       "      <td>18</td>\n",
       "      <td>1</td>\n",
       "      <td>0</td>\n",
       "      <td>0</td>\n",
       "    </tr>\n",
       "    <tr>\n",
       "      <th>4</th>\n",
       "      <td>0.000000</td>\n",
       "      <td>14</td>\n",
       "      <td>9</td>\n",
       "      <td>1.488371e-06</td>\n",
       "      <td>0.00000</td>\n",
       "      <td>0.0</td>\n",
       "      <td>0.0</td>\n",
       "      <td>0.0</td>\n",
       "      <td>0.0</td>\n",
       "      <td>0.0</td>\n",
       "      <td>...</td>\n",
       "      <td>1.0</td>\n",
       "      <td>0.0</td>\n",
       "      <td>0.0</td>\n",
       "      <td>0.0</td>\n",
       "      <td>0.0</td>\n",
       "      <td>0.0</td>\n",
       "      <td>18</td>\n",
       "      <td>1</td>\n",
       "      <td>0</td>\n",
       "      <td>0</td>\n",
       "    </tr>\n",
       "  </tbody>\n",
       "</table>\n",
       "<p>5 rows × 44 columns</p>\n",
       "</div>"
      ],
      "text/plain": [
       "   duration  service  flag     src_bytes  dst_bytes  land  wrong_fragment  \\\n",
       "0  0.000000       45     5  0.000000e+00    0.00000   0.0             0.0   \n",
       "1  0.081829       40     9  2.120063e-07    0.00002   0.0             0.0   \n",
       "2  0.000000       14     9  1.488371e-06    0.00000   0.0             0.0   \n",
       "3  0.000000       14     9  1.488371e-06    0.00000   0.0             0.0   \n",
       "4  0.000000       14     9  1.488371e-06    0.00000   0.0             0.0   \n",
       "\n",
       "   urgent  hot  num_failed_logins  ...  dst_host_same_src_port_rate  \\\n",
       "0     0.0  0.0                0.0  ...                          0.0   \n",
       "1     0.0  0.0                0.0  ...                          1.0   \n",
       "2     0.0  0.0                0.0  ...                          1.0   \n",
       "3     0.0  0.0                0.0  ...                          1.0   \n",
       "4     0.0  0.0                0.0  ...                          1.0   \n",
       "\n",
       "   dst_host_srv_diff_host_rate  dst_host_serror_rate  \\\n",
       "0                          0.0                   1.0   \n",
       "1                          0.0                   0.0   \n",
       "2                          0.0                   0.0   \n",
       "3                          0.0                   0.0   \n",
       "4                          0.0                   0.0   \n",
       "\n",
       "   dst_host_srv_serror_rate  dst_host_rerror_rate  dst_host_srv_rerror_rate  \\\n",
       "0                       1.0                   0.0                       0.0   \n",
       "1                       0.0                   0.0                       0.0   \n",
       "2                       0.0                   0.0                       0.0   \n",
       "3                       0.0                   0.0                       0.0   \n",
       "4                       0.0                   0.0                       0.0   \n",
       "\n",
       "   output  protocol_type_icmp  protocol_type_tcp  protocol_type_udp  \n",
       "0       9                   0                  1                  0  \n",
       "1      11                   0                  0                  1  \n",
       "2      18                   1                  0                  0  \n",
       "3      18                   1                  0                  0  \n",
       "4      18                   1                  0                  0  \n",
       "\n",
       "[5 rows x 44 columns]"
      ]
     },
     "execution_count": 114,
     "metadata": {},
     "output_type": "execute_result"
    }
   ],
   "source": [
    "mini_temp.reset_index(drop=True,inplace=True)\n",
    "mini_temp.head()"
   ]
  },
  {
   "cell_type": "code",
   "execution_count": 116,
   "metadata": {},
   "outputs": [],
   "source": [
    "mini_temp['class_label']=mini_temp['output'].apply(lambda x: is_intrusion(x))"
   ]
  },
  {
   "cell_type": "code",
   "execution_count": 117,
   "metadata": {},
   "outputs": [
    {
     "data": {
      "text/plain": [
       "1    16143\n",
       "0     3857\n",
       "Name: class_label, dtype: int64"
      ]
     },
     "execution_count": 117,
     "metadata": {},
     "output_type": "execute_result"
    }
   ],
   "source": [
    "mini_temp['class_label'].value_counts()"
   ]
  },
  {
   "cell_type": "markdown",
   "metadata": {},
   "source": [
    "# Counting the Instances of each Target Class"
   ]
  },
  {
   "cell_type": "code",
   "execution_count": 142,
   "metadata": {},
   "outputs": [
    {
     "data": {
      "text/plain": [
       "19         2\n",
       "12         3\n",
       "13         4\n",
       "8          7\n",
       "2          8\n",
       "7          9\n",
       "16        10\n",
       "4         12\n",
       "22        20\n",
       "6         21\n",
       "1         30\n",
       "3         53\n",
       "10       231\n",
       "14       264\n",
       "20       979\n",
       "21      1020\n",
       "15      1040\n",
       "5       1247\n",
       "17      1589\n",
       "0       2203\n",
       "11     97278\n",
       "9     107201\n",
       "18    280790\n",
       "Name: output, dtype: int64"
      ]
     },
     "execution_count": 142,
     "metadata": {},
     "output_type": "execute_result"
    }
   ],
   "source": [
    "temp['output'].value_counts().sort_values()"
   ]
  },
  {
   "cell_type": "markdown",
   "metadata": {},
   "source": [
    "# Removing instances of low counts"
   ]
  },
  {
   "cell_type": "code",
   "execution_count": 15,
   "metadata": {},
   "outputs": [],
   "source": [
    "remove_labels=[19,12,13,8,2,7]\n",
    "remove_idx=[]\n",
    "for idx in range(temp.shape[0]):\n",
    "    if temp.iloc[idx]['output'] in remove_labels:\n",
    "        remove_idx.append(idx)"
   ]
  },
  {
   "cell_type": "code",
   "execution_count": 16,
   "metadata": {},
   "outputs": [],
   "source": [
    "temp.drop(remove_idx,inplace=True)"
   ]
  },
  {
   "cell_type": "code",
   "execution_count": 143,
   "metadata": {},
   "outputs": [
    {
     "data": {
      "text/html": [
       "<div>\n",
       "<style scoped>\n",
       "    .dataframe tbody tr th:only-of-type {\n",
       "        vertical-align: middle;\n",
       "    }\n",
       "\n",
       "    .dataframe tbody tr th {\n",
       "        vertical-align: top;\n",
       "    }\n",
       "\n",
       "    .dataframe thead th {\n",
       "        text-align: right;\n",
       "    }\n",
       "</style>\n",
       "<table border=\"1\" class=\"dataframe\">\n",
       "  <thead>\n",
       "    <tr style=\"text-align: right;\">\n",
       "      <th></th>\n",
       "      <th>duration</th>\n",
       "      <th>service</th>\n",
       "      <th>flag</th>\n",
       "      <th>src_bytes</th>\n",
       "      <th>dst_bytes</th>\n",
       "      <th>land</th>\n",
       "      <th>wrong_fragment</th>\n",
       "      <th>urgent</th>\n",
       "      <th>hot</th>\n",
       "      <th>num_failed_logins</th>\n",
       "      <th>...</th>\n",
       "      <th>dst_host_same_src_port_rate</th>\n",
       "      <th>dst_host_srv_diff_host_rate</th>\n",
       "      <th>dst_host_serror_rate</th>\n",
       "      <th>dst_host_srv_serror_rate</th>\n",
       "      <th>dst_host_rerror_rate</th>\n",
       "      <th>dst_host_srv_rerror_rate</th>\n",
       "      <th>output</th>\n",
       "      <th>protocol_type_icmp</th>\n",
       "      <th>protocol_type_tcp</th>\n",
       "      <th>protocol_type_udp</th>\n",
       "    </tr>\n",
       "  </thead>\n",
       "  <tbody>\n",
       "    <tr>\n",
       "      <th>0</th>\n",
       "      <td>0.0</td>\n",
       "      <td>22</td>\n",
       "      <td>9</td>\n",
       "      <td>2.610418e-07</td>\n",
       "      <td>0.001057</td>\n",
       "      <td>0.0</td>\n",
       "      <td>0.0</td>\n",
       "      <td>0.0</td>\n",
       "      <td>0.0</td>\n",
       "      <td>0.0</td>\n",
       "      <td>...</td>\n",
       "      <td>0.11</td>\n",
       "      <td>0.0</td>\n",
       "      <td>0.0</td>\n",
       "      <td>0.0</td>\n",
       "      <td>0.0</td>\n",
       "      <td>0.0</td>\n",
       "      <td>11</td>\n",
       "      <td>0</td>\n",
       "      <td>1</td>\n",
       "      <td>0</td>\n",
       "    </tr>\n",
       "    <tr>\n",
       "      <th>1</th>\n",
       "      <td>0.0</td>\n",
       "      <td>22</td>\n",
       "      <td>9</td>\n",
       "      <td>3.446905e-07</td>\n",
       "      <td>0.000094</td>\n",
       "      <td>0.0</td>\n",
       "      <td>0.0</td>\n",
       "      <td>0.0</td>\n",
       "      <td>0.0</td>\n",
       "      <td>0.0</td>\n",
       "      <td>...</td>\n",
       "      <td>0.05</td>\n",
       "      <td>0.0</td>\n",
       "      <td>0.0</td>\n",
       "      <td>0.0</td>\n",
       "      <td>0.0</td>\n",
       "      <td>0.0</td>\n",
       "      <td>11</td>\n",
       "      <td>0</td>\n",
       "      <td>1</td>\n",
       "      <td>0</td>\n",
       "    </tr>\n",
       "    <tr>\n",
       "      <th>2</th>\n",
       "      <td>0.0</td>\n",
       "      <td>22</td>\n",
       "      <td>9</td>\n",
       "      <td>3.389216e-07</td>\n",
       "      <td>0.000259</td>\n",
       "      <td>0.0</td>\n",
       "      <td>0.0</td>\n",
       "      <td>0.0</td>\n",
       "      <td>0.0</td>\n",
       "      <td>0.0</td>\n",
       "      <td>...</td>\n",
       "      <td>0.03</td>\n",
       "      <td>0.0</td>\n",
       "      <td>0.0</td>\n",
       "      <td>0.0</td>\n",
       "      <td>0.0</td>\n",
       "      <td>0.0</td>\n",
       "      <td>11</td>\n",
       "      <td>0</td>\n",
       "      <td>1</td>\n",
       "      <td>0</td>\n",
       "    </tr>\n",
       "    <tr>\n",
       "      <th>3</th>\n",
       "      <td>0.0</td>\n",
       "      <td>22</td>\n",
       "      <td>9</td>\n",
       "      <td>3.158461e-07</td>\n",
       "      <td>0.000259</td>\n",
       "      <td>0.0</td>\n",
       "      <td>0.0</td>\n",
       "      <td>0.0</td>\n",
       "      <td>0.0</td>\n",
       "      <td>0.0</td>\n",
       "      <td>...</td>\n",
       "      <td>0.03</td>\n",
       "      <td>0.0</td>\n",
       "      <td>0.0</td>\n",
       "      <td>0.0</td>\n",
       "      <td>0.0</td>\n",
       "      <td>0.0</td>\n",
       "      <td>11</td>\n",
       "      <td>0</td>\n",
       "      <td>1</td>\n",
       "      <td>0</td>\n",
       "    </tr>\n",
       "    <tr>\n",
       "      <th>4</th>\n",
       "      <td>0.0</td>\n",
       "      <td>22</td>\n",
       "      <td>9</td>\n",
       "      <td>3.129617e-07</td>\n",
       "      <td>0.000394</td>\n",
       "      <td>0.0</td>\n",
       "      <td>0.0</td>\n",
       "      <td>0.0</td>\n",
       "      <td>0.0</td>\n",
       "      <td>0.0</td>\n",
       "      <td>...</td>\n",
       "      <td>0.02</td>\n",
       "      <td>0.0</td>\n",
       "      <td>0.0</td>\n",
       "      <td>0.0</td>\n",
       "      <td>0.0</td>\n",
       "      <td>0.0</td>\n",
       "      <td>11</td>\n",
       "      <td>0</td>\n",
       "      <td>1</td>\n",
       "      <td>0</td>\n",
       "    </tr>\n",
       "  </tbody>\n",
       "</table>\n",
       "<p>5 rows × 44 columns</p>\n",
       "</div>"
      ],
      "text/plain": [
       "   duration  service  flag     src_bytes  dst_bytes  land  wrong_fragment  \\\n",
       "0       0.0       22     9  2.610418e-07   0.001057   0.0             0.0   \n",
       "1       0.0       22     9  3.446905e-07   0.000094   0.0             0.0   \n",
       "2       0.0       22     9  3.389216e-07   0.000259   0.0             0.0   \n",
       "3       0.0       22     9  3.158461e-07   0.000259   0.0             0.0   \n",
       "4       0.0       22     9  3.129617e-07   0.000394   0.0             0.0   \n",
       "\n",
       "   urgent  hot  num_failed_logins  ...  dst_host_same_src_port_rate  \\\n",
       "0     0.0  0.0                0.0  ...                         0.11   \n",
       "1     0.0  0.0                0.0  ...                         0.05   \n",
       "2     0.0  0.0                0.0  ...                         0.03   \n",
       "3     0.0  0.0                0.0  ...                         0.03   \n",
       "4     0.0  0.0                0.0  ...                         0.02   \n",
       "\n",
       "   dst_host_srv_diff_host_rate  dst_host_serror_rate  \\\n",
       "0                          0.0                   0.0   \n",
       "1                          0.0                   0.0   \n",
       "2                          0.0                   0.0   \n",
       "3                          0.0                   0.0   \n",
       "4                          0.0                   0.0   \n",
       "\n",
       "   dst_host_srv_serror_rate  dst_host_rerror_rate  dst_host_srv_rerror_rate  \\\n",
       "0                       0.0                   0.0                       0.0   \n",
       "1                       0.0                   0.0                       0.0   \n",
       "2                       0.0                   0.0                       0.0   \n",
       "3                       0.0                   0.0                       0.0   \n",
       "4                       0.0                   0.0                       0.0   \n",
       "\n",
       "   output  protocol_type_icmp  protocol_type_tcp  protocol_type_udp  \n",
       "0      11                   0                  1                  0  \n",
       "1      11                   0                  1                  0  \n",
       "2      11                   0                  1                  0  \n",
       "3      11                   0                  1                  0  \n",
       "4      11                   0                  1                  0  \n",
       "\n",
       "[5 rows x 44 columns]"
      ]
     },
     "execution_count": 143,
     "metadata": {},
     "output_type": "execute_result"
    }
   ],
   "source": [
    "temp.head()"
   ]
  },
  {
   "cell_type": "code",
   "execution_count": 17,
   "metadata": {},
   "outputs": [],
   "source": [
    "X=temp.drop(['output','service'],axis=1)\n",
    "y=temp['output']\n",
    "X_train,X_test,y_train,y_test=train_test_split(X,y)"
   ]
  },
  {
   "cell_type": "code",
   "execution_count": 34,
   "metadata": {},
   "outputs": [],
   "source": [
    "from sklearn.ensemble import RandomForestClassifier"
   ]
  },
  {
   "cell_type": "markdown",
   "metadata": {},
   "source": [
    "# Feature Selection on the KDD Dataset"
   ]
  },
  {
   "cell_type": "code",
   "execution_count": 157,
   "metadata": {},
   "outputs": [],
   "source": [
    "tree_model=RandomForestClassifier()"
   ]
  },
  {
   "cell_type": "code",
   "execution_count": 158,
   "metadata": {},
   "outputs": [
    {
     "name": "stderr",
     "output_type": "stream",
     "text": [
      "c:\\users\\mihee\\appdata\\local\\programs\\python\\python36\\lib\\site-packages\\deap\\creator.py:141: RuntimeWarning: A class named 'FeatureSelect' has already been created and it will be overwritten. Consider deleting previous creation of that class or rename it.\n",
      "  RuntimeWarning)\n",
      "c:\\users\\mihee\\appdata\\local\\programs\\python\\python36\\lib\\site-packages\\deap\\creator.py:141: RuntimeWarning: A class named 'Individual' has already been created and it will be overwritten. Consider deleting previous creation of that class or rename it.\n",
      "  RuntimeWarning)\n"
     ]
    }
   ],
   "source": [
    "from feature_selection_ga import FeatureSelectionGA, FitnessFunction\n",
    "fsga = FeatureSelectionGA(tree_model,X_train.to_numpy(),y_train.to_numpy(), ff_obj = FitnessFunction())"
   ]
  },
  {
   "cell_type": "code",
   "execution_count": 130,
   "metadata": {},
   "outputs": [],
   "source": [
    "a=time.time()"
   ]
  },
  {
   "cell_type": "code",
   "execution_count": 128,
   "metadata": {},
   "outputs": [],
   "source": [
    "import time"
   ]
  },
  {
   "cell_type": "code",
   "execution_count": 159,
   "metadata": {},
   "outputs": [
    {
     "name": "stdout",
     "output_type": "stream",
     "text": [
      "EVOLVING.......\n"
     ]
    },
    {
     "name": "stderr",
     "output_type": "stream",
     "text": [
      "c:\\users\\mihee\\appdata\\local\\programs\\python\\python36\\lib\\site-packages\\sklearn\\ensemble\\forest.py:245: FutureWarning: The default value of n_estimators will change from 10 in version 0.20 to 100 in 0.22.\n",
      "  \"10 in version 0.20 to 100 in 0.22.\", FutureWarning)\n"
     ]
    },
    {
     "name": "stdout",
     "output_type": "stream",
     "text": [
      "-- GENERATION 1 --\n",
      "Evaluated 26 individuals\n",
      "-- GENERATION 2 --\n",
      "Evaluated 29 individuals\n",
      "-- GENERATION 3 --\n",
      "Evaluated 34 individuals\n",
      "-- GENERATION 4 --\n",
      "Evaluated 32 individuals\n",
      "-- GENERATION 5 --\n",
      "Evaluated 30 individuals\n",
      "-- Only the fittest survives --\n",
      "Best individual is [1, 1, 1, 1, 1, 1, 1, 1, 0, 1, 0, 0, 1, 1, 1, 0, 1, 0, 1, 1, 1, 0, 0, 0, 0, 0, 0, 1, 1, 1, 0, 0, 1, 1, 1, 1, 1, 0, 1, 1, 0, 0], (0.9996545125252705,)\n"
     ]
    }
   ],
   "source": [
    "start=time.time()\n",
    "pop=fsga.generate(50)"
   ]
  },
  {
   "cell_type": "code",
   "execution_count": 15,
   "metadata": {},
   "outputs": [
    {
     "name": "stdout",
     "output_type": "stream",
     "text": [
      "total number of feats 42 num of selected feats 26\n"
     ]
    }
   ],
   "source": [
    "f=[1, 1, 1, 1, 1, 1, 1, 1, 0, 1, 0, 0, 1, 1, 1, 0, 1, 0, 1, 1, 1, 0, 0, 0, 0, 0, 0, 1, 1, 1, 0, 0, 1, 1, 1, 1, 1, 0, 1, 1, 0, 0]\n",
    "print(\"total number of feats\",len(f), \"num of selected feats\",sum(f))"
   ]
  },
  {
   "cell_type": "code",
   "execution_count": 160,
   "metadata": {},
   "outputs": [],
   "source": [
    "end=time.time()\n"
   ]
  },
  {
   "cell_type": "code",
   "execution_count": 162,
   "metadata": {},
   "outputs": [
    {
     "name": "stdout",
     "output_type": "stream",
     "text": [
      "44.25656646887462 minutes\n"
     ]
    }
   ],
   "source": [
    "end=time.time()\n",
    "\n",
    "print((end-start)/60.0,'minutes')"
   ]
  },
  {
   "cell_type": "code",
   "execution_count": null,
   "metadata": {},
   "outputs": [],
   "source": []
  },
  {
   "cell_type": "markdown",
   "metadata": {},
   "source": [
    "# Selected Features"
   ]
  },
  {
   "cell_type": "code",
   "execution_count": 19,
   "metadata": {},
   "outputs": [],
   "source": [
    "features=X_train.columns\n",
    "selected_feats=[]\n",
    "bestpop= [1, 1, 1, 1, 1, 1, 1, 1, 0, 1, 0, 0, 1, 1, 1, 0, 1, 0, 1, 1, 1, 0, 0, 0, 0, 0, 0, 1, 1, 1, 0, 0, 1, 1, 1, 1, 1, 0, 1, 1, 0, 0]\n",
    "for idx in range(len(bestpop)):\n",
    "    if bestpop[idx]==1:\n",
    "        selected_feats.append(features[idx])"
   ]
  },
  {
   "cell_type": "code",
   "execution_count": 165,
   "metadata": {},
   "outputs": [],
   "source": [
    "final_model=RandomForestClassifier()"
   ]
  },
  {
   "cell_type": "code",
   "execution_count": 166,
   "metadata": {},
   "outputs": [],
   "source": [
    "X_train=X_train[selected_feats]\n",
    "X_test=X_test[selected_feats]"
   ]
  },
  {
   "cell_type": "code",
   "execution_count": null,
   "metadata": {},
   "outputs": [],
   "source": []
  },
  {
   "cell_type": "code",
   "execution_count": null,
   "metadata": {},
   "outputs": [],
   "source": []
  },
  {
   "cell_type": "code",
   "execution_count": null,
   "metadata": {},
   "outputs": [],
   "source": []
  },
  {
   "cell_type": "code",
   "execution_count": null,
   "metadata": {},
   "outputs": [],
   "source": []
  },
  {
   "cell_type": "markdown",
   "metadata": {},
   "source": [
    "# Results on 10000 samples"
   ]
  },
  {
   "cell_type": "code",
   "execution_count": 140,
   "metadata": {},
   "outputs": [
    {
     "name": "stdout",
     "output_type": "stream",
     "text": [
      "              precision    recall  f1-score   support\n",
      "\n",
      "           0       0.91      1.00      0.95        21\n",
      "           5       1.00      1.00      1.00        12\n",
      "           9       1.00      1.00      1.00      1091\n",
      "          10       1.00      1.00      1.00         3\n",
      "          11       1.00      1.00      1.00       963\n",
      "          14       1.00      1.00      1.00         3\n",
      "          15       1.00      1.00      1.00         6\n",
      "          17       1.00      0.91      0.95        11\n",
      "          18       1.00      1.00      1.00      2872\n",
      "          20       1.00      1.00      1.00         7\n",
      "          21       1.00      0.70      0.82        10\n",
      "\n",
      "    accuracy                           1.00      4999\n",
      "   macro avg       0.99      0.96      0.98      4999\n",
      "weighted avg       1.00      1.00      1.00      4999\n",
      "\n"
     ]
    },
    {
     "name": "stderr",
     "output_type": "stream",
     "text": [
      "c:\\users\\mihee\\appdata\\local\\programs\\python\\python36\\lib\\site-packages\\sklearn\\ensemble\\forest.py:245: FutureWarning: The default value of n_estimators will change from 10 in version 0.20 to 100 in 0.22.\n",
      "  \"10 in version 0.20 to 100 in 0.22.\", FutureWarning)\n"
     ]
    }
   ],
   "source": [
    "final_model.fit(X_train,y_train)\n",
    "preds=final_model.predict(X_test)\n",
    "print(classification_report(y_test,preds))"
   ]
  },
  {
   "cell_type": "code",
   "execution_count": 172,
   "metadata": {},
   "outputs": [
    {
     "data": {
      "text/plain": [
       "(493988, 44)"
      ]
     },
     "execution_count": 172,
     "metadata": {},
     "output_type": "execute_result"
    }
   ],
   "source": [
    "temp.shape"
   ]
  },
  {
   "cell_type": "code",
   "execution_count": 171,
   "metadata": {},
   "outputs": [
    {
     "data": {
      "text/plain": [
       "26"
      ]
     },
     "execution_count": 171,
     "metadata": {},
     "output_type": "execute_result"
    }
   ],
   "source": [
    "\n",
    "len(selected_feats)"
   ]
  },
  {
   "cell_type": "markdown",
   "metadata": {},
   "source": [
    "# Result on Full Dataset"
   ]
  },
  {
   "cell_type": "code",
   "execution_count": 167,
   "metadata": {},
   "outputs": [
    {
     "name": "stderr",
     "output_type": "stream",
     "text": [
      "c:\\users\\mihee\\appdata\\local\\programs\\python\\python36\\lib\\site-packages\\sklearn\\ensemble\\forest.py:245: FutureWarning: The default value of n_estimators will change from 10 in version 0.20 to 100 in 0.22.\n",
      "  \"10 in version 0.20 to 100 in 0.22.\", FutureWarning)\n"
     ]
    },
    {
     "name": "stdout",
     "output_type": "stream",
     "text": [
      "              precision    recall  f1-score   support\n",
      "\n",
      "           0       1.00      1.00      1.00       550\n",
      "           1       1.00      0.43      0.60         7\n",
      "           3       1.00      1.00      1.00        12\n",
      "           4       1.00      0.50      0.67         2\n",
      "           5       1.00      0.99      1.00       314\n",
      "           6       0.75      1.00      0.86         3\n",
      "           9       1.00      1.00      1.00     26855\n",
      "          10       0.93      0.96      0.95        54\n",
      "          11       1.00      1.00      1.00     24364\n",
      "          14       1.00      1.00      1.00        58\n",
      "          15       1.00      1.00      1.00       252\n",
      "          16       1.00      0.33      0.50         3\n",
      "          17       0.99      0.97      0.98       397\n",
      "          18       1.00      1.00      1.00     70126\n",
      "          20       1.00      1.00      1.00       231\n",
      "          21       0.99      0.98      0.98       260\n",
      "          22       1.00      0.67      0.80         9\n",
      "\n",
      "    accuracy                           1.00    123497\n",
      "   macro avg       0.98      0.87      0.90    123497\n",
      "weighted avg       1.00      1.00      1.00    123497\n",
      "\n"
     ]
    }
   ],
   "source": [
    "final_model.fit(X_train,y_train)\n",
    "preds=final_model.predict(X_test)\n",
    "print(classification_report(y_test,preds))"
   ]
  },
  {
   "cell_type": "markdown",
   "metadata": {},
   "source": [
    "# Feature Reduction: Second Run"
   ]
  },
  {
   "cell_type": "code",
   "execution_count": 35,
   "metadata": {},
   "outputs": [],
   "source": [
    "classifier2=RandomForestClassifier()"
   ]
  },
  {
   "cell_type": "code",
   "execution_count": 36,
   "metadata": {},
   "outputs": [],
   "source": [
    "X_train=X_train[selected_feats]\n",
    "X_test=X_test[selected_feats]"
   ]
  },
  {
   "cell_type": "code",
   "execution_count": 37,
   "metadata": {},
   "outputs": [
    {
     "data": {
      "text/html": [
       "<div>\n",
       "<style scoped>\n",
       "    .dataframe tbody tr th:only-of-type {\n",
       "        vertical-align: middle;\n",
       "    }\n",
       "\n",
       "    .dataframe tbody tr th {\n",
       "        vertical-align: top;\n",
       "    }\n",
       "\n",
       "    .dataframe thead th {\n",
       "        text-align: right;\n",
       "    }\n",
       "</style>\n",
       "<table border=\"1\" class=\"dataframe\">\n",
       "  <thead>\n",
       "    <tr style=\"text-align: right;\">\n",
       "      <th></th>\n",
       "      <th>duration</th>\n",
       "      <th>flag</th>\n",
       "      <th>src_bytes</th>\n",
       "      <th>dst_bytes</th>\n",
       "      <th>land</th>\n",
       "      <th>wrong_fragment</th>\n",
       "      <th>urgent</th>\n",
       "      <th>hot</th>\n",
       "      <th>logged_in</th>\n",
       "      <th>su_attempted</th>\n",
       "      <th>...</th>\n",
       "      <th>diff_srv_rate</th>\n",
       "      <th>srv_diff_host_rate</th>\n",
       "      <th>dst_host_count</th>\n",
       "      <th>dst_host_diff_srv_rate</th>\n",
       "      <th>dst_host_same_src_port_rate</th>\n",
       "      <th>dst_host_srv_diff_host_rate</th>\n",
       "      <th>dst_host_serror_rate</th>\n",
       "      <th>dst_host_srv_serror_rate</th>\n",
       "      <th>dst_host_srv_rerror_rate</th>\n",
       "      <th>protocol_type_icmp</th>\n",
       "    </tr>\n",
       "  </thead>\n",
       "  <tbody>\n",
       "    <tr>\n",
       "      <th>46359</th>\n",
       "      <td>0.0</td>\n",
       "      <td>9</td>\n",
       "      <td>0.000001</td>\n",
       "      <td>0.0</td>\n",
       "      <td>0.0</td>\n",
       "      <td>0.0</td>\n",
       "      <td>0.0</td>\n",
       "      <td>0.0</td>\n",
       "      <td>0.0</td>\n",
       "      <td>0.0</td>\n",
       "      <td>...</td>\n",
       "      <td>0.00</td>\n",
       "      <td>0.0</td>\n",
       "      <td>1.0</td>\n",
       "      <td>0.00</td>\n",
       "      <td>1.0</td>\n",
       "      <td>0.0</td>\n",
       "      <td>0.0</td>\n",
       "      <td>0.0</td>\n",
       "      <td>0.0</td>\n",
       "      <td>1</td>\n",
       "    </tr>\n",
       "    <tr>\n",
       "      <th>490636</th>\n",
       "      <td>0.0</td>\n",
       "      <td>9</td>\n",
       "      <td>0.000001</td>\n",
       "      <td>0.0</td>\n",
       "      <td>0.0</td>\n",
       "      <td>0.0</td>\n",
       "      <td>0.0</td>\n",
       "      <td>0.0</td>\n",
       "      <td>0.0</td>\n",
       "      <td>0.0</td>\n",
       "      <td>...</td>\n",
       "      <td>0.00</td>\n",
       "      <td>0.0</td>\n",
       "      <td>1.0</td>\n",
       "      <td>0.00</td>\n",
       "      <td>1.0</td>\n",
       "      <td>0.0</td>\n",
       "      <td>0.0</td>\n",
       "      <td>0.0</td>\n",
       "      <td>0.0</td>\n",
       "      <td>1</td>\n",
       "    </tr>\n",
       "    <tr>\n",
       "      <th>464634</th>\n",
       "      <td>0.0</td>\n",
       "      <td>1</td>\n",
       "      <td>0.000000</td>\n",
       "      <td>0.0</td>\n",
       "      <td>0.0</td>\n",
       "      <td>0.0</td>\n",
       "      <td>0.0</td>\n",
       "      <td>0.0</td>\n",
       "      <td>0.0</td>\n",
       "      <td>0.0</td>\n",
       "      <td>...</td>\n",
       "      <td>0.07</td>\n",
       "      <td>0.0</td>\n",
       "      <td>1.0</td>\n",
       "      <td>0.07</td>\n",
       "      <td>0.0</td>\n",
       "      <td>0.0</td>\n",
       "      <td>0.0</td>\n",
       "      <td>0.0</td>\n",
       "      <td>1.0</td>\n",
       "      <td>0</td>\n",
       "    </tr>\n",
       "    <tr>\n",
       "      <th>205657</th>\n",
       "      <td>0.0</td>\n",
       "      <td>9</td>\n",
       "      <td>0.000001</td>\n",
       "      <td>0.0</td>\n",
       "      <td>0.0</td>\n",
       "      <td>0.0</td>\n",
       "      <td>0.0</td>\n",
       "      <td>0.0</td>\n",
       "      <td>0.0</td>\n",
       "      <td>0.0</td>\n",
       "      <td>...</td>\n",
       "      <td>0.00</td>\n",
       "      <td>0.0</td>\n",
       "      <td>1.0</td>\n",
       "      <td>0.00</td>\n",
       "      <td>1.0</td>\n",
       "      <td>0.0</td>\n",
       "      <td>0.0</td>\n",
       "      <td>0.0</td>\n",
       "      <td>0.0</td>\n",
       "      <td>1</td>\n",
       "    </tr>\n",
       "    <tr>\n",
       "      <th>117745</th>\n",
       "      <td>0.0</td>\n",
       "      <td>5</td>\n",
       "      <td>0.000000</td>\n",
       "      <td>0.0</td>\n",
       "      <td>0.0</td>\n",
       "      <td>0.0</td>\n",
       "      <td>0.0</td>\n",
       "      <td>0.0</td>\n",
       "      <td>0.0</td>\n",
       "      <td>0.0</td>\n",
       "      <td>...</td>\n",
       "      <td>0.06</td>\n",
       "      <td>0.0</td>\n",
       "      <td>1.0</td>\n",
       "      <td>0.07</td>\n",
       "      <td>0.0</td>\n",
       "      <td>0.0</td>\n",
       "      <td>1.0</td>\n",
       "      <td>1.0</td>\n",
       "      <td>0.0</td>\n",
       "      <td>0</td>\n",
       "    </tr>\n",
       "  </tbody>\n",
       "</table>\n",
       "<p>5 rows × 26 columns</p>\n",
       "</div>"
      ],
      "text/plain": [
       "        duration  flag  src_bytes  dst_bytes  land  wrong_fragment  urgent  \\\n",
       "46359        0.0     9   0.000001        0.0   0.0             0.0     0.0   \n",
       "490636       0.0     9   0.000001        0.0   0.0             0.0     0.0   \n",
       "464634       0.0     1   0.000000        0.0   0.0             0.0     0.0   \n",
       "205657       0.0     9   0.000001        0.0   0.0             0.0     0.0   \n",
       "117745       0.0     5   0.000000        0.0   0.0             0.0     0.0   \n",
       "\n",
       "        hot  logged_in  su_attempted  ...  diff_srv_rate  srv_diff_host_rate  \\\n",
       "46359   0.0        0.0           0.0  ...           0.00                 0.0   \n",
       "490636  0.0        0.0           0.0  ...           0.00                 0.0   \n",
       "464634  0.0        0.0           0.0  ...           0.07                 0.0   \n",
       "205657  0.0        0.0           0.0  ...           0.00                 0.0   \n",
       "117745  0.0        0.0           0.0  ...           0.06                 0.0   \n",
       "\n",
       "        dst_host_count  dst_host_diff_srv_rate  dst_host_same_src_port_rate  \\\n",
       "46359              1.0                    0.00                          1.0   \n",
       "490636             1.0                    0.00                          1.0   \n",
       "464634             1.0                    0.07                          0.0   \n",
       "205657             1.0                    0.00                          1.0   \n",
       "117745             1.0                    0.07                          0.0   \n",
       "\n",
       "        dst_host_srv_diff_host_rate  dst_host_serror_rate  \\\n",
       "46359                           0.0                   0.0   \n",
       "490636                          0.0                   0.0   \n",
       "464634                          0.0                   0.0   \n",
       "205657                          0.0                   0.0   \n",
       "117745                          0.0                   1.0   \n",
       "\n",
       "        dst_host_srv_serror_rate  dst_host_srv_rerror_rate  protocol_type_icmp  \n",
       "46359                        0.0                       0.0                   1  \n",
       "490636                       0.0                       0.0                   1  \n",
       "464634                       0.0                       1.0                   0  \n",
       "205657                       0.0                       0.0                   1  \n",
       "117745                       1.0                       0.0                   0  \n",
       "\n",
       "[5 rows x 26 columns]"
      ]
     },
     "execution_count": 37,
     "metadata": {},
     "output_type": "execute_result"
    }
   ],
   "source": [
    "X_train.head()"
   ]
  },
  {
   "cell_type": "code",
   "execution_count": 39,
   "metadata": {},
   "outputs": [],
   "source": [
    "from feature_selection_ga import FeatureSelectionGA, FitnessFunction\n",
    "fsga = FeatureSelectionGA(classifier2,X_train.to_numpy(),y_train.to_numpy(), ff_obj = FitnessFunction())"
   ]
  },
  {
   "cell_type": "code",
   "execution_count": 42,
   "metadata": {},
   "outputs": [
    {
     "name": "stdout",
     "output_type": "stream",
     "text": [
      "EVOLVING.......\n"
     ]
    },
    {
     "name": "stderr",
     "output_type": "stream",
     "text": [
      "c:\\users\\mihee\\appdata\\local\\programs\\python\\python36\\lib\\site-packages\\sklearn\\ensemble\\forest.py:245: FutureWarning: The default value of n_estimators will change from 10 in version 0.20 to 100 in 0.22.\n",
      "  \"10 in version 0.20 to 100 in 0.22.\", FutureWarning)\n"
     ]
    },
    {
     "name": "stdout",
     "output_type": "stream",
     "text": [
      "-- GENERATION 1 --\n",
      "Evaluated 30 individuals\n",
      "-- GENERATION 2 --\n",
      "Evaluated 29 individuals\n",
      "-- GENERATION 3 --\n",
      "Evaluated 36 individuals\n",
      "-- GENERATION 4 --\n",
      "Evaluated 26 individuals\n",
      "-- GENERATION 5 --\n",
      "Evaluated 35 individuals\n",
      "-- Only the fittest survives --\n",
      "Best individual is [0, 1, 1, 1, 1, 1, 0, 0, 1, 1, 0, 1, 1, 1, 1, 1, 1, 1, 1, 1, 1, 1, 1, 0, 0, 1], (0.9995816362610698,)\n"
     ]
    }
   ],
   "source": [
    "start=time.time()\n",
    "pop=fsga.generate(50)"
   ]
  },
  {
   "cell_type": "code",
   "execution_count": 43,
   "metadata": {},
   "outputs": [
    {
     "name": "stdout",
     "output_type": "stream",
     "text": [
      "38.36158158779144 minutes\n"
     ]
    }
   ],
   "source": [
    "end=time.time()\n",
    "print((end-start)/60.0,'minutes')"
   ]
  },
  {
   "cell_type": "code",
   "execution_count": 45,
   "metadata": {},
   "outputs": [],
   "source": [
    "chosen_feats=[0, 1, 1, 1, 1, 1, 0, 0, 1, 1, 0, 1, 1, 1, 1, 1, 1, 1, 1, 1, 1, 1, 1, 0, 0, 1]"
   ]
  },
  {
   "cell_type": "code",
   "execution_count": 46,
   "metadata": {},
   "outputs": [],
   "source": [
    "features=X_train.columns\n",
    "selected_feats=[]\n",
    "for idx in range(len(chosen_feats)):\n",
    "    if bestpop[idx]==1:\n",
    "        selected_feats.append(features[idx])"
   ]
  },
  {
   "cell_type": "code",
   "execution_count": 16,
   "metadata": {},
   "outputs": [
    {
     "name": "stdout",
     "output_type": "stream",
     "text": [
      "26 20\n"
     ]
    }
   ],
   "source": [
    "f=[0, 1, 1, 1, 1, 1, 0, 0, 1, 1, 0, 1, 1, 1, 1, 1, 1, 1, 1, 1, 1, 1, 1, 0, 0, 1]\n",
    "print(len(f),sum(f))"
   ]
  },
  {
   "cell_type": "markdown",
   "metadata": {},
   "source": [
    "## Second Feature Reduction Results"
   ]
  },
  {
   "cell_type": "code",
   "execution_count": 49,
   "metadata": {},
   "outputs": [
    {
     "name": "stderr",
     "output_type": "stream",
     "text": [
      "c:\\users\\mihee\\appdata\\local\\programs\\python\\python36\\lib\\site-packages\\sklearn\\metrics\\classification.py:1437: UndefinedMetricWarning: Precision and F-score are ill-defined and being set to 0.0 in labels with no predicted samples.\n",
      "  'precision', 'predicted', average, warn_for)\n"
     ]
    },
    {
     "name": "stdout",
     "output_type": "stream",
     "text": [
      "              precision    recall  f1-score   support\n",
      "\n",
      "           0       1.00      1.00      1.00       560\n",
      "           1       1.00      0.40      0.57         5\n",
      "           3       1.00      0.91      0.95        11\n",
      "           4       0.00      0.00      0.00         4\n",
      "           5       0.91      0.99      0.94       309\n",
      "           6       0.78      1.00      0.88         7\n",
      "           9       1.00      1.00      1.00     26962\n",
      "          10       0.96      0.53      0.69        45\n",
      "          11       1.00      1.00      1.00     24188\n",
      "          14       0.97      0.96      0.97        75\n",
      "          15       1.00      1.00      1.00       255\n",
      "          16       0.00      0.00      0.00         2\n",
      "          17       1.00      0.96      0.98       425\n",
      "          18       1.00      1.00      1.00     70149\n",
      "          20       1.00      0.99      0.99       236\n",
      "          21       0.98      0.95      0.96       259\n",
      "          22       1.00      0.60      0.75         5\n",
      "\n",
      "    accuracy                           1.00    123497\n",
      "   macro avg       0.86      0.78      0.80    123497\n",
      "weighted avg       1.00      1.00      1.00    123497\n",
      "\n"
     ]
    }
   ],
   "source": [
    "final_model_2=RandomForestClassifier()\n",
    "X_train=X_train[selected_feats]\n",
    "X_test=X_test[selected_feats]\n",
    "final_model_2.fit(X_train,y_train)\n",
    "preds=final_model_2.predict(X_test)\n",
    "print(classification_report(y_test,preds))"
   ]
  },
  {
   "cell_type": "code",
   "execution_count": null,
   "metadata": {},
   "outputs": [],
   "source": [
    "print(classification_report(y_test,preds))"
   ]
  },
  {
   "cell_type": "code",
   "execution_count": 168,
   "metadata": {},
   "outputs": [],
   "source": []
  },
  {
   "cell_type": "code",
   "execution_count": 170,
   "metadata": {},
   "outputs": [],
   "source": [
    "filename='CN_randomforest.sav'\n",
    "pickle.dump(final_model,open(filename,'wb'))"
   ]
  },
  {
   "cell_type": "code",
   "execution_count": 32,
   "metadata": {},
   "outputs": [
    {
     "data": {
      "text/plain": [
       "(494021, 42)"
      ]
     },
     "execution_count": 32,
     "metadata": {},
     "output_type": "execute_result"
    }
   ],
   "source": [
    "kdd.shape"
   ]
  },
  {
   "cell_type": "code",
   "execution_count": 33,
   "metadata": {},
   "outputs": [
    {
     "data": {
      "text/plain": [
       "(493988, 27)"
      ]
     },
     "execution_count": 33,
     "metadata": {},
     "output_type": "execute_result"
    }
   ],
   "source": [
    "data_new.shape"
   ]
  },
  {
   "cell_type": "code",
   "execution_count": null,
   "metadata": {},
   "outputs": [],
   "source": []
  }
 ],
 "metadata": {
  "kernelspec": {
   "display_name": "Python 3",
   "language": "python",
   "name": "python3"
  },
  "language_info": {
   "codemirror_mode": {
    "name": "ipython",
    "version": 3
   },
   "file_extension": ".py",
   "mimetype": "text/x-python",
   "name": "python",
   "nbconvert_exporter": "python",
   "pygments_lexer": "ipython3",
   "version": "3.6.8"
  }
 },
 "nbformat": 4,
 "nbformat_minor": 4
}

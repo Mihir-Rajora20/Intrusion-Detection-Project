{
 "cells": [
  {
   "cell_type": "code",
   "execution_count": 1,
   "metadata": {
    "id": "Qp6oIuIT5Cdl"
   },
   "outputs": [],
   "source": [
    "import pandas as pd\n",
    "import numpy as np\n",
    "import matplotlib.pyplot as plt\n",
    "%matplotlib inline\n",
    "import seaborn as sns\n",
    "from sklearn.preprocessing import LabelEncoder,OneHotEncoder\n",
    "from sklearn.preprocessing import RobustScaler,MinMaxScaler\n",
    "label_encoder=LabelEncoder()\n",
    "oh_encoder=OneHotEncoder()\n",
    "scaler=MinMaxScaler()\n",
    "from sklearn.model_selection import train_test_split\n",
    "import time\n",
    "from sklearn.metrics import classification_report\n",
    "from sklearn.ensemble import GradientBoostingClassifier\n",
    "from sklearn.model_selection import cross_val_score\n",
    "from sklearn.metrics import mean_squared_error"
   ]
  },
  {
   "cell_type": "code",
   "execution_count": 74,
   "metadata": {
    "id": "OhDhoM1h5Cdr"
   },
   "outputs": [],
   "source": []
  },
  {
   "cell_type": "code",
   "execution_count": null,
   "metadata": {
    "id": "gk3WXBHQ5Cdr"
   },
   "outputs": [],
   "source": [
    "data=pd.read_csv('final_destination2.csv')"
   ]
  },
  {
   "cell_type": "code",
   "execution_count": null,
   "metadata": {
    "id": "rP5lSt6d5Cds",
    "outputId": "3a0fee24-aaa2-47ca-ff9d-131c90e112d0"
   },
   "outputs": [
    {
     "data": {
      "text/html": [
       "<div>\n",
       "<style scoped>\n",
       "    .dataframe tbody tr th:only-of-type {\n",
       "        vertical-align: middle;\n",
       "    }\n",
       "\n",
       "    .dataframe tbody tr th {\n",
       "        vertical-align: top;\n",
       "    }\n",
       "\n",
       "    .dataframe thead th {\n",
       "        text-align: right;\n",
       "    }\n",
       "</style>\n",
       "<table border=\"1\" class=\"dataframe\">\n",
       "  <thead>\n",
       "    <tr style=\"text-align: right;\">\n",
       "      <th></th>\n",
       "      <th>MI_dir_L5_weight</th>\n",
       "      <th>MI_dir_L5_mean</th>\n",
       "      <th>MI_dir_L5_variance</th>\n",
       "      <th>MI_dir_L3_weight</th>\n",
       "      <th>MI_dir_L3_mean</th>\n",
       "      <th>MI_dir_L3_variance</th>\n",
       "      <th>MI_dir_L1_weight</th>\n",
       "      <th>MI_dir_L1_mean</th>\n",
       "      <th>MI_dir_L1_variance</th>\n",
       "      <th>MI_dir_L0.1_weight</th>\n",
       "      <th>...</th>\n",
       "      <th>HpHp_L0.01_weight</th>\n",
       "      <th>HpHp_L0.01_mean</th>\n",
       "      <th>HpHp_L0.01_std</th>\n",
       "      <th>HpHp_L0.01_magnitude</th>\n",
       "      <th>HpHp_L0.01_radius</th>\n",
       "      <th>HpHp_L0.01_covariance</th>\n",
       "      <th>HpHp_L0.01_pcc</th>\n",
       "      <th>source</th>\n",
       "      <th>output</th>\n",
       "      <th>attack_type</th>\n",
       "    </tr>\n",
       "  </thead>\n",
       "  <tbody>\n",
       "    <tr>\n",
       "      <th>0</th>\n",
       "      <td>2.979897</td>\n",
       "      <td>456.515870</td>\n",
       "      <td>371.700595</td>\n",
       "      <td>2.987890</td>\n",
       "      <td>456.443004</td>\n",
       "      <td>372.715178</td>\n",
       "      <td>2.995948</td>\n",
       "      <td>456.369841</td>\n",
       "      <td>373.755653</td>\n",
       "      <td>4.000143</td>\n",
       "      <td>...</td>\n",
       "      <td>15.974548</td>\n",
       "      <td>456.333476</td>\n",
       "      <td>19.344776</td>\n",
       "      <td>456.333476</td>\n",
       "      <td>3.742204e+02</td>\n",
       "      <td>0.000000e+00</td>\n",
       "      <td>0.000000e+00</td>\n",
       "      <td>samsung</td>\n",
       "      <td>benign</td>\n",
       "      <td>None</td>\n",
       "    </tr>\n",
       "    <tr>\n",
       "      <th>1</th>\n",
       "      <td>1.000000</td>\n",
       "      <td>429.000000</td>\n",
       "      <td>0.000133</td>\n",
       "      <td>1.000004</td>\n",
       "      <td>428.998549</td>\n",
       "      <td>0.535599</td>\n",
       "      <td>1.016685</td>\n",
       "      <td>423.005222</td>\n",
       "      <td>2162.062877</td>\n",
       "      <td>3.241126</td>\n",
       "      <td>...</td>\n",
       "      <td>13.978410</td>\n",
       "      <td>454.377983</td>\n",
       "      <td>19.926723</td>\n",
       "      <td>454.377983</td>\n",
       "      <td>3.970743e+02</td>\n",
       "      <td>0.000000e+00</td>\n",
       "      <td>0.000000e+00</td>\n",
       "      <td>samsung</td>\n",
       "      <td>benign</td>\n",
       "      <td>None</td>\n",
       "    </tr>\n",
       "    <tr>\n",
       "      <th>2</th>\n",
       "      <td>1.000000</td>\n",
       "      <td>429.000000</td>\n",
       "      <td>0.000000</td>\n",
       "      <td>1.000000</td>\n",
       "      <td>429.000000</td>\n",
       "      <td>0.000006</td>\n",
       "      <td>1.000370</td>\n",
       "      <td>428.864646</td>\n",
       "      <td>49.695641</td>\n",
       "      <td>2.666670</td>\n",
       "      <td>...</td>\n",
       "      <td>13.980002</td>\n",
       "      <td>454.378263</td>\n",
       "      <td>19.926658</td>\n",
       "      <td>454.378263</td>\n",
       "      <td>3.970717e+02</td>\n",
       "      <td>0.000000e+00</td>\n",
       "      <td>0.000000e+00</td>\n",
       "      <td>samsung</td>\n",
       "      <td>benign</td>\n",
       "      <td>None</td>\n",
       "    </tr>\n",
       "    <tr>\n",
       "      <th>3</th>\n",
       "      <td>3.363795</td>\n",
       "      <td>428.064755</td>\n",
       "      <td>6678.795429</td>\n",
       "      <td>3.549155</td>\n",
       "      <td>416.732858</td>\n",
       "      <td>8746.940648</td>\n",
       "      <td>3.820229</td>\n",
       "      <td>401.982767</td>\n",
       "      <td>11056.308330</td>\n",
       "      <td>5.111517</td>\n",
       "      <td>...</td>\n",
       "      <td>15.978757</td>\n",
       "      <td>456.333422</td>\n",
       "      <td>19.344796</td>\n",
       "      <td>456.333422</td>\n",
       "      <td>3.742211e+02</td>\n",
       "      <td>0.000000e+00</td>\n",
       "      <td>0.000000e+00</td>\n",
       "      <td>samsung</td>\n",
       "      <td>benign</td>\n",
       "      <td>None</td>\n",
       "    </tr>\n",
       "    <tr>\n",
       "      <th>4</th>\n",
       "      <td>1.000000</td>\n",
       "      <td>60.000001</td>\n",
       "      <td>0.000179</td>\n",
       "      <td>1.000044</td>\n",
       "      <td>60.002257</td>\n",
       "      <td>0.300567</td>\n",
       "      <td>1.055247</td>\n",
       "      <td>63.499012</td>\n",
       "      <td>467.375232</td>\n",
       "      <td>3.200599</td>\n",
       "      <td>...</td>\n",
       "      <td>4.907064</td>\n",
       "      <td>60.000000</td>\n",
       "      <td>0.000001</td>\n",
       "      <td>84.852814</td>\n",
       "      <td>1.440000e-12</td>\n",
       "      <td>-8.350000e-30</td>\n",
       "      <td>-1.060000e-17</td>\n",
       "      <td>samsung</td>\n",
       "      <td>benign</td>\n",
       "      <td>None</td>\n",
       "    </tr>\n",
       "  </tbody>\n",
       "</table>\n",
       "<p>5 rows × 118 columns</p>\n",
       "</div>"
      ],
      "text/plain": [
       "   MI_dir_L5_weight  MI_dir_L5_mean  MI_dir_L5_variance  MI_dir_L3_weight  \\\n",
       "0          2.979897      456.515870          371.700595          2.987890   \n",
       "1          1.000000      429.000000            0.000133          1.000004   \n",
       "2          1.000000      429.000000            0.000000          1.000000   \n",
       "3          3.363795      428.064755         6678.795429          3.549155   \n",
       "4          1.000000       60.000001            0.000179          1.000044   \n",
       "\n",
       "   MI_dir_L3_mean  MI_dir_L3_variance  MI_dir_L1_weight  MI_dir_L1_mean  \\\n",
       "0      456.443004          372.715178          2.995948      456.369841   \n",
       "1      428.998549            0.535599          1.016685      423.005222   \n",
       "2      429.000000            0.000006          1.000370      428.864646   \n",
       "3      416.732858         8746.940648          3.820229      401.982767   \n",
       "4       60.002257            0.300567          1.055247       63.499012   \n",
       "\n",
       "   MI_dir_L1_variance  MI_dir_L0.1_weight  ...  HpHp_L0.01_weight  \\\n",
       "0          373.755653            4.000143  ...          15.974548   \n",
       "1         2162.062877            3.241126  ...          13.978410   \n",
       "2           49.695641            2.666670  ...          13.980002   \n",
       "3        11056.308330            5.111517  ...          15.978757   \n",
       "4          467.375232            3.200599  ...           4.907064   \n",
       "\n",
       "   HpHp_L0.01_mean  HpHp_L0.01_std  HpHp_L0.01_magnitude  HpHp_L0.01_radius  \\\n",
       "0       456.333476       19.344776            456.333476       3.742204e+02   \n",
       "1       454.377983       19.926723            454.377983       3.970743e+02   \n",
       "2       454.378263       19.926658            454.378263       3.970717e+02   \n",
       "3       456.333422       19.344796            456.333422       3.742211e+02   \n",
       "4        60.000000        0.000001             84.852814       1.440000e-12   \n",
       "\n",
       "   HpHp_L0.01_covariance  HpHp_L0.01_pcc   source  output  attack_type  \n",
       "0           0.000000e+00    0.000000e+00  samsung  benign         None  \n",
       "1           0.000000e+00    0.000000e+00  samsung  benign         None  \n",
       "2           0.000000e+00    0.000000e+00  samsung  benign         None  \n",
       "3           0.000000e+00    0.000000e+00  samsung  benign         None  \n",
       "4          -8.350000e-30   -1.060000e-17  samsung  benign         None  \n",
       "\n",
       "[5 rows x 118 columns]"
      ]
     },
     "execution_count": 7,
     "metadata": {
      "tags": []
     },
     "output_type": "execute_result"
    }
   ],
   "source": [
    "data.head()"
   ]
  },
  {
   "cell_type": "code",
   "execution_count": null,
   "metadata": {
    "id": "iMcf7TpS5Cdt"
   },
   "outputs": [],
   "source": [
    "data=data.sample(frac=1).reset_index(drop=True)"
   ]
  },
  {
   "cell_type": "code",
   "execution_count": null,
   "metadata": {
    "id": "d1xMUr6X5Cdt",
    "outputId": "98f0d857-aacb-4846-bb1d-22152c5840c3"
   },
   "outputs": [
    {
     "data": {
      "text/html": [
       "<div>\n",
       "<style scoped>\n",
       "    .dataframe tbody tr th:only-of-type {\n",
       "        vertical-align: middle;\n",
       "    }\n",
       "\n",
       "    .dataframe tbody tr th {\n",
       "        vertical-align: top;\n",
       "    }\n",
       "\n",
       "    .dataframe thead th {\n",
       "        text-align: right;\n",
       "    }\n",
       "</style>\n",
       "<table border=\"1\" class=\"dataframe\">\n",
       "  <thead>\n",
       "    <tr style=\"text-align: right;\">\n",
       "      <th></th>\n",
       "      <th>MI_dir_L5_weight</th>\n",
       "      <th>MI_dir_L5_mean</th>\n",
       "      <th>MI_dir_L5_variance</th>\n",
       "      <th>MI_dir_L3_weight</th>\n",
       "      <th>MI_dir_L3_mean</th>\n",
       "      <th>MI_dir_L3_variance</th>\n",
       "      <th>MI_dir_L1_weight</th>\n",
       "      <th>MI_dir_L1_mean</th>\n",
       "      <th>MI_dir_L1_variance</th>\n",
       "      <th>MI_dir_L0.1_weight</th>\n",
       "      <th>...</th>\n",
       "      <th>HpHp_L0.01_weight</th>\n",
       "      <th>HpHp_L0.01_mean</th>\n",
       "      <th>HpHp_L0.01_std</th>\n",
       "      <th>HpHp_L0.01_magnitude</th>\n",
       "      <th>HpHp_L0.01_radius</th>\n",
       "      <th>HpHp_L0.01_covariance</th>\n",
       "      <th>HpHp_L0.01_pcc</th>\n",
       "      <th>source</th>\n",
       "      <th>output</th>\n",
       "      <th>attack_type</th>\n",
       "    </tr>\n",
       "  </thead>\n",
       "  <tbody>\n",
       "    <tr>\n",
       "      <th>0</th>\n",
       "      <td>156.190625</td>\n",
       "      <td>74.004701</td>\n",
       "      <td>0.113284</td>\n",
       "      <td>264.812857</td>\n",
       "      <td>74.012848</td>\n",
       "      <td>0.394270</td>\n",
       "      <td>809.312031</td>\n",
       "      <td>74.064328</td>\n",
       "      <td>10.045754</td>\n",
       "      <td>4289.545993</td>\n",
       "      <td>...</td>\n",
       "      <td>1.000000</td>\n",
       "      <td>74.000000</td>\n",
       "      <td>0.000000</td>\n",
       "      <td>74.000000</td>\n",
       "      <td>0.000000e+00</td>\n",
       "      <td>0.000000e+00</td>\n",
       "      <td>0.0</td>\n",
       "      <td>samsung</td>\n",
       "      <td>attack</td>\n",
       "      <td>gafgyt</td>\n",
       "    </tr>\n",
       "    <tr>\n",
       "      <th>1</th>\n",
       "      <td>1.999893</td>\n",
       "      <td>330.000000</td>\n",
       "      <td>0.000000</td>\n",
       "      <td>1.999936</td>\n",
       "      <td>330.000000</td>\n",
       "      <td>0.000000</td>\n",
       "      <td>1.999980</td>\n",
       "      <td>329.999850</td>\n",
       "      <td>0.040584</td>\n",
       "      <td>2.738291</td>\n",
       "      <td>...</td>\n",
       "      <td>6.273792</td>\n",
       "      <td>330.000000</td>\n",
       "      <td>0.000007</td>\n",
       "      <td>431.490440</td>\n",
       "      <td>4.370000e-11</td>\n",
       "      <td>1.250000e-26</td>\n",
       "      <td>0.0</td>\n",
       "      <td>security_cam</td>\n",
       "      <td>benign</td>\n",
       "      <td>None</td>\n",
       "    </tr>\n",
       "    <tr>\n",
       "      <th>2</th>\n",
       "      <td>171.173878</td>\n",
       "      <td>273.479685</td>\n",
       "      <td>62447.144692</td>\n",
       "      <td>255.671444</td>\n",
       "      <td>304.861269</td>\n",
       "      <td>63942.757146</td>\n",
       "      <td>670.859283</td>\n",
       "      <td>357.684114</td>\n",
       "      <td>62011.765771</td>\n",
       "      <td>6379.792304</td>\n",
       "      <td>...</td>\n",
       "      <td>1.000000</td>\n",
       "      <td>566.000000</td>\n",
       "      <td>0.000000</td>\n",
       "      <td>566.000000</td>\n",
       "      <td>0.000000e+00</td>\n",
       "      <td>0.000000e+00</td>\n",
       "      <td>0.0</td>\n",
       "      <td>philips_sec_cam</td>\n",
       "      <td>attack</td>\n",
       "      <td>mirai</td>\n",
       "    </tr>\n",
       "    <tr>\n",
       "      <th>3</th>\n",
       "      <td>1.999845</td>\n",
       "      <td>449.001416</td>\n",
       "      <td>400.052998</td>\n",
       "      <td>2.000111</td>\n",
       "      <td>448.961371</td>\n",
       "      <td>415.267526</td>\n",
       "      <td>2.058881</td>\n",
       "      <td>437.926823</td>\n",
       "      <td>4551.371875</td>\n",
       "      <td>3.721299</td>\n",
       "      <td>...</td>\n",
       "      <td>14.977934</td>\n",
       "      <td>455.354243</td>\n",
       "      <td>19.592984</td>\n",
       "      <td>455.354243</td>\n",
       "      <td>3.838850e+02</td>\n",
       "      <td>0.000000e+00</td>\n",
       "      <td>0.0</td>\n",
       "      <td>samsung</td>\n",
       "      <td>benign</td>\n",
       "      <td>None</td>\n",
       "    </tr>\n",
       "    <tr>\n",
       "      <th>4</th>\n",
       "      <td>1.990930</td>\n",
       "      <td>449.091115</td>\n",
       "      <td>399.991698</td>\n",
       "      <td>1.994548</td>\n",
       "      <td>449.054669</td>\n",
       "      <td>399.997116</td>\n",
       "      <td>1.999352</td>\n",
       "      <td>448.791962</td>\n",
       "      <td>487.262627</td>\n",
       "      <td>3.754564</td>\n",
       "      <td>...</td>\n",
       "      <td>14.973470</td>\n",
       "      <td>455.353983</td>\n",
       "      <td>19.593039</td>\n",
       "      <td>455.353983</td>\n",
       "      <td>3.838872e+02</td>\n",
       "      <td>0.000000e+00</td>\n",
       "      <td>0.0</td>\n",
       "      <td>samsung</td>\n",
       "      <td>benign</td>\n",
       "      <td>None</td>\n",
       "    </tr>\n",
       "  </tbody>\n",
       "</table>\n",
       "<p>5 rows × 118 columns</p>\n",
       "</div>"
      ],
      "text/plain": [
       "   MI_dir_L5_weight  MI_dir_L5_mean  MI_dir_L5_variance  MI_dir_L3_weight  \\\n",
       "0        156.190625       74.004701            0.113284        264.812857   \n",
       "1          1.999893      330.000000            0.000000          1.999936   \n",
       "2        171.173878      273.479685        62447.144692        255.671444   \n",
       "3          1.999845      449.001416          400.052998          2.000111   \n",
       "4          1.990930      449.091115          399.991698          1.994548   \n",
       "\n",
       "   MI_dir_L3_mean  MI_dir_L3_variance  MI_dir_L1_weight  MI_dir_L1_mean  \\\n",
       "0       74.012848            0.394270        809.312031       74.064328   \n",
       "1      330.000000            0.000000          1.999980      329.999850   \n",
       "2      304.861269        63942.757146        670.859283      357.684114   \n",
       "3      448.961371          415.267526          2.058881      437.926823   \n",
       "4      449.054669          399.997116          1.999352      448.791962   \n",
       "\n",
       "   MI_dir_L1_variance  MI_dir_L0.1_weight  ...  HpHp_L0.01_weight  \\\n",
       "0           10.045754         4289.545993  ...           1.000000   \n",
       "1            0.040584            2.738291  ...           6.273792   \n",
       "2        62011.765771         6379.792304  ...           1.000000   \n",
       "3         4551.371875            3.721299  ...          14.977934   \n",
       "4          487.262627            3.754564  ...          14.973470   \n",
       "\n",
       "   HpHp_L0.01_mean  HpHp_L0.01_std  HpHp_L0.01_magnitude  HpHp_L0.01_radius  \\\n",
       "0        74.000000        0.000000             74.000000       0.000000e+00   \n",
       "1       330.000000        0.000007            431.490440       4.370000e-11   \n",
       "2       566.000000        0.000000            566.000000       0.000000e+00   \n",
       "3       455.354243       19.592984            455.354243       3.838850e+02   \n",
       "4       455.353983       19.593039            455.353983       3.838872e+02   \n",
       "\n",
       "   HpHp_L0.01_covariance  HpHp_L0.01_pcc           source  output  attack_type  \n",
       "0           0.000000e+00             0.0          samsung  attack       gafgyt  \n",
       "1           1.250000e-26             0.0     security_cam  benign         None  \n",
       "2           0.000000e+00             0.0  philips_sec_cam  attack        mirai  \n",
       "3           0.000000e+00             0.0          samsung  benign         None  \n",
       "4           0.000000e+00             0.0          samsung  benign         None  \n",
       "\n",
       "[5 rows x 118 columns]"
      ]
     },
     "execution_count": 56,
     "metadata": {
      "tags": []
     },
     "output_type": "execute_result"
    }
   ],
   "source": [
    "data.head()"
   ]
  },
  {
   "cell_type": "code",
   "execution_count": null,
   "metadata": {
    "id": "xLIW7TV35Cdu"
   },
   "outputs": [],
   "source": []
  },
  {
   "cell_type": "code",
   "execution_count": null,
   "metadata": {
    "id": "vjvmhow95Cdu"
   },
   "outputs": [],
   "source": []
  },
  {
   "cell_type": "markdown",
   "metadata": {
    "id": "zQZdDR7n5Cdu"
   },
   "source": [
    "# Data Encoding"
   ]
  },
  {
   "cell_type": "code",
   "execution_count": null,
   "metadata": {
    "id": "-1Sfqhv85Cdu"
   },
   "outputs": [],
   "source": [
    "temp=data.copy()"
   ]
  },
  {
   "cell_type": "code",
   "execution_count": null,
   "metadata": {
    "id": "pudz_TW65Cdv"
   },
   "outputs": [],
   "source": [
    "#plt.figure(figsize=(12,12))\n",
    "#sns.heatmap(temp.corr())"
   ]
  },
  {
   "cell_type": "code",
   "execution_count": null,
   "metadata": {
    "id": "fnD2rzNj5Cdv"
   },
   "outputs": [],
   "source": []
  },
  {
   "cell_type": "code",
   "execution_count": null,
   "metadata": {
    "id": "BUCR6-Se5Cdv"
   },
   "outputs": [],
   "source": [
    "encoder=LabelEncoder()"
   ]
  },
  {
   "cell_type": "code",
   "execution_count": null,
   "metadata": {
    "id": "c6g4SQqR5Cdv"
   },
   "outputs": [],
   "source": [
    "temp['output']=encoder.fit_transform(data['output'])"
   ]
  },
  {
   "cell_type": "code",
   "execution_count": null,
   "metadata": {
    "id": "C5U88g535Cdv",
    "outputId": "08ae300e-53ba-4c22-8be2-31f99c01d01b"
   },
   "outputs": [
    {
     "data": {
      "text/html": [
       "<div>\n",
       "<style scoped>\n",
       "    .dataframe tbody tr th:only-of-type {\n",
       "        vertical-align: middle;\n",
       "    }\n",
       "\n",
       "    .dataframe tbody tr th {\n",
       "        vertical-align: top;\n",
       "    }\n",
       "\n",
       "    .dataframe thead th {\n",
       "        text-align: right;\n",
       "    }\n",
       "</style>\n",
       "<table border=\"1\" class=\"dataframe\">\n",
       "  <thead>\n",
       "    <tr style=\"text-align: right;\">\n",
       "      <th></th>\n",
       "      <th>MI_dir_L5_weight</th>\n",
       "      <th>MI_dir_L5_mean</th>\n",
       "      <th>MI_dir_L5_variance</th>\n",
       "      <th>MI_dir_L3_weight</th>\n",
       "      <th>MI_dir_L3_mean</th>\n",
       "      <th>MI_dir_L3_variance</th>\n",
       "      <th>MI_dir_L1_weight</th>\n",
       "      <th>MI_dir_L1_mean</th>\n",
       "      <th>MI_dir_L1_variance</th>\n",
       "      <th>MI_dir_L0.1_weight</th>\n",
       "      <th>...</th>\n",
       "      <th>HpHp_L0.01_weight</th>\n",
       "      <th>HpHp_L0.01_mean</th>\n",
       "      <th>HpHp_L0.01_std</th>\n",
       "      <th>HpHp_L0.01_magnitude</th>\n",
       "      <th>HpHp_L0.01_radius</th>\n",
       "      <th>HpHp_L0.01_covariance</th>\n",
       "      <th>HpHp_L0.01_pcc</th>\n",
       "      <th>source</th>\n",
       "      <th>output</th>\n",
       "      <th>attack_type</th>\n",
       "    </tr>\n",
       "  </thead>\n",
       "  <tbody>\n",
       "    <tr>\n",
       "      <th>0</th>\n",
       "      <td>2.979897</td>\n",
       "      <td>456.515870</td>\n",
       "      <td>371.700595</td>\n",
       "      <td>2.987890</td>\n",
       "      <td>456.443004</td>\n",
       "      <td>372.715178</td>\n",
       "      <td>2.995948</td>\n",
       "      <td>456.369841</td>\n",
       "      <td>373.755653</td>\n",
       "      <td>4.000143</td>\n",
       "      <td>...</td>\n",
       "      <td>15.974548</td>\n",
       "      <td>456.333476</td>\n",
       "      <td>19.344776</td>\n",
       "      <td>456.333476</td>\n",
       "      <td>3.742204e+02</td>\n",
       "      <td>0.000000e+00</td>\n",
       "      <td>0.000000e+00</td>\n",
       "      <td>samsung</td>\n",
       "      <td>1</td>\n",
       "      <td>None</td>\n",
       "    </tr>\n",
       "    <tr>\n",
       "      <th>1</th>\n",
       "      <td>1.000000</td>\n",
       "      <td>429.000000</td>\n",
       "      <td>0.000133</td>\n",
       "      <td>1.000004</td>\n",
       "      <td>428.998549</td>\n",
       "      <td>0.535599</td>\n",
       "      <td>1.016685</td>\n",
       "      <td>423.005222</td>\n",
       "      <td>2162.062877</td>\n",
       "      <td>3.241126</td>\n",
       "      <td>...</td>\n",
       "      <td>13.978410</td>\n",
       "      <td>454.377983</td>\n",
       "      <td>19.926723</td>\n",
       "      <td>454.377983</td>\n",
       "      <td>3.970743e+02</td>\n",
       "      <td>0.000000e+00</td>\n",
       "      <td>0.000000e+00</td>\n",
       "      <td>samsung</td>\n",
       "      <td>1</td>\n",
       "      <td>None</td>\n",
       "    </tr>\n",
       "    <tr>\n",
       "      <th>2</th>\n",
       "      <td>1.000000</td>\n",
       "      <td>429.000000</td>\n",
       "      <td>0.000000</td>\n",
       "      <td>1.000000</td>\n",
       "      <td>429.000000</td>\n",
       "      <td>0.000006</td>\n",
       "      <td>1.000370</td>\n",
       "      <td>428.864646</td>\n",
       "      <td>49.695641</td>\n",
       "      <td>2.666670</td>\n",
       "      <td>...</td>\n",
       "      <td>13.980002</td>\n",
       "      <td>454.378263</td>\n",
       "      <td>19.926658</td>\n",
       "      <td>454.378263</td>\n",
       "      <td>3.970717e+02</td>\n",
       "      <td>0.000000e+00</td>\n",
       "      <td>0.000000e+00</td>\n",
       "      <td>samsung</td>\n",
       "      <td>1</td>\n",
       "      <td>None</td>\n",
       "    </tr>\n",
       "    <tr>\n",
       "      <th>3</th>\n",
       "      <td>3.363795</td>\n",
       "      <td>428.064755</td>\n",
       "      <td>6678.795429</td>\n",
       "      <td>3.549155</td>\n",
       "      <td>416.732858</td>\n",
       "      <td>8746.940648</td>\n",
       "      <td>3.820229</td>\n",
       "      <td>401.982767</td>\n",
       "      <td>11056.308330</td>\n",
       "      <td>5.111517</td>\n",
       "      <td>...</td>\n",
       "      <td>15.978757</td>\n",
       "      <td>456.333422</td>\n",
       "      <td>19.344796</td>\n",
       "      <td>456.333422</td>\n",
       "      <td>3.742211e+02</td>\n",
       "      <td>0.000000e+00</td>\n",
       "      <td>0.000000e+00</td>\n",
       "      <td>samsung</td>\n",
       "      <td>1</td>\n",
       "      <td>None</td>\n",
       "    </tr>\n",
       "    <tr>\n",
       "      <th>4</th>\n",
       "      <td>1.000000</td>\n",
       "      <td>60.000001</td>\n",
       "      <td>0.000179</td>\n",
       "      <td>1.000044</td>\n",
       "      <td>60.002257</td>\n",
       "      <td>0.300567</td>\n",
       "      <td>1.055247</td>\n",
       "      <td>63.499012</td>\n",
       "      <td>467.375232</td>\n",
       "      <td>3.200599</td>\n",
       "      <td>...</td>\n",
       "      <td>4.907064</td>\n",
       "      <td>60.000000</td>\n",
       "      <td>0.000001</td>\n",
       "      <td>84.852814</td>\n",
       "      <td>1.440000e-12</td>\n",
       "      <td>-8.350000e-30</td>\n",
       "      <td>-1.060000e-17</td>\n",
       "      <td>samsung</td>\n",
       "      <td>1</td>\n",
       "      <td>None</td>\n",
       "    </tr>\n",
       "  </tbody>\n",
       "</table>\n",
       "<p>5 rows × 118 columns</p>\n",
       "</div>"
      ],
      "text/plain": [
       "   MI_dir_L5_weight  MI_dir_L5_mean  MI_dir_L5_variance  MI_dir_L3_weight  \\\n",
       "0          2.979897      456.515870          371.700595          2.987890   \n",
       "1          1.000000      429.000000            0.000133          1.000004   \n",
       "2          1.000000      429.000000            0.000000          1.000000   \n",
       "3          3.363795      428.064755         6678.795429          3.549155   \n",
       "4          1.000000       60.000001            0.000179          1.000044   \n",
       "\n",
       "   MI_dir_L3_mean  MI_dir_L3_variance  MI_dir_L1_weight  MI_dir_L1_mean  \\\n",
       "0      456.443004          372.715178          2.995948      456.369841   \n",
       "1      428.998549            0.535599          1.016685      423.005222   \n",
       "2      429.000000            0.000006          1.000370      428.864646   \n",
       "3      416.732858         8746.940648          3.820229      401.982767   \n",
       "4       60.002257            0.300567          1.055247       63.499012   \n",
       "\n",
       "   MI_dir_L1_variance  MI_dir_L0.1_weight  ...  HpHp_L0.01_weight  \\\n",
       "0          373.755653            4.000143  ...          15.974548   \n",
       "1         2162.062877            3.241126  ...          13.978410   \n",
       "2           49.695641            2.666670  ...          13.980002   \n",
       "3        11056.308330            5.111517  ...          15.978757   \n",
       "4          467.375232            3.200599  ...           4.907064   \n",
       "\n",
       "   HpHp_L0.01_mean  HpHp_L0.01_std  HpHp_L0.01_magnitude  HpHp_L0.01_radius  \\\n",
       "0       456.333476       19.344776            456.333476       3.742204e+02   \n",
       "1       454.377983       19.926723            454.377983       3.970743e+02   \n",
       "2       454.378263       19.926658            454.378263       3.970717e+02   \n",
       "3       456.333422       19.344796            456.333422       3.742211e+02   \n",
       "4        60.000000        0.000001             84.852814       1.440000e-12   \n",
       "\n",
       "   HpHp_L0.01_covariance  HpHp_L0.01_pcc   source  output  attack_type  \n",
       "0           0.000000e+00    0.000000e+00  samsung       1         None  \n",
       "1           0.000000e+00    0.000000e+00  samsung       1         None  \n",
       "2           0.000000e+00    0.000000e+00  samsung       1         None  \n",
       "3           0.000000e+00    0.000000e+00  samsung       1         None  \n",
       "4          -8.350000e-30   -1.060000e-17  samsung       1         None  \n",
       "\n",
       "[5 rows x 118 columns]"
      ]
     },
     "execution_count": 12,
     "metadata": {
      "tags": []
     },
     "output_type": "execute_result"
    }
   ],
   "source": [
    "temp.head()"
   ]
  },
  {
   "cell_type": "markdown",
   "metadata": {
    "id": "6RMwnQmx5Cdw"
   },
   "source": [
    "## One Hot Encoding the Data Sources"
   ]
  },
  {
   "cell_type": "code",
   "execution_count": null,
   "metadata": {
    "id": "JAEwkzmQ5Cdw"
   },
   "outputs": [],
   "source": []
  },
  {
   "cell_type": "code",
   "execution_count": null,
   "metadata": {
    "id": "gEATId6b5Cdw"
   },
   "outputs": [],
   "source": []
  },
  {
   "cell_type": "code",
   "execution_count": null,
   "metadata": {
    "id": "9A9JiMJX5Cdw"
   },
   "outputs": [],
   "source": [
    "temp2=pd.get_dummies(temp,columns=['source'])"
   ]
  },
  {
   "cell_type": "code",
   "execution_count": null,
   "metadata": {
    "id": "2oCKohZ65Cdw"
   },
   "outputs": [],
   "source": [
    "\n",
    "temp=temp2"
   ]
  },
  {
   "cell_type": "code",
   "execution_count": null,
   "metadata": {
    "id": "AkhyLp015Cdx"
   },
   "outputs": [],
   "source": [
    "temp=temp.sample(frac=1)"
   ]
  },
  {
   "cell_type": "code",
   "execution_count": null,
   "metadata": {
    "id": "XzjDaA7J5Cdx"
   },
   "outputs": [],
   "source": [
    "temp.reset_index(inplace=True)"
   ]
  },
  {
   "cell_type": "code",
   "execution_count": null,
   "metadata": {
    "id": "nuGtus9j5Cdx"
   },
   "outputs": [],
   "source": [
    "X=temp.drop(['output','attack_type'],axis=1)\n",
    "y=temp['output']"
   ]
  },
  {
   "cell_type": "markdown",
   "metadata": {
    "id": "r5sD9Cuo5Cdx"
   },
   "source": [
    "# Scaling"
   ]
  },
  {
   "cell_type": "code",
   "execution_count": null,
   "metadata": {
    "id": "6Js9n3I65Cdx"
   },
   "outputs": [],
   "source": []
  },
  {
   "cell_type": "code",
   "execution_count": null,
   "metadata": {
    "id": "oSpaJuUY5Cdy"
   },
   "outputs": [],
   "source": []
  },
  {
   "cell_type": "code",
   "execution_count": null,
   "metadata": {
    "id": "Eq1GZmW45Cdy"
   },
   "outputs": [],
   "source": [
    "X[X.columns[:115]]=scaler.fit_transform(X[X.columns[:115]])"
   ]
  },
  {
   "cell_type": "code",
   "execution_count": null,
   "metadata": {
    "id": "rT2RfIgA5Cdy"
   },
   "outputs": [],
   "source": [
    "X.drop('index',axis=1,inplace=True)"
   ]
  },
  {
   "cell_type": "code",
   "execution_count": null,
   "metadata": {
    "id": "Ma-DSQPo5Cdy"
   },
   "outputs": [],
   "source": [
    "#X"
   ]
  },
  {
   "cell_type": "code",
   "execution_count": null,
   "metadata": {
    "id": "b4BYLI5H5Cdy",
    "outputId": "f7886636-2591-444d-d47b-b57897677341"
   },
   "outputs": [
    {
     "data": {
      "text/plain": [
       "\"desc=X.describe()\\nfor col in X.columns:\\n    print(col,desc.at['min',col])\""
      ]
     },
     "execution_count": 23,
     "metadata": {
      "tags": []
     },
     "output_type": "execute_result"
    }
   ],
   "source": [
    "\"\"\"desc=X.describe()\n",
    "for col in X.columns:\n",
    "    print(col,desc.at['min',col])\"\"\""
   ]
  },
  {
   "cell_type": "code",
   "execution_count": null,
   "metadata": {
    "id": "oStH6_1E5Cdz",
    "outputId": "522941d0-4db5-4939-e3c6-a2ccf8b05c67"
   },
   "outputs": [
    {
     "name": "stdout",
     "output_type": "stream",
     "text": [
      "MI_dir_L5_weight           float64\n",
      "MI_dir_L5_mean             float64\n",
      "MI_dir_L5_variance         float64\n",
      "MI_dir_L3_weight           float64\n",
      "MI_dir_L3_mean             float64\n",
      "                            ...   \n",
      "HpHp_L0.01_pcc             float64\n",
      "source_danmini_doorbell      uint8\n",
      "source_philips_sec_cam       uint8\n",
      "source_samsung               uint8\n",
      "source_security_cam          uint8\n",
      "Length: 119, dtype: object\n"
     ]
    }
   ],
   "source": [
    "print(X.dtypes)"
   ]
  },
  {
   "cell_type": "code",
   "execution_count": null,
   "metadata": {
    "id": "x3ROaBp45Cdz"
   },
   "outputs": [],
   "source": [
    "from sklearn.model_selection import train_test_split\n"
   ]
  },
  {
   "cell_type": "code",
   "execution_count": null,
   "metadata": {
    "id": "x3PXbdKO5Cdz"
   },
   "outputs": [],
   "source": [
    "X_train,X_test,y_train,y_test=train_test_split(X,y)"
   ]
  },
  {
   "cell_type": "code",
   "execution_count": null,
   "metadata": {
    "id": "AErfLIsA5Cdz"
   },
   "outputs": [],
   "source": [
    "from sklearn.linear_model import LogisticRegression"
   ]
  },
  {
   "cell_type": "code",
   "execution_count": null,
   "metadata": {
    "id": "pEVwy6LV5Cdz"
   },
   "outputs": [],
   "source": [
    "logreg=LogisticRegression()"
   ]
  },
  {
   "cell_type": "markdown",
   "metadata": {
    "id": "YqZw4eTv5Cd0"
   },
   "source": [
    "# Testing on the Whole dataset"
   ]
  },
  {
   "cell_type": "code",
   "execution_count": null,
   "metadata": {
    "id": "7wQUBKdz5Cd0",
    "outputId": "d06507bc-7fad-4cbb-a2f6-a6f822f0b6d9"
   },
   "outputs": [
    {
     "name": "stderr",
     "output_type": "stream",
     "text": [
      "c:\\users\\mihee\\appdata\\local\\programs\\python\\python36\\lib\\site-packages\\sklearn\\linear_model\\logistic.py:432: FutureWarning: Default solver will be changed to 'lbfgs' in 0.22. Specify a solver to silence this warning.\n",
      "  FutureWarning)\n"
     ]
    },
    {
     "name": "stdout",
     "output_type": "stream",
     "text": [
      "              precision    recall  f1-score   support\n",
      "\n",
      "           0       1.00      1.00      1.00      2278\n",
      "           1       1.00      1.00      1.00      2472\n",
      "\n",
      "    accuracy                           1.00      4750\n",
      "   macro avg       1.00      1.00      1.00      4750\n",
      "weighted avg       1.00      1.00      1.00      4750\n",
      "\n"
     ]
    }
   ],
   "source": [
    "# Testing on the whole dataset\n",
    "logreg.fit(X_train,y_train)\n",
    "preds=logreg.predict(X_test)\n",
    "from sklearn.metrics import classification_report\n",
    "print(classification_report(y_test,preds))"
   ]
  },
  {
   "cell_type": "code",
   "execution_count": null,
   "metadata": {
    "id": "BRGXCanb5Cd0"
   },
   "outputs": [],
   "source": []
  },
  {
   "cell_type": "code",
   "execution_count": null,
   "metadata": {
    "id": "-a1mGKRR5Cd0",
    "outputId": "b32d3cd8-a927-43fd-92fc-b5617d22e3ab"
   },
   "outputs": [
    {
     "data": {
      "text/html": [
       "<div>\n",
       "<style scoped>\n",
       "    .dataframe tbody tr th:only-of-type {\n",
       "        vertical-align: middle;\n",
       "    }\n",
       "\n",
       "    .dataframe tbody tr th {\n",
       "        vertical-align: top;\n",
       "    }\n",
       "\n",
       "    .dataframe thead th {\n",
       "        text-align: right;\n",
       "    }\n",
       "</style>\n",
       "<table border=\"1\" class=\"dataframe\">\n",
       "  <thead>\n",
       "    <tr style=\"text-align: right;\">\n",
       "      <th></th>\n",
       "      <th>MI_dir_L5_weight</th>\n",
       "      <th>MI_dir_L5_mean</th>\n",
       "      <th>MI_dir_L5_variance</th>\n",
       "      <th>MI_dir_L3_weight</th>\n",
       "      <th>MI_dir_L3_mean</th>\n",
       "      <th>MI_dir_L3_variance</th>\n",
       "      <th>MI_dir_L1_weight</th>\n",
       "      <th>MI_dir_L1_mean</th>\n",
       "      <th>MI_dir_L1_variance</th>\n",
       "      <th>MI_dir_L0.1_weight</th>\n",
       "      <th>...</th>\n",
       "      <th>HpHp_L0.01_mean</th>\n",
       "      <th>HpHp_L0.01_std</th>\n",
       "      <th>HpHp_L0.01_magnitude</th>\n",
       "      <th>HpHp_L0.01_radius</th>\n",
       "      <th>HpHp_L0.01_covariance</th>\n",
       "      <th>HpHp_L0.01_pcc</th>\n",
       "      <th>source_danmini_doorbell</th>\n",
       "      <th>source_philips_sec_cam</th>\n",
       "      <th>source_samsung</th>\n",
       "      <th>source_security_cam</th>\n",
       "    </tr>\n",
       "  </thead>\n",
       "  <tbody>\n",
       "    <tr>\n",
       "      <th>15494</th>\n",
       "      <td>0.436734</td>\n",
       "      <td>0.180619</td>\n",
       "      <td>0.142379</td>\n",
       "      <td>0.507966</td>\n",
       "      <td>0.213692</td>\n",
       "      <td>0.140380</td>\n",
       "      <td>6.704113e-01</td>\n",
       "      <td>0.239853</td>\n",
       "      <td>1.293362e-01</td>\n",
       "      <td>0.790826</td>\n",
       "      <td>...</td>\n",
       "      <td>0.000000</td>\n",
       "      <td>0.000000e+00</td>\n",
       "      <td>0.000000</td>\n",
       "      <td>0.000000e+00</td>\n",
       "      <td>0.577522</td>\n",
       "      <td>0.000000e+00</td>\n",
       "      <td>0</td>\n",
       "      <td>1</td>\n",
       "      <td>0</td>\n",
       "      <td>0</td>\n",
       "    </tr>\n",
       "    <tr>\n",
       "      <th>8621</th>\n",
       "      <td>0.449016</td>\n",
       "      <td>0.249898</td>\n",
       "      <td>0.122332</td>\n",
       "      <td>0.556136</td>\n",
       "      <td>0.258548</td>\n",
       "      <td>0.119155</td>\n",
       "      <td>7.058859e-01</td>\n",
       "      <td>0.272617</td>\n",
       "      <td>1.095139e-01</td>\n",
       "      <td>0.782872</td>\n",
       "      <td>...</td>\n",
       "      <td>0.367937</td>\n",
       "      <td>0.000000e+00</td>\n",
       "      <td>0.367531</td>\n",
       "      <td>0.000000e+00</td>\n",
       "      <td>0.577522</td>\n",
       "      <td>0.000000e+00</td>\n",
       "      <td>0</td>\n",
       "      <td>0</td>\n",
       "      <td>0</td>\n",
       "      <td>1</td>\n",
       "    </tr>\n",
       "    <tr>\n",
       "      <th>8593</th>\n",
       "      <td>0.511467</td>\n",
       "      <td>0.010078</td>\n",
       "      <td>0.000002</td>\n",
       "      <td>0.627404</td>\n",
       "      <td>0.010100</td>\n",
       "      <td>0.000002</td>\n",
       "      <td>8.405662e-01</td>\n",
       "      <td>0.010237</td>\n",
       "      <td>1.571847e-05</td>\n",
       "      <td>0.989740</td>\n",
       "      <td>...</td>\n",
       "      <td>0.010180</td>\n",
       "      <td>0.000000e+00</td>\n",
       "      <td>0.025617</td>\n",
       "      <td>0.000000e+00</td>\n",
       "      <td>0.577522</td>\n",
       "      <td>0.000000e+00</td>\n",
       "      <td>0</td>\n",
       "      <td>0</td>\n",
       "      <td>1</td>\n",
       "      <td>0</td>\n",
       "    </tr>\n",
       "    <tr>\n",
       "      <th>676</th>\n",
       "      <td>0.003317</td>\n",
       "      <td>0.193890</td>\n",
       "      <td>0.000023</td>\n",
       "      <td>0.002482</td>\n",
       "      <td>0.193508</td>\n",
       "      <td>0.000603</td>\n",
       "      <td>1.288737e-03</td>\n",
       "      <td>0.179116</td>\n",
       "      <td>1.309904e-02</td>\n",
       "      <td>0.000319</td>\n",
       "      <td>...</td>\n",
       "      <td>0.196330</td>\n",
       "      <td>5.704999e-09</td>\n",
       "      <td>0.269831</td>\n",
       "      <td>4.315641e-17</td>\n",
       "      <td>0.577522</td>\n",
       "      <td>-2.410000e-16</td>\n",
       "      <td>0</td>\n",
       "      <td>0</td>\n",
       "      <td>0</td>\n",
       "      <td>1</td>\n",
       "    </tr>\n",
       "    <tr>\n",
       "      <th>15</th>\n",
       "      <td>0.000000</td>\n",
       "      <td>0.265020</td>\n",
       "      <td>0.000000</td>\n",
       "      <td>0.000000</td>\n",
       "      <td>0.265435</td>\n",
       "      <td>0.000000</td>\n",
       "      <td>1.063762e-09</td>\n",
       "      <td>0.268603</td>\n",
       "      <td>2.153730e-07</td>\n",
       "      <td>0.000128</td>\n",
       "      <td>...</td>\n",
       "      <td>0.286771</td>\n",
       "      <td>2.983775e-02</td>\n",
       "      <td>0.286455</td>\n",
       "      <td>8.318578e-04</td>\n",
       "      <td>0.577522</td>\n",
       "      <td>0.000000e+00</td>\n",
       "      <td>0</td>\n",
       "      <td>0</td>\n",
       "      <td>1</td>\n",
       "      <td>0</td>\n",
       "    </tr>\n",
       "  </tbody>\n",
       "</table>\n",
       "<p>5 rows × 119 columns</p>\n",
       "</div>"
      ],
      "text/plain": [
       "       MI_dir_L5_weight  MI_dir_L5_mean  MI_dir_L5_variance  MI_dir_L3_weight  \\\n",
       "15494          0.436734        0.180619            0.142379          0.507966   \n",
       "8621           0.449016        0.249898            0.122332          0.556136   \n",
       "8593           0.511467        0.010078            0.000002          0.627404   \n",
       "676            0.003317        0.193890            0.000023          0.002482   \n",
       "15             0.000000        0.265020            0.000000          0.000000   \n",
       "\n",
       "       MI_dir_L3_mean  MI_dir_L3_variance  MI_dir_L1_weight  MI_dir_L1_mean  \\\n",
       "15494        0.213692            0.140380      6.704113e-01        0.239853   \n",
       "8621         0.258548            0.119155      7.058859e-01        0.272617   \n",
       "8593         0.010100            0.000002      8.405662e-01        0.010237   \n",
       "676          0.193508            0.000603      1.288737e-03        0.179116   \n",
       "15           0.265435            0.000000      1.063762e-09        0.268603   \n",
       "\n",
       "       MI_dir_L1_variance  MI_dir_L0.1_weight  ...  HpHp_L0.01_mean  \\\n",
       "15494        1.293362e-01            0.790826  ...         0.000000   \n",
       "8621         1.095139e-01            0.782872  ...         0.367937   \n",
       "8593         1.571847e-05            0.989740  ...         0.010180   \n",
       "676          1.309904e-02            0.000319  ...         0.196330   \n",
       "15           2.153730e-07            0.000128  ...         0.286771   \n",
       "\n",
       "       HpHp_L0.01_std  HpHp_L0.01_magnitude  HpHp_L0.01_radius  \\\n",
       "15494    0.000000e+00              0.000000       0.000000e+00   \n",
       "8621     0.000000e+00              0.367531       0.000000e+00   \n",
       "8593     0.000000e+00              0.025617       0.000000e+00   \n",
       "676      5.704999e-09              0.269831       4.315641e-17   \n",
       "15       2.983775e-02              0.286455       8.318578e-04   \n",
       "\n",
       "       HpHp_L0.01_covariance  HpHp_L0.01_pcc  source_danmini_doorbell  \\\n",
       "15494               0.577522    0.000000e+00                        0   \n",
       "8621                0.577522    0.000000e+00                        0   \n",
       "8593                0.577522    0.000000e+00                        0   \n",
       "676                 0.577522   -2.410000e-16                        0   \n",
       "15                  0.577522    0.000000e+00                        0   \n",
       "\n",
       "       source_philips_sec_cam  source_samsung  source_security_cam  \n",
       "15494                       1               0                    0  \n",
       "8621                        0               0                    1  \n",
       "8593                        0               1                    0  \n",
       "676                         0               0                    1  \n",
       "15                          0               1                    0  \n",
       "\n",
       "[5 rows x 119 columns]"
      ]
     },
     "execution_count": 84,
     "metadata": {
      "tags": []
     },
     "output_type": "execute_result"
    }
   ],
   "source": [
    "X_train.head()"
   ]
  },
  {
   "cell_type": "code",
   "execution_count": null,
   "metadata": {
    "id": "ZjgOIchc5Cd0"
   },
   "outputs": [],
   "source": []
  },
  {
   "cell_type": "code",
   "execution_count": null,
   "metadata": {
    "id": "z2NxJSyO5Cd1"
   },
   "outputs": [],
   "source": [
    "X_train=X_train.to_numpy()"
   ]
  },
  {
   "cell_type": "code",
   "execution_count": null,
   "metadata": {
    "id": "tEyeJCla5Cd1"
   },
   "outputs": [],
   "source": [
    "y_train=y_train.to_numpy()"
   ]
  },
  {
   "cell_type": "code",
   "execution_count": null,
   "metadata": {
    "id": "jfnzy0sT5Cd1"
   },
   "outputs": [],
   "source": []
  },
  {
   "cell_type": "code",
   "execution_count": null,
   "metadata": {
    "id": "aP2udG4M5Cd1"
   },
   "outputs": [],
   "source": []
  },
  {
   "cell_type": "markdown",
   "metadata": {
    "id": "Z0Bp7GCF5Cd1"
   },
   "source": [
    "# Feature Selection"
   ]
  },
  {
   "cell_type": "code",
   "execution_count": null,
   "metadata": {
    "id": "6AM_y8Jb5Cd1"
   },
   "outputs": [],
   "source": [
    "from feature_selection_ga import FeatureSelectionGA, FitnessFunction"
   ]
  },
  {
   "cell_type": "code",
   "execution_count": null,
   "metadata": {
    "id": "1EWKvXNQ5Cd1",
    "outputId": "a679df50-3b20-4608-c132-bacd7996ff04"
   },
   "outputs": [
    {
     "name": "stderr",
     "output_type": "stream",
     "text": [
      "c:\\users\\mihee\\appdata\\local\\programs\\python\\python36\\lib\\site-packages\\deap\\creator.py:141: RuntimeWarning: A class named 'FeatureSelect' has already been created and it will be overwritten. Consider deleting previous creation of that class or rename it.\n",
      "  RuntimeWarning)\n",
      "c:\\users\\mihee\\appdata\\local\\programs\\python\\python36\\lib\\site-packages\\deap\\creator.py:141: RuntimeWarning: A class named 'Individual' has already been created and it will be overwritten. Consider deleting previous creation of that class or rename it.\n",
      "  RuntimeWarning)\n"
     ]
    }
   ],
   "source": [
    "from feature_selection_ga import FeatureSelectionGA, FitnessFunction\n",
    "model = LogisticRegression(solver='lbfgs')\n",
    "fsga = FeatureSelectionGA(model,X_train,y_train, ff_obj = FitnessFunction())"
   ]
  },
  {
   "cell_type": "code",
   "execution_count": null,
   "metadata": {
    "id": "4NWS-erm5Cd2",
    "outputId": "b900de34-3b56-4dcc-f5af-1fed2e53b8b3"
   },
   "outputs": [
    {
     "name": "stdout",
     "output_type": "stream",
     "text": [
      "EVOLVING.......\n",
      "-- GENERATION 1 --\n",
      "Evaluated 32 individuals\n",
      "-- GENERATION 2 --\n",
      "Evaluated 31 individuals\n",
      "-- GENERATION 3 --\n",
      "Evaluated 31 individuals\n",
      "-- GENERATION 4 --\n",
      "Evaluated 26 individuals\n",
      "-- GENERATION 5 --\n",
      "Evaluated 32 individuals\n",
      "-- Only the fittest survives --\n",
      "Best individual is [0, 1, 1, 1, 0, 0, 1, 0, 0, 0, 1, 0, 0, 1, 1, 1, 0, 0, 1, 0, 1, 1, 1, 0, 1, 0, 1, 1, 0, 1, 0, 1, 1, 1, 0, 1, 1, 1, 0, 1, 1, 1, 0, 0, 0, 0, 0, 1, 0, 0, 0, 1, 1, 1, 1, 1, 1, 0, 0, 0, 1, 1, 0, 0, 0, 0, 1, 1, 1, 0, 1, 0, 1, 0, 1, 1, 0, 1, 1, 0, 0, 1, 0, 0, 0, 0, 0, 0, 1, 0, 0, 0, 1, 1, 0, 0, 1, 0, 0, 1, 1, 1, 0, 0, 1, 1, 1, 0, 1, 0, 1, 0, 0, 1, 0, 1, 1, 1, 0], (0.9999298245614036,)\n"
     ]
    }
   ],
   "source": [
    "pop=fsga.generate(50)"
   ]
  },
  {
   "cell_type": "code",
   "execution_count": null,
   "metadata": {
    "id": "dPFYSLaX5Cd2",
    "outputId": "ee185433-052b-4d94-92ec-9c497c31cd22"
   },
   "outputs": [
    {
     "data": {
      "text/plain": [
       "(19000, 118)"
      ]
     },
     "execution_count": 38,
     "metadata": {
      "tags": []
     },
     "output_type": "execute_result"
    }
   ],
   "source": [
    "data.shape"
   ]
  },
  {
   "cell_type": "code",
   "execution_count": null,
   "metadata": {
    "id": "6v8BHgpJ5Cd2"
   },
   "outputs": [],
   "source": [
    "\n",
    "final_pop= [0, 1, 1, 1, 0, 0, 1, 0, 0, 0, 1, 0, 0, 1, 1, 1, 0, 0, 1, 0, 1, 1, 1, 0, 1, 0, 1, 1, 0, 1, 0, 1, 1, 1, 0, 1, 1, 1, 0, 1, 1, 1, 0, 0, 0, 0, 0, 1, 0, 0, 0, 1, 1, 1, 1, 1, 1, 0, 0, 0, 1, 1, 0, 0, 0, 0, 1, 1, 1, 0, 1, 0, 1, 0, 1, 1, 0, 1, 1, 0, 0, 1, 0, 0, 0, 0, 0, 0, 1, 0, 0, 0, 1, 1, 0, 0, 1, 0, 0, 1, 1, 1, 0, 0, 1, 1, 1, 0, 1, 0, 1, 0, 0, 1, 0, 1, 1, 1, 0]\n",
    "selected_cols=[]\n",
    "for idx in range(len(final_pop)):\n",
    "    if final_pop[idx]==1:\n",
    "        selected_cols.append(X.columns[idx])"
   ]
  },
  {
   "cell_type": "code",
   "execution_count": null,
   "metadata": {
    "id": "yqn4MpKE5Cd2",
    "outputId": "e59fcaed-b7cd-4be0-c26f-9d188b7a9e50"
   },
   "outputs": [
    {
     "data": {
      "text/plain": [
       "['MI_dir_L5_mean',\n",
       " 'MI_dir_L5_variance',\n",
       " 'MI_dir_L3_weight',\n",
       " 'MI_dir_L1_weight',\n",
       " 'MI_dir_L0.1_mean',\n",
       " 'MI_dir_L0.01_mean',\n",
       " 'MI_dir_L0.01_variance',\n",
       " 'H_L5_weight',\n",
       " 'H_L3_weight',\n",
       " 'H_L3_variance',\n",
       " 'H_L1_weight',\n",
       " 'H_L1_mean',\n",
       " 'H_L0.1_weight',\n",
       " 'H_L0.1_variance',\n",
       " 'H_L0.01_weight',\n",
       " 'H_L0.01_variance',\n",
       " 'HH_L5_mean',\n",
       " 'HH_L5_std',\n",
       " 'HH_L5_magnitude',\n",
       " 'HH_L5_covariance',\n",
       " 'HH_L5_pcc',\n",
       " 'HH_L3_weight',\n",
       " 'HH_L3_std',\n",
       " 'HH_L3_magnitude',\n",
       " 'HH_L3_radius',\n",
       " 'HH_L1_magnitude',\n",
       " 'HH_L0.1_weight',\n",
       " 'HH_L0.1_mean',\n",
       " 'HH_L0.1_std',\n",
       " 'HH_L0.1_magnitude',\n",
       " 'HH_L0.1_radius',\n",
       " 'HH_L0.1_covariance',\n",
       " 'HH_L0.01_std',\n",
       " 'HH_L0.01_magnitude',\n",
       " 'HH_jit_L5_mean',\n",
       " 'HH_jit_L5_variance',\n",
       " 'HH_jit_L3_weight',\n",
       " 'HH_jit_L3_variance',\n",
       " 'HH_jit_L1_mean',\n",
       " 'HH_jit_L0.1_weight',\n",
       " 'HH_jit_L0.1_mean',\n",
       " 'HH_jit_L0.01_weight',\n",
       " 'HH_jit_L0.01_mean',\n",
       " 'HpHp_L5_mean',\n",
       " 'HpHp_L3_mean',\n",
       " 'HpHp_L3_covariance',\n",
       " 'HpHp_L3_pcc',\n",
       " 'HpHp_L1_std',\n",
       " 'HpHp_L1_covariance',\n",
       " 'HpHp_L1_pcc',\n",
       " 'HpHp_L0.1_weight',\n",
       " 'HpHp_L0.1_magnitude',\n",
       " 'HpHp_L0.1_radius',\n",
       " 'HpHp_L0.1_covariance',\n",
       " 'HpHp_L0.01_weight',\n",
       " 'HpHp_L0.01_std',\n",
       " 'HpHp_L0.01_covariance',\n",
       " 'source_danmini_doorbell',\n",
       " 'source_philips_sec_cam',\n",
       " 'source_samsung']"
      ]
     },
     "execution_count": 91,
     "metadata": {
      "tags": []
     },
     "output_type": "execute_result"
    }
   ],
   "source": [
    "selected_cols"
   ]
  },
  {
   "cell_type": "code",
   "execution_count": null,
   "metadata": {
    "id": "chNT1WE_5Cd3"
   },
   "outputs": [],
   "source": [
    "model=LogisticRegression(solver='lbfgs')"
   ]
  },
  {
   "cell_type": "code",
   "execution_count": null,
   "metadata": {
    "id": "b3RBEO2l5Cd3"
   },
   "outputs": [],
   "source": [
    "temp_Xtrain=pd.DataFrame(X_train,columns=X.columns)"
   ]
  },
  {
   "cell_type": "code",
   "execution_count": null,
   "metadata": {
    "id": "62Bbryhp5Cd3"
   },
   "outputs": [],
   "source": [
    "X_test_subset=X_test[selected_cols]\n",
    "X_train_subset=temp_Xtrain[selected_cols]"
   ]
  },
  {
   "cell_type": "code",
   "execution_count": null,
   "metadata": {
    "id": "pYgW3Yd_5Cd3",
    "outputId": "7fce250d-917f-4c29-fa14-e0f17b738212"
   },
   "outputs": [
    {
     "data": {
      "text/plain": [
       "LogisticRegression(C=1.0, class_weight=None, dual=False, fit_intercept=True,\n",
       "                   intercept_scaling=1, l1_ratio=None, max_iter=100,\n",
       "                   multi_class='warn', n_jobs=None, penalty='l2',\n",
       "                   random_state=None, solver='lbfgs', tol=0.0001, verbose=0,\n",
       "                   warm_start=False)"
      ]
     },
     "execution_count": 95,
     "metadata": {
      "tags": []
     },
     "output_type": "execute_result"
    }
   ],
   "source": [
    "model.fit(X_train_subset,y_train)"
   ]
  },
  {
   "cell_type": "code",
   "execution_count": null,
   "metadata": {
    "id": "R66kF_cl5Cd3"
   },
   "outputs": [],
   "source": [
    "preds=model.predict(X_test_subset)"
   ]
  },
  {
   "cell_type": "code",
   "execution_count": null,
   "metadata": {
    "id": "biaajp2J5Cd4",
    "outputId": "9631277a-424d-47e7-ea56-edd6c81dbf5b"
   },
   "outputs": [
    {
     "data": {
      "text/plain": [
       "60"
      ]
     },
     "execution_count": 97,
     "metadata": {
      "tags": []
     },
     "output_type": "execute_result"
    }
   ],
   "source": [
    "len(selected_cols)"
   ]
  },
  {
   "cell_type": "code",
   "execution_count": null,
   "metadata": {
    "id": "rIpZeKWr5Cd4",
    "outputId": "ec550aff-a9c5-4005-f387-fe0cca52e3bb"
   },
   "outputs": [
    {
     "name": "stdout",
     "output_type": "stream",
     "text": [
      "              precision    recall  f1-score   support\n",
      "\n",
      "           0       1.00      1.00      1.00      2238\n",
      "           1       1.00      1.00      1.00      2512\n",
      "\n",
      "    accuracy                           1.00      4750\n",
      "   macro avg       1.00      1.00      1.00      4750\n",
      "weighted avg       1.00      1.00      1.00      4750\n",
      "\n"
     ]
    }
   ],
   "source": [
    "from sklearn.metrics import classification_report\n",
    "print(classification_report(y_test,preds))"
   ]
  },
  {
   "cell_type": "code",
   "execution_count": null,
   "metadata": {
    "id": "gpcqaJzr5Cd4",
    "outputId": "87960027-8a84-459e-8d24-2b4a65878242"
   },
   "outputs": [
    {
     "data": {
      "text/plain": [
       "<AxesSubplot:xlabel='H_L0.1_weight', ylabel='HpHp_L0.1_magnitude'>"
      ]
     },
     "execution_count": 118,
     "metadata": {
      "tags": []
     },
     "output_type": "execute_result"
    },
    {
     "data": {
      "image/png": "[encoded data removed]",
      "text/plain": [
       "<Figure size 432x288 with 1 Axes>"
      ]
     },
     "metadata": {
      "needs_background": "light",
      "tags": []
     },
     "output_type": "display_data"
    }
   ],
   "source": [
    "num1=12\n",
    "num2=51\n",
    "sns.scatterplot(x=selected_cols[num1],y=selected_cols[num2],hue='output',data=data)"
   ]
  },
  {
   "cell_type": "code",
   "execution_count": null,
   "metadata": {
    "id": "Xe744zRD5Cd4",
    "outputId": "8cd7431a-a275-4e73-d35e-253cc1d2371e"
   },
   "outputs": [
    {
     "data": {
      "text/plain": [
       "benign    10000\n",
       "attack     9000\n",
       "Name: output, dtype: int64"
      ]
     },
     "execution_count": 105,
     "metadata": {
      "tags": []
     },
     "output_type": "execute_result"
    }
   ],
   "source": [
    "data['output'].value_counts()"
   ]
  },
  {
   "cell_type": "markdown",
   "metadata": {
    "id": "xNcKPbj85Cd7"
   },
   "source": [
    "# Test on a set of 2 features"
   ]
  },
  {
   "cell_type": "code",
   "execution_count": null,
   "metadata": {
    "id": "xUUxe9th5Cd7"
   },
   "outputs": [],
   "source": [
    "test=temp[[selected_cols[num1],selected_cols[num2],'output']]"
   ]
  },
  {
   "cell_type": "code",
   "execution_count": null,
   "metadata": {
    "id": "rGJdl6in5Cd7",
    "outputId": "ad1d28a6-330b-4757-c032-7faaae87f94a"
   },
   "outputs": [
    {
     "data": {
      "text/html": [
       "<div>\n",
       "<style scoped>\n",
       "    .dataframe tbody tr th:only-of-type {\n",
       "        vertical-align: middle;\n",
       "    }\n",
       "\n",
       "    .dataframe tbody tr th {\n",
       "        vertical-align: top;\n",
       "    }\n",
       "\n",
       "    .dataframe thead th {\n",
       "        text-align: right;\n",
       "    }\n",
       "</style>\n",
       "<table border=\"1\" class=\"dataframe\">\n",
       "  <thead>\n",
       "    <tr style=\"text-align: right;\">\n",
       "      <th></th>\n",
       "      <th>H_L0.1_weight</th>\n",
       "      <th>HpHp_L0.1_magnitude</th>\n",
       "      <th>output</th>\n",
       "    </tr>\n",
       "  </thead>\n",
       "  <tbody>\n",
       "    <tr>\n",
       "      <th>0</th>\n",
       "      <td>7598.895006</td>\n",
       "      <td>74.000000</td>\n",
       "      <td>0</td>\n",
       "    </tr>\n",
       "    <tr>\n",
       "      <th>1</th>\n",
       "      <td>7180.838896</td>\n",
       "      <td>95.268043</td>\n",
       "      <td>0</td>\n",
       "    </tr>\n",
       "    <tr>\n",
       "      <th>2</th>\n",
       "      <td>2.910554</td>\n",
       "      <td>431.490440</td>\n",
       "      <td>1</td>\n",
       "    </tr>\n",
       "    <tr>\n",
       "      <th>3</th>\n",
       "      <td>2.730297</td>\n",
       "      <td>431.490440</td>\n",
       "      <td>1</td>\n",
       "    </tr>\n",
       "    <tr>\n",
       "      <th>4</th>\n",
       "      <td>9.305787</td>\n",
       "      <td>116.057165</td>\n",
       "      <td>1</td>\n",
       "    </tr>\n",
       "  </tbody>\n",
       "</table>\n",
       "</div>"
      ],
      "text/plain": [
       "   H_L0.1_weight  HpHp_L0.1_magnitude  output\n",
       "0    7598.895006            74.000000       0\n",
       "1    7180.838896            95.268043       0\n",
       "2       2.910554           431.490440       1\n",
       "3       2.730297           431.490440       1\n",
       "4       9.305787           116.057165       1"
      ]
     },
     "execution_count": 120,
     "metadata": {
      "tags": []
     },
     "output_type": "execute_result"
    }
   ],
   "source": [
    "test.head()"
   ]
  },
  {
   "cell_type": "code",
   "execution_count": null,
   "metadata": {
    "id": "C0J0gtn75Cd8",
    "outputId": "9906768a-0250-46c9-f740-69862e5b57b6"
   },
   "outputs": [
    {
     "name": "stdout",
     "output_type": "stream",
     "text": [
      "              precision    recall  f1-score   support\n",
      "\n",
      "           0       1.00      1.00      1.00      2241\n",
      "           1       1.00      1.00      1.00      2509\n",
      "\n",
      "    accuracy                           1.00      4750\n",
      "   macro avg       1.00      1.00      1.00      4750\n",
      "weighted avg       1.00      1.00      1.00      4750\n",
      "\n"
     ]
    }
   ],
   "source": [
    "X=test.drop('output',axis=1)\n",
    "y=test['output']\n",
    "X_train,X_test,y_train,y_test=train_test_split(X,y)\n",
    "model=LogisticRegression(solver='lbfgs')\n",
    "model.fit(X_train,y_train)\n",
    "pred=model.predict(X_test)\n",
    "print(classification_report(y_test,pred))"
   ]
  },
  {
   "cell_type": "code",
   "execution_count": null,
   "metadata": {
    "id": "AN5kVzJz5Cd8"
   },
   "outputs": [],
   "source": []
  },
  {
   "cell_type": "code",
   "execution_count": null,
   "metadata": {
    "id": "fF3nU1zv5Cd8"
   },
   "outputs": [],
   "source": []
  },
  {
   "cell_type": "code",
   "execution_count": null,
   "metadata": {
    "id": "g0JVs5pT5Cd8"
   },
   "outputs": [],
   "source": []
  },
  {
   "cell_type": "code",
   "execution_count": null,
   "metadata": {
    "id": "GHGRRM9A5Cd8"
   },
   "outputs": [],
   "source": []
  },
  {
   "cell_type": "code",
   "execution_count": null,
   "metadata": {
    "id": "BhHmM0Cy5Cd8"
   },
   "outputs": [],
   "source": []
  },
  {
   "cell_type": "code",
   "execution_count": null,
   "metadata": {
    "id": "nVFimyEj5Cd9"
   },
   "outputs": [],
   "source": []
  },
  {
   "cell_type": "code",
   "execution_count": null,
   "metadata": {
    "id": "F1VP7dbD5Cd9"
   },
   "outputs": [],
   "source": []
  },
  {
   "cell_type": "code",
   "execution_count": null,
   "metadata": {
    "id": "dtS5FN9j5Cd9"
   },
   "outputs": [],
   "source": [
    "tempx=pd.DataFrame(X)"
   ]
  },
  {
   "cell_type": "code",
   "execution_count": null,
   "metadata": {
    "id": "-4DwDHI75Cd9",
    "outputId": "afdbf80b-fd51-4715-9a89-dba97a39ef98"
   },
   "outputs": [
    {
     "data": {
      "text/html": [
       "<div>\n",
       "<style scoped>\n",
       "    .dataframe tbody tr th:only-of-type {\n",
       "        vertical-align: middle;\n",
       "    }\n",
       "\n",
       "    .dataframe tbody tr th {\n",
       "        vertical-align: top;\n",
       "    }\n",
       "\n",
       "    .dataframe thead th {\n",
       "        text-align: right;\n",
       "    }\n",
       "</style>\n",
       "<table border=\"1\" class=\"dataframe\">\n",
       "  <thead>\n",
       "    <tr style=\"text-align: right;\">\n",
       "      <th></th>\n",
       "      <th>0</th>\n",
       "      <th>1</th>\n",
       "      <th>2</th>\n",
       "      <th>3</th>\n",
       "      <th>4</th>\n",
       "      <th>5</th>\n",
       "      <th>6</th>\n",
       "      <th>7</th>\n",
       "      <th>8</th>\n",
       "      <th>9</th>\n",
       "      <th>...</th>\n",
       "      <th>109</th>\n",
       "      <th>110</th>\n",
       "      <th>111</th>\n",
       "      <th>112</th>\n",
       "      <th>113</th>\n",
       "      <th>114</th>\n",
       "      <th>115</th>\n",
       "      <th>116</th>\n",
       "      <th>117</th>\n",
       "      <th>118</th>\n",
       "    </tr>\n",
       "  </thead>\n",
       "  <tbody>\n",
       "    <tr>\n",
       "      <th>count</th>\n",
       "      <td>9.500000e+03</td>\n",
       "      <td>9500.000000</td>\n",
       "      <td>9500.000000</td>\n",
       "      <td>9500.000000</td>\n",
       "      <td>9500.000000</td>\n",
       "      <td>9.500000e+03</td>\n",
       "      <td>9500.000000</td>\n",
       "      <td>9500.000000</td>\n",
       "      <td>9.500000e+03</td>\n",
       "      <td>9.500000e+03</td>\n",
       "      <td>...</td>\n",
       "      <td>9500.000000</td>\n",
       "      <td>9.500000e+03</td>\n",
       "      <td>9500.000000</td>\n",
       "      <td>9.500000e+03</td>\n",
       "      <td>9500.000000</td>\n",
       "      <td>9500.000000</td>\n",
       "      <td>9500.000000</td>\n",
       "      <td>9500.000000</td>\n",
       "      <td>9500.000000</td>\n",
       "      <td>9500.000000</td>\n",
       "    </tr>\n",
       "    <tr>\n",
       "      <th>mean</th>\n",
       "      <td>4.432100e-01</td>\n",
       "      <td>0.424280</td>\n",
       "      <td>3.773174</td>\n",
       "      <td>0.452177</td>\n",
       "      <td>0.423198</td>\n",
       "      <td>3.048743e+00</td>\n",
       "      <td>0.485475</td>\n",
       "      <td>0.384922</td>\n",
       "      <td>2.485858e+00</td>\n",
       "      <td>4.865139e-01</td>\n",
       "      <td>...</td>\n",
       "      <td>0.421233</td>\n",
       "      <td>7.503808e+00</td>\n",
       "      <td>0.296221</td>\n",
       "      <td>2.364990e+01</td>\n",
       "      <td>-0.000176</td>\n",
       "      <td>0.003476</td>\n",
       "      <td>0.210526</td>\n",
       "      <td>0.421053</td>\n",
       "      <td>0.157895</td>\n",
       "      <td>0.210526</td>\n",
       "    </tr>\n",
       "    <tr>\n",
       "      <th>std</th>\n",
       "      <td>5.004530e-01</td>\n",
       "      <td>0.649124</td>\n",
       "      <td>9.470276</td>\n",
       "      <td>0.501168</td>\n",
       "      <td>0.631599</td>\n",
       "      <td>7.126274e+00</td>\n",
       "      <td>0.526319</td>\n",
       "      <td>0.563163</td>\n",
       "      <td>5.275627e+00</td>\n",
       "      <td>5.261389e-01</td>\n",
       "      <td>...</td>\n",
       "      <td>0.733515</td>\n",
       "      <td>2.717888e+01</td>\n",
       "      <td>0.569562</td>\n",
       "      <td>1.690988e+02</td>\n",
       "      <td>0.015585</td>\n",
       "      <td>0.042702</td>\n",
       "      <td>0.407704</td>\n",
       "      <td>0.493754</td>\n",
       "      <td>0.364661</td>\n",
       "      <td>0.407704</td>\n",
       "    </tr>\n",
       "    <tr>\n",
       "      <th>min</th>\n",
       "      <td>-1.971530e-02</td>\n",
       "      <td>-0.062426</td>\n",
       "      <td>-0.000313</td>\n",
       "      <td>-0.014469</td>\n",
       "      <td>-0.064137</td>\n",
       "      <td>-5.524442e-04</td>\n",
       "      <td>-0.005826</td>\n",
       "      <td>-0.065184</td>\n",
       "      <td>-1.364356e-02</td>\n",
       "      <td>-2.188621e-03</td>\n",
       "      <td>...</td>\n",
       "      <td>-0.053270</td>\n",
       "      <td>-8.080768e-07</td>\n",
       "      <td>-0.159943</td>\n",
       "      <td>-5.043427e-15</td>\n",
       "      <td>-0.697674</td>\n",
       "      <td>-0.589781</td>\n",
       "      <td>0.000000</td>\n",
       "      <td>0.000000</td>\n",
       "      <td>0.000000</td>\n",
       "      <td>0.000000</td>\n",
       "    </tr>\n",
       "    <tr>\n",
       "      <th>25%</th>\n",
       "      <td>-1.910876e-02</td>\n",
       "      <td>-0.008000</td>\n",
       "      <td>-0.000313</td>\n",
       "      <td>-0.013380</td>\n",
       "      <td>-0.009580</td>\n",
       "      <td>-5.497041e-04</td>\n",
       "      <td>-0.004614</td>\n",
       "      <td>-0.014873</td>\n",
       "      <td>-1.340195e-02</td>\n",
       "      <td>-1.572453e-03</td>\n",
       "      <td>...</td>\n",
       "      <td>-0.026441</td>\n",
       "      <td>-8.080768e-07</td>\n",
       "      <td>-0.088246</td>\n",
       "      <td>-5.043427e-15</td>\n",
       "      <td>0.000000</td>\n",
       "      <td>0.000000</td>\n",
       "      <td>0.000000</td>\n",
       "      <td>0.000000</td>\n",
       "      <td>0.000000</td>\n",
       "      <td>0.000000</td>\n",
       "    </tr>\n",
       "    <tr>\n",
       "      <th>50%</th>\n",
       "      <td>-1.718947e-18</td>\n",
       "      <td>0.000000</td>\n",
       "      <td>0.000000</td>\n",
       "      <td>0.000000</td>\n",
       "      <td>0.000000</td>\n",
       "      <td>-4.501682e-20</td>\n",
       "      <td>0.000000</td>\n",
       "      <td>0.000000</td>\n",
       "      <td>-9.931461e-19</td>\n",
       "      <td>-1.359488e-19</td>\n",
       "      <td>...</td>\n",
       "      <td>0.000000</td>\n",
       "      <td>0.000000e+00</td>\n",
       "      <td>0.000000</td>\n",
       "      <td>0.000000e+00</td>\n",
       "      <td>0.000000</td>\n",
       "      <td>0.000000</td>\n",
       "      <td>0.000000</td>\n",
       "      <td>0.000000</td>\n",
       "      <td>0.000000</td>\n",
       "      <td>0.000000</td>\n",
       "    </tr>\n",
       "    <tr>\n",
       "      <th>75%</th>\n",
       "      <td>9.808912e-01</td>\n",
       "      <td>0.992000</td>\n",
       "      <td>0.999687</td>\n",
       "      <td>0.986620</td>\n",
       "      <td>0.990420</td>\n",
       "      <td>9.994503e-01</td>\n",
       "      <td>0.995386</td>\n",
       "      <td>0.985127</td>\n",
       "      <td>9.865981e-01</td>\n",
       "      <td>9.984275e-01</td>\n",
       "      <td>...</td>\n",
       "      <td>0.973559</td>\n",
       "      <td>9.999992e-01</td>\n",
       "      <td>0.911754</td>\n",
       "      <td>1.000000e+00</td>\n",
       "      <td>0.000000</td>\n",
       "      <td>0.000000</td>\n",
       "      <td>0.000000</td>\n",
       "      <td>1.000000</td>\n",
       "      <td>0.000000</td>\n",
       "      <td>0.000000</td>\n",
       "    </tr>\n",
       "    <tr>\n",
       "      <th>max</th>\n",
       "      <td>1.962096e+00</td>\n",
       "      <td>5.373480</td>\n",
       "      <td>152.983932</td>\n",
       "      <td>1.630330</td>\n",
       "      <td>5.363202</td>\n",
       "      <td>1.062896e+02</td>\n",
       "      <td>1.310967</td>\n",
       "      <td>4.851360</td>\n",
       "      <td>7.328584e+01</td>\n",
       "      <td>1.251246e+00</td>\n",
       "      <td>...</td>\n",
       "      <td>5.177891</td>\n",
       "      <td>5.419436e+02</td>\n",
       "      <td>3.810602</td>\n",
       "      <td>2.368760e+03</td>\n",
       "      <td>0.302326</td>\n",
       "      <td>0.410219</td>\n",
       "      <td>1.000000</td>\n",
       "      <td>1.000000</td>\n",
       "      <td>1.000000</td>\n",
       "      <td>1.000000</td>\n",
       "    </tr>\n",
       "  </tbody>\n",
       "</table>\n",
       "<p>8 rows × 119 columns</p>\n",
       "</div>"
      ],
      "text/plain": [
       "                0            1            2            3            4    \\\n",
       "count  9.500000e+03  9500.000000  9500.000000  9500.000000  9500.000000   \n",
       "mean   4.432100e-01     0.424280     3.773174     0.452177     0.423198   \n",
       "std    5.004530e-01     0.649124     9.470276     0.501168     0.631599   \n",
       "min   -1.971530e-02    -0.062426    -0.000313    -0.014469    -0.064137   \n",
       "25%   -1.910876e-02    -0.008000    -0.000313    -0.013380    -0.009580   \n",
       "50%   -1.718947e-18     0.000000     0.000000     0.000000     0.000000   \n",
       "75%    9.808912e-01     0.992000     0.999687     0.986620     0.990420   \n",
       "max    1.962096e+00     5.373480   152.983932     1.630330     5.363202   \n",
       "\n",
       "                5            6            7             8             9    \\\n",
       "count  9.500000e+03  9500.000000  9500.000000  9.500000e+03  9.500000e+03   \n",
       "mean   3.048743e+00     0.485475     0.384922  2.485858e+00  4.865139e-01   \n",
       "std    7.126274e+00     0.526319     0.563163  5.275627e+00  5.261389e-01   \n",
       "min   -5.524442e-04    -0.005826    -0.065184 -1.364356e-02 -2.188621e-03   \n",
       "25%   -5.497041e-04    -0.004614    -0.014873 -1.340195e-02 -1.572453e-03   \n",
       "50%   -4.501682e-20     0.000000     0.000000 -9.931461e-19 -1.359488e-19   \n",
       "75%    9.994503e-01     0.995386     0.985127  9.865981e-01  9.984275e-01   \n",
       "max    1.062896e+02     1.310967     4.851360  7.328584e+01  1.251246e+00   \n",
       "\n",
       "       ...          109           110          111           112          113  \\\n",
       "count  ...  9500.000000  9.500000e+03  9500.000000  9.500000e+03  9500.000000   \n",
       "mean   ...     0.421233  7.503808e+00     0.296221  2.364990e+01    -0.000176   \n",
       "std    ...     0.733515  2.717888e+01     0.569562  1.690988e+02     0.015585   \n",
       "min    ...    -0.053270 -8.080768e-07    -0.159943 -5.043427e-15    -0.697674   \n",
       "25%    ...    -0.026441 -8.080768e-07    -0.088246 -5.043427e-15     0.000000   \n",
       "50%    ...     0.000000  0.000000e+00     0.000000  0.000000e+00     0.000000   \n",
       "75%    ...     0.973559  9.999992e-01     0.911754  1.000000e+00     0.000000   \n",
       "max    ...     5.177891  5.419436e+02     3.810602  2.368760e+03     0.302326   \n",
       "\n",
       "               114          115          116          117          118  \n",
       "count  9500.000000  9500.000000  9500.000000  9500.000000  9500.000000  \n",
       "mean      0.003476     0.210526     0.421053     0.157895     0.210526  \n",
       "std       0.042702     0.407704     0.493754     0.364661     0.407704  \n",
       "min      -0.589781     0.000000     0.000000     0.000000     0.000000  \n",
       "25%       0.000000     0.000000     0.000000     0.000000     0.000000  \n",
       "50%       0.000000     0.000000     0.000000     0.000000     0.000000  \n",
       "75%       0.000000     0.000000     1.000000     0.000000     0.000000  \n",
       "max       0.410219     1.000000     1.000000     1.000000     1.000000  \n",
       "\n",
       "[8 rows x 119 columns]"
      ]
     },
     "execution_count": 64,
     "metadata": {
      "tags": []
     },
     "output_type": "execute_result"
    }
   ],
   "source": [
    "tempx.describe()"
   ]
  },
  {
   "cell_type": "code",
   "execution_count": null,
   "metadata": {
    "id": "JIjy2y5M5Cd9"
   },
   "outputs": [],
   "source": [
    "check=tempx.isin([np.inf,-np.inf])"
   ]
  },
  {
   "cell_type": "code",
   "execution_count": null,
   "metadata": {
    "id": "OxiK5VK05Cd-",
    "outputId": "3fcf3119-037b-49d8-f118-60fd137bcdd0"
   },
   "outputs": [
    {
     "data": {
      "text/plain": [
       "False"
      ]
     },
     "execution_count": 82,
     "metadata": {
      "tags": []
     },
     "output_type": "execute_result"
    }
   ],
   "source": [
    "np.any(np.isnan(tempx))"
   ]
  },
  {
   "cell_type": "code",
   "execution_count": null,
   "metadata": {
    "id": "Vafn51dC5Cd-",
    "outputId": "1de138c8-eb9b-414b-f3c5-46510017ab29"
   },
   "outputs": [
    {
     "data": {
      "text/html": [
       "<div>\n",
       "<style scoped>\n",
       "    .dataframe tbody tr th:only-of-type {\n",
       "        vertical-align: middle;\n",
       "    }\n",
       "\n",
       "    .dataframe tbody tr th {\n",
       "        vertical-align: top;\n",
       "    }\n",
       "\n",
       "    .dataframe thead th {\n",
       "        text-align: right;\n",
       "    }\n",
       "</style>\n",
       "<table border=\"1\" class=\"dataframe\">\n",
       "  <thead>\n",
       "    <tr style=\"text-align: right;\">\n",
       "      <th></th>\n",
       "      <th>0</th>\n",
       "      <th>1</th>\n",
       "      <th>2</th>\n",
       "      <th>3</th>\n",
       "      <th>4</th>\n",
       "      <th>5</th>\n",
       "      <th>6</th>\n",
       "      <th>7</th>\n",
       "      <th>8</th>\n",
       "      <th>9</th>\n",
       "      <th>...</th>\n",
       "      <th>109</th>\n",
       "      <th>110</th>\n",
       "      <th>111</th>\n",
       "      <th>112</th>\n",
       "      <th>113</th>\n",
       "      <th>114</th>\n",
       "      <th>115</th>\n",
       "      <th>116</th>\n",
       "      <th>117</th>\n",
       "      <th>118</th>\n",
       "    </tr>\n",
       "  </thead>\n",
       "  <tbody>\n",
       "    <tr>\n",
       "      <th>count</th>\n",
       "      <td>9.500000e+03</td>\n",
       "      <td>9500.000000</td>\n",
       "      <td>9500.000000</td>\n",
       "      <td>9500.000000</td>\n",
       "      <td>9500.000000</td>\n",
       "      <td>9.500000e+03</td>\n",
       "      <td>9500.000000</td>\n",
       "      <td>9500.000000</td>\n",
       "      <td>9.500000e+03</td>\n",
       "      <td>9.500000e+03</td>\n",
       "      <td>...</td>\n",
       "      <td>9500.000000</td>\n",
       "      <td>9.500000e+03</td>\n",
       "      <td>9500.000000</td>\n",
       "      <td>9.500000e+03</td>\n",
       "      <td>9500.000000</td>\n",
       "      <td>9500.000000</td>\n",
       "      <td>9500.000000</td>\n",
       "      <td>9500.000000</td>\n",
       "      <td>9500.000000</td>\n",
       "      <td>9500.000000</td>\n",
       "    </tr>\n",
       "    <tr>\n",
       "      <th>mean</th>\n",
       "      <td>4.432100e-01</td>\n",
       "      <td>0.424280</td>\n",
       "      <td>3.773174</td>\n",
       "      <td>0.452177</td>\n",
       "      <td>0.423198</td>\n",
       "      <td>3.048743e+00</td>\n",
       "      <td>0.485475</td>\n",
       "      <td>0.384922</td>\n",
       "      <td>2.485858e+00</td>\n",
       "      <td>4.865139e-01</td>\n",
       "      <td>...</td>\n",
       "      <td>0.421233</td>\n",
       "      <td>7.503808e+00</td>\n",
       "      <td>0.296221</td>\n",
       "      <td>2.364990e+01</td>\n",
       "      <td>-0.000176</td>\n",
       "      <td>0.003476</td>\n",
       "      <td>0.210526</td>\n",
       "      <td>0.421053</td>\n",
       "      <td>0.157895</td>\n",
       "      <td>0.210526</td>\n",
       "    </tr>\n",
       "    <tr>\n",
       "      <th>std</th>\n",
       "      <td>5.004530e-01</td>\n",
       "      <td>0.649124</td>\n",
       "      <td>9.470276</td>\n",
       "      <td>0.501168</td>\n",
       "      <td>0.631599</td>\n",
       "      <td>7.126274e+00</td>\n",
       "      <td>0.526319</td>\n",
       "      <td>0.563163</td>\n",
       "      <td>5.275627e+00</td>\n",
       "      <td>5.261389e-01</td>\n",
       "      <td>...</td>\n",
       "      <td>0.733515</td>\n",
       "      <td>2.717888e+01</td>\n",
       "      <td>0.569562</td>\n",
       "      <td>1.690988e+02</td>\n",
       "      <td>0.015585</td>\n",
       "      <td>0.042702</td>\n",
       "      <td>0.407704</td>\n",
       "      <td>0.493754</td>\n",
       "      <td>0.364661</td>\n",
       "      <td>0.407704</td>\n",
       "    </tr>\n",
       "    <tr>\n",
       "      <th>min</th>\n",
       "      <td>-1.971530e-02</td>\n",
       "      <td>-0.062426</td>\n",
       "      <td>-0.000313</td>\n",
       "      <td>-0.014469</td>\n",
       "      <td>-0.064137</td>\n",
       "      <td>-5.524442e-04</td>\n",
       "      <td>-0.005826</td>\n",
       "      <td>-0.065184</td>\n",
       "      <td>-1.364356e-02</td>\n",
       "      <td>-2.188621e-03</td>\n",
       "      <td>...</td>\n",
       "      <td>-0.053270</td>\n",
       "      <td>-8.080768e-07</td>\n",
       "      <td>-0.159943</td>\n",
       "      <td>-5.043427e-15</td>\n",
       "      <td>-0.697674</td>\n",
       "      <td>-0.589781</td>\n",
       "      <td>0.000000</td>\n",
       "      <td>0.000000</td>\n",
       "      <td>0.000000</td>\n",
       "      <td>0.000000</td>\n",
       "    </tr>\n",
       "    <tr>\n",
       "      <th>25%</th>\n",
       "      <td>-1.910876e-02</td>\n",
       "      <td>-0.008000</td>\n",
       "      <td>-0.000313</td>\n",
       "      <td>-0.013380</td>\n",
       "      <td>-0.009580</td>\n",
       "      <td>-5.497041e-04</td>\n",
       "      <td>-0.004614</td>\n",
       "      <td>-0.014873</td>\n",
       "      <td>-1.340195e-02</td>\n",
       "      <td>-1.572453e-03</td>\n",
       "      <td>...</td>\n",
       "      <td>-0.026441</td>\n",
       "      <td>-8.080768e-07</td>\n",
       "      <td>-0.088246</td>\n",
       "      <td>-5.043427e-15</td>\n",
       "      <td>0.000000</td>\n",
       "      <td>0.000000</td>\n",
       "      <td>0.000000</td>\n",
       "      <td>0.000000</td>\n",
       "      <td>0.000000</td>\n",
       "      <td>0.000000</td>\n",
       "    </tr>\n",
       "    <tr>\n",
       "      <th>50%</th>\n",
       "      <td>-1.718947e-18</td>\n",
       "      <td>0.000000</td>\n",
       "      <td>0.000000</td>\n",
       "      <td>0.000000</td>\n",
       "      <td>0.000000</td>\n",
       "      <td>-4.501682e-20</td>\n",
       "      <td>0.000000</td>\n",
       "      <td>0.000000</td>\n",
       "      <td>-9.931461e-19</td>\n",
       "      <td>-1.359488e-19</td>\n",
       "      <td>...</td>\n",
       "      <td>0.000000</td>\n",
       "      <td>0.000000e+00</td>\n",
       "      <td>0.000000</td>\n",
       "      <td>0.000000e+00</td>\n",
       "      <td>0.000000</td>\n",
       "      <td>0.000000</td>\n",
       "      <td>0.000000</td>\n",
       "      <td>0.000000</td>\n",
       "      <td>0.000000</td>\n",
       "      <td>0.000000</td>\n",
       "    </tr>\n",
       "    <tr>\n",
       "      <th>75%</th>\n",
       "      <td>9.808912e-01</td>\n",
       "      <td>0.992000</td>\n",
       "      <td>0.999687</td>\n",
       "      <td>0.986620</td>\n",
       "      <td>0.990420</td>\n",
       "      <td>9.994503e-01</td>\n",
       "      <td>0.995386</td>\n",
       "      <td>0.985127</td>\n",
       "      <td>9.865981e-01</td>\n",
       "      <td>9.984275e-01</td>\n",
       "      <td>...</td>\n",
       "      <td>0.973559</td>\n",
       "      <td>9.999992e-01</td>\n",
       "      <td>0.911754</td>\n",
       "      <td>1.000000e+00</td>\n",
       "      <td>0.000000</td>\n",
       "      <td>0.000000</td>\n",
       "      <td>0.000000</td>\n",
       "      <td>1.000000</td>\n",
       "      <td>0.000000</td>\n",
       "      <td>0.000000</td>\n",
       "    </tr>\n",
       "    <tr>\n",
       "      <th>max</th>\n",
       "      <td>1.962096e+00</td>\n",
       "      <td>5.373480</td>\n",
       "      <td>152.983932</td>\n",
       "      <td>1.630330</td>\n",
       "      <td>5.363202</td>\n",
       "      <td>1.062896e+02</td>\n",
       "      <td>1.310967</td>\n",
       "      <td>4.851360</td>\n",
       "      <td>7.328584e+01</td>\n",
       "      <td>1.251246e+00</td>\n",
       "      <td>...</td>\n",
       "      <td>5.177891</td>\n",
       "      <td>5.419436e+02</td>\n",
       "      <td>3.810602</td>\n",
       "      <td>2.368760e+03</td>\n",
       "      <td>0.302326</td>\n",
       "      <td>0.410219</td>\n",
       "      <td>1.000000</td>\n",
       "      <td>1.000000</td>\n",
       "      <td>1.000000</td>\n",
       "      <td>1.000000</td>\n",
       "    </tr>\n",
       "  </tbody>\n",
       "</table>\n",
       "<p>8 rows × 119 columns</p>\n",
       "</div>"
      ],
      "text/plain": [
       "                0            1            2            3            4    \\\n",
       "count  9.500000e+03  9500.000000  9500.000000  9500.000000  9500.000000   \n",
       "mean   4.432100e-01     0.424280     3.773174     0.452177     0.423198   \n",
       "std    5.004530e-01     0.649124     9.470276     0.501168     0.631599   \n",
       "min   -1.971530e-02    -0.062426    -0.000313    -0.014469    -0.064137   \n",
       "25%   -1.910876e-02    -0.008000    -0.000313    -0.013380    -0.009580   \n",
       "50%   -1.718947e-18     0.000000     0.000000     0.000000     0.000000   \n",
       "75%    9.808912e-01     0.992000     0.999687     0.986620     0.990420   \n",
       "max    1.962096e+00     5.373480   152.983932     1.630330     5.363202   \n",
       "\n",
       "                5            6            7             8             9    \\\n",
       "count  9.500000e+03  9500.000000  9500.000000  9.500000e+03  9.500000e+03   \n",
       "mean   3.048743e+00     0.485475     0.384922  2.485858e+00  4.865139e-01   \n",
       "std    7.126274e+00     0.526319     0.563163  5.275627e+00  5.261389e-01   \n",
       "min   -5.524442e-04    -0.005826    -0.065184 -1.364356e-02 -2.188621e-03   \n",
       "25%   -5.497041e-04    -0.004614    -0.014873 -1.340195e-02 -1.572453e-03   \n",
       "50%   -4.501682e-20     0.000000     0.000000 -9.931461e-19 -1.359488e-19   \n",
       "75%    9.994503e-01     0.995386     0.985127  9.865981e-01  9.984275e-01   \n",
       "max    1.062896e+02     1.310967     4.851360  7.328584e+01  1.251246e+00   \n",
       "\n",
       "       ...          109           110          111           112          113  \\\n",
       "count  ...  9500.000000  9.500000e+03  9500.000000  9.500000e+03  9500.000000   \n",
       "mean   ...     0.421233  7.503808e+00     0.296221  2.364990e+01    -0.000176   \n",
       "std    ...     0.733515  2.717888e+01     0.569562  1.690988e+02     0.015585   \n",
       "min    ...    -0.053270 -8.080768e-07    -0.159943 -5.043427e-15    -0.697674   \n",
       "25%    ...    -0.026441 -8.080768e-07    -0.088246 -5.043427e-15     0.000000   \n",
       "50%    ...     0.000000  0.000000e+00     0.000000  0.000000e+00     0.000000   \n",
       "75%    ...     0.973559  9.999992e-01     0.911754  1.000000e+00     0.000000   \n",
       "max    ...     5.177891  5.419436e+02     3.810602  2.368760e+03     0.302326   \n",
       "\n",
       "               114          115          116          117          118  \n",
       "count  9500.000000  9500.000000  9500.000000  9500.000000  9500.000000  \n",
       "mean      0.003476     0.210526     0.421053     0.157895     0.210526  \n",
       "std       0.042702     0.407704     0.493754     0.364661     0.407704  \n",
       "min      -0.589781     0.000000     0.000000     0.000000     0.000000  \n",
       "25%       0.000000     0.000000     0.000000     0.000000     0.000000  \n",
       "50%       0.000000     0.000000     0.000000     0.000000     0.000000  \n",
       "75%       0.000000     0.000000     1.000000     0.000000     0.000000  \n",
       "max       0.410219     1.000000     1.000000     1.000000     1.000000  \n",
       "\n",
       "[8 rows x 119 columns]"
      ]
     },
     "execution_count": 84,
     "metadata": {
      "tags": []
     },
     "output_type": "execute_result"
    }
   ],
   "source": [
    "tempx.describe()"
   ]
  },
  {
   "cell_type": "code",
   "execution_count": null,
   "metadata": {
    "id": "cyWr-p_S5Cd-",
    "outputId": "e4c7c0d9-c9c7-48bb-9781-1351d55ae86e"
   },
   "outputs": [
    {
     "data": {
      "text/plain": [
       "(9500, 119)"
      ]
     },
     "execution_count": 86,
     "metadata": {
      "tags": []
     },
     "output_type": "execute_result"
    }
   ],
   "source": [
    "tempx.shape"
   ]
  },
  {
   "cell_type": "code",
   "execution_count": null,
   "metadata": {
    "id": "IsmWPwL85Cd-"
   },
   "outputs": [],
   "source": [
    "tempx=tempx.dropna()"
   ]
  },
  {
   "cell_type": "code",
   "execution_count": null,
   "metadata": {
    "id": "Yv5kJfqn5Cd_",
    "outputId": "ee648717-b98a-4795-975e-0d2d14b7e36e"
   },
   "outputs": [
    {
     "data": {
      "text/plain": [
       "(9500, 119)"
      ]
     },
     "execution_count": 88,
     "metadata": {
      "tags": []
     },
     "output_type": "execute_result"
    }
   ],
   "source": [
    "\n",
    "tempx.shape"
   ]
  },
  {
   "cell_type": "code",
   "execution_count": null,
   "metadata": {
    "id": "jG-MZ8x95Cd_",
    "outputId": "354186f0-2857-44d9-8f9d-0d19b0498f5f"
   },
   "outputs": [
    {
     "name": "stdout",
     "output_type": "stream",
     "text": [
      "0 -0.019715302158210744\n",
      "1 -0.06242641379015081\n",
      "2 -0.00031335788193586803\n",
      "3 -0.014469426909300316\n",
      "4 -0.06413749990862325\n",
      "5 -0.0005524441796957858\n",
      "6 -0.005826267401735961\n",
      "7 -0.06518404246555135\n",
      "8 -0.013643563406634744\n",
      "9 -0.002188621330386539\n",
      "10 -0.13330436186473305\n",
      "11 -0.022409040342618963\n",
      "12 -0.004054228217515374\n",
      "13 -0.15017059432972873\n",
      "14 -0.015672148850734844\n",
      "15 -0.019715302158210744\n",
      "16 -0.06242641379015081\n",
      "17 -0.00031335788193586803\n",
      "18 -0.014469426909300316\n",
      "19 -0.06413749990862325\n",
      "20 -0.0005524441796957858\n",
      "21 -0.005826267401735961\n",
      "22 -0.06518404246555135\n",
      "23 -0.013643563406634744\n",
      "24 -0.002188621330386539\n",
      "25 -0.13330436186473305\n",
      "26 -0.022409040342618963\n",
      "27 -0.004054228217515374\n",
      "28 -0.15017059432972873\n",
      "29 -0.015672148850734844\n",
      "30 -0.007964410486605903\n",
      "31 -0.053030303030303\n",
      "32 -0.0029924064530893065\n",
      "33 -0.18614947139522278\n",
      "34 -1.9442746294564816e-07\n",
      "35 -0.8404198621732014\n",
      "36 -0.4314557001923663\n",
      "37 -0.0046467876962307765\n",
      "38 -0.0530303030323112\n",
      "39 -0.000555375720013139\n",
      "40 -0.18350900924081603\n",
      "41 -1.895358318995976e-08\n",
      "42 -0.7984446318735099\n",
      "43 -0.45053819709024656\n",
      "44 -0.0020386876282230907\n",
      "45 -0.05303447739818162\n",
      "46 -0.023622999885510133\n",
      "47 -0.17243003238114174\n",
      "48 -6.814664328479175e-05\n",
      "49 -0.7934156537807522\n",
      "50 -330362152080.24744\n",
      "51 -0.0015242886691274975\n",
      "52 -0.05427283942953429\n",
      "53 -0.015777241479904294\n",
      "54 -0.16759943425473223\n",
      "55 -0.00016135478224170894\n",
      "56 -0.6337529831636877\n",
      "57 -2443917471.9963436\n",
      "58 -0.0035733758311530727\n",
      "59 -0.05427908089262888\n",
      "60 -0.019022875350025028\n",
      "61 -0.1684551895051972\n",
      "62 -0.0017828042603400698\n",
      "63 -1099477618.770248\n",
      "64 -1319.1535186554988\n",
      "65 -0.007964410486605903\n",
      "66 -0.08586264633339019\n",
      "67 -0.09260726612306845\n",
      "68 -0.0046467876962307765\n",
      "69 -0.09597403093907997\n",
      "70 -0.0045330717111707235\n",
      "71 -0.002038687628223085\n",
      "72 -0.14174014353635286\n",
      "73 -2.319307192341234e-05\n",
      "74 -0.0015242886691274973\n",
      "75 -0.013626221645467737\n",
      "76 -1.7105632930215132e-10\n",
      "77 -0.003573375831153148\n",
      "78 -0.20610980806795648\n",
      "79 -7.081498546057553e-09\n",
      "80 0.0\n",
      "81 -0.05303030303030303\n",
      "82 0.0\n",
      "83 -0.1811187750142148\n",
      "84 0.0\n",
      "85 -0.34103200711480475\n",
      "86 -0.32792780007000577\n",
      "87 0.0\n",
      "88 -0.05303030303030303\n",
      "89 0.0\n",
      "90 -0.18111877501421472\n",
      "91 0.0\n",
      "92 -0.2632121137806138\n",
      "93 -0.33451098051307526\n",
      "94 0.0\n",
      "95 -0.05303030303030306\n",
      "96 0.0\n",
      "97 -0.18070261038549246\n",
      "98 0.0\n",
      "99 -0.3227927180686762\n",
      "100 -0.5035834748113196\n",
      "101 -0.0727997051395098\n",
      "102 -0.05306605854054214\n",
      "103 0.0\n",
      "104 -0.16195025168878488\n",
      "105 -1.2493615889845055e-14\n",
      "106 -0.6554888036379813\n",
      "107 -0.5750241140838727\n",
      "108 -0.23178099006333688\n",
      "109 -0.053269623099507356\n",
      "110 -8.080767570241358e-07\n",
      "111 -0.1599426062490585\n",
      "112 -5.043426893287184e-15\n",
      "113 -0.6976739767703494\n",
      "114 -0.5897809431365677\n",
      "115 0.0\n",
      "116 0.0\n",
      "117 0.0\n",
      "118 0.0\n"
     ]
    }
   ],
   "source": [
    "desc=tempx.describe()\n",
    "for col in tempx.columns:\n",
    "    print(col,desc.at['min',col])"
   ]
  },
  {
   "cell_type": "code",
   "execution_count": null,
   "metadata": {
    "id": "-keVea_O5Cd_",
    "outputId": "ab4bab69-b36d-4851-be30-65fc4b8024e1"
   },
   "outputs": [
    {
     "data": {
      "text/html": [
       "<div>\n",
       "<style scoped>\n",
       "    .dataframe tbody tr th:only-of-type {\n",
       "        vertical-align: middle;\n",
       "    }\n",
       "\n",
       "    .dataframe tbody tr th {\n",
       "        vertical-align: top;\n",
       "    }\n",
       "\n",
       "    .dataframe thead th {\n",
       "        text-align: right;\n",
       "    }\n",
       "</style>\n",
       "<table border=\"1\" class=\"dataframe\">\n",
       "  <thead>\n",
       "    <tr style=\"text-align: right;\">\n",
       "      <th></th>\n",
       "      <th>0</th>\n",
       "      <th>1</th>\n",
       "      <th>2</th>\n",
       "      <th>3</th>\n",
       "      <th>4</th>\n",
       "      <th>5</th>\n",
       "      <th>6</th>\n",
       "      <th>7</th>\n",
       "      <th>8</th>\n",
       "      <th>9</th>\n",
       "      <th>...</th>\n",
       "      <th>109</th>\n",
       "      <th>110</th>\n",
       "      <th>111</th>\n",
       "      <th>112</th>\n",
       "      <th>113</th>\n",
       "      <th>114</th>\n",
       "      <th>115</th>\n",
       "      <th>116</th>\n",
       "      <th>117</th>\n",
       "      <th>118</th>\n",
       "    </tr>\n",
       "  </thead>\n",
       "  <tbody>\n",
       "    <tr>\n",
       "      <th>count</th>\n",
       "      <td>9.500000e+03</td>\n",
       "      <td>9500.000000</td>\n",
       "      <td>9500.000000</td>\n",
       "      <td>9500.000000</td>\n",
       "      <td>9500.000000</td>\n",
       "      <td>9.500000e+03</td>\n",
       "      <td>9500.000000</td>\n",
       "      <td>9500.000000</td>\n",
       "      <td>9.500000e+03</td>\n",
       "      <td>9.500000e+03</td>\n",
       "      <td>...</td>\n",
       "      <td>9500.000000</td>\n",
       "      <td>9.500000e+03</td>\n",
       "      <td>9500.000000</td>\n",
       "      <td>9.500000e+03</td>\n",
       "      <td>9500.000000</td>\n",
       "      <td>9500.000000</td>\n",
       "      <td>9500.000000</td>\n",
       "      <td>9500.000000</td>\n",
       "      <td>9500.000000</td>\n",
       "      <td>9500.000000</td>\n",
       "    </tr>\n",
       "    <tr>\n",
       "      <th>mean</th>\n",
       "      <td>4.432100e-01</td>\n",
       "      <td>0.424280</td>\n",
       "      <td>3.773174</td>\n",
       "      <td>0.452177</td>\n",
       "      <td>0.423198</td>\n",
       "      <td>3.048743e+00</td>\n",
       "      <td>0.485475</td>\n",
       "      <td>0.384922</td>\n",
       "      <td>2.485858e+00</td>\n",
       "      <td>4.865139e-01</td>\n",
       "      <td>...</td>\n",
       "      <td>0.421233</td>\n",
       "      <td>7.503808e+00</td>\n",
       "      <td>0.296221</td>\n",
       "      <td>2.364990e+01</td>\n",
       "      <td>-0.000176</td>\n",
       "      <td>0.003476</td>\n",
       "      <td>0.210526</td>\n",
       "      <td>0.421053</td>\n",
       "      <td>0.157895</td>\n",
       "      <td>0.210526</td>\n",
       "    </tr>\n",
       "    <tr>\n",
       "      <th>std</th>\n",
       "      <td>5.004530e-01</td>\n",
       "      <td>0.649124</td>\n",
       "      <td>9.470276</td>\n",
       "      <td>0.501168</td>\n",
       "      <td>0.631599</td>\n",
       "      <td>7.126274e+00</td>\n",
       "      <td>0.526319</td>\n",
       "      <td>0.563163</td>\n",
       "      <td>5.275627e+00</td>\n",
       "      <td>5.261389e-01</td>\n",
       "      <td>...</td>\n",
       "      <td>0.733515</td>\n",
       "      <td>2.717888e+01</td>\n",
       "      <td>0.569562</td>\n",
       "      <td>1.690988e+02</td>\n",
       "      <td>0.015585</td>\n",
       "      <td>0.042702</td>\n",
       "      <td>0.407704</td>\n",
       "      <td>0.493754</td>\n",
       "      <td>0.364661</td>\n",
       "      <td>0.407704</td>\n",
       "    </tr>\n",
       "    <tr>\n",
       "      <th>min</th>\n",
       "      <td>-1.971530e-02</td>\n",
       "      <td>-0.062426</td>\n",
       "      <td>-0.000313</td>\n",
       "      <td>-0.014469</td>\n",
       "      <td>-0.064137</td>\n",
       "      <td>-5.524442e-04</td>\n",
       "      <td>-0.005826</td>\n",
       "      <td>-0.065184</td>\n",
       "      <td>-1.364356e-02</td>\n",
       "      <td>-2.188621e-03</td>\n",
       "      <td>...</td>\n",
       "      <td>-0.053270</td>\n",
       "      <td>-8.080768e-07</td>\n",
       "      <td>-0.159943</td>\n",
       "      <td>-5.043427e-15</td>\n",
       "      <td>-0.697674</td>\n",
       "      <td>-0.589781</td>\n",
       "      <td>0.000000</td>\n",
       "      <td>0.000000</td>\n",
       "      <td>0.000000</td>\n",
       "      <td>0.000000</td>\n",
       "    </tr>\n",
       "    <tr>\n",
       "      <th>25%</th>\n",
       "      <td>-1.910876e-02</td>\n",
       "      <td>-0.008000</td>\n",
       "      <td>-0.000313</td>\n",
       "      <td>-0.013380</td>\n",
       "      <td>-0.009580</td>\n",
       "      <td>-5.497041e-04</td>\n",
       "      <td>-0.004614</td>\n",
       "      <td>-0.014873</td>\n",
       "      <td>-1.340195e-02</td>\n",
       "      <td>-1.572453e-03</td>\n",
       "      <td>...</td>\n",
       "      <td>-0.026441</td>\n",
       "      <td>-8.080768e-07</td>\n",
       "      <td>-0.088246</td>\n",
       "      <td>-5.043427e-15</td>\n",
       "      <td>0.000000</td>\n",
       "      <td>0.000000</td>\n",
       "      <td>0.000000</td>\n",
       "      <td>0.000000</td>\n",
       "      <td>0.000000</td>\n",
       "      <td>0.000000</td>\n",
       "    </tr>\n",
       "    <tr>\n",
       "      <th>50%</th>\n",
       "      <td>-1.718947e-18</td>\n",
       "      <td>0.000000</td>\n",
       "      <td>0.000000</td>\n",
       "      <td>0.000000</td>\n",
       "      <td>0.000000</td>\n",
       "      <td>-4.501682e-20</td>\n",
       "      <td>0.000000</td>\n",
       "      <td>0.000000</td>\n",
       "      <td>-9.931461e-19</td>\n",
       "      <td>-1.359488e-19</td>\n",
       "      <td>...</td>\n",
       "      <td>0.000000</td>\n",
       "      <td>0.000000e+00</td>\n",
       "      <td>0.000000</td>\n",
       "      <td>0.000000e+00</td>\n",
       "      <td>0.000000</td>\n",
       "      <td>0.000000</td>\n",
       "      <td>0.000000</td>\n",
       "      <td>0.000000</td>\n",
       "      <td>0.000000</td>\n",
       "      <td>0.000000</td>\n",
       "    </tr>\n",
       "    <tr>\n",
       "      <th>75%</th>\n",
       "      <td>9.808912e-01</td>\n",
       "      <td>0.992000</td>\n",
       "      <td>0.999687</td>\n",
       "      <td>0.986620</td>\n",
       "      <td>0.990420</td>\n",
       "      <td>9.994503e-01</td>\n",
       "      <td>0.995386</td>\n",
       "      <td>0.985127</td>\n",
       "      <td>9.865981e-01</td>\n",
       "      <td>9.984275e-01</td>\n",
       "      <td>...</td>\n",
       "      <td>0.973559</td>\n",
       "      <td>9.999992e-01</td>\n",
       "      <td>0.911754</td>\n",
       "      <td>1.000000e+00</td>\n",
       "      <td>0.000000</td>\n",
       "      <td>0.000000</td>\n",
       "      <td>0.000000</td>\n",
       "      <td>1.000000</td>\n",
       "      <td>0.000000</td>\n",
       "      <td>0.000000</td>\n",
       "    </tr>\n",
       "    <tr>\n",
       "      <th>max</th>\n",
       "      <td>1.962096e+00</td>\n",
       "      <td>5.373480</td>\n",
       "      <td>152.983932</td>\n",
       "      <td>1.630330</td>\n",
       "      <td>5.363202</td>\n",
       "      <td>1.062896e+02</td>\n",
       "      <td>1.310967</td>\n",
       "      <td>4.851360</td>\n",
       "      <td>7.328584e+01</td>\n",
       "      <td>1.251246e+00</td>\n",
       "      <td>...</td>\n",
       "      <td>5.177891</td>\n",
       "      <td>5.419436e+02</td>\n",
       "      <td>3.810602</td>\n",
       "      <td>2.368760e+03</td>\n",
       "      <td>0.302326</td>\n",
       "      <td>0.410219</td>\n",
       "      <td>1.000000</td>\n",
       "      <td>1.000000</td>\n",
       "      <td>1.000000</td>\n",
       "      <td>1.000000</td>\n",
       "    </tr>\n",
       "  </tbody>\n",
       "</table>\n",
       "<p>8 rows × 119 columns</p>\n",
       "</div>"
      ],
      "text/plain": [
       "                0            1            2            3            4    \\\n",
       "count  9.500000e+03  9500.000000  9500.000000  9500.000000  9500.000000   \n",
       "mean   4.432100e-01     0.424280     3.773174     0.452177     0.423198   \n",
       "std    5.004530e-01     0.649124     9.470276     0.501168     0.631599   \n",
       "min   -1.971530e-02    -0.062426    -0.000313    -0.014469    -0.064137   \n",
       "25%   -1.910876e-02    -0.008000    -0.000313    -0.013380    -0.009580   \n",
       "50%   -1.718947e-18     0.000000     0.000000     0.000000     0.000000   \n",
       "75%    9.808912e-01     0.992000     0.999687     0.986620     0.990420   \n",
       "max    1.962096e+00     5.373480   152.983932     1.630330     5.363202   \n",
       "\n",
       "                5            6            7             8             9    \\\n",
       "count  9.500000e+03  9500.000000  9500.000000  9.500000e+03  9.500000e+03   \n",
       "mean   3.048743e+00     0.485475     0.384922  2.485858e+00  4.865139e-01   \n",
       "std    7.126274e+00     0.526319     0.563163  5.275627e+00  5.261389e-01   \n",
       "min   -5.524442e-04    -0.005826    -0.065184 -1.364356e-02 -2.188621e-03   \n",
       "25%   -5.497041e-04    -0.004614    -0.014873 -1.340195e-02 -1.572453e-03   \n",
       "50%   -4.501682e-20     0.000000     0.000000 -9.931461e-19 -1.359488e-19   \n",
       "75%    9.994503e-01     0.995386     0.985127  9.865981e-01  9.984275e-01   \n",
       "max    1.062896e+02     1.310967     4.851360  7.328584e+01  1.251246e+00   \n",
       "\n",
       "       ...          109           110          111           112          113  \\\n",
       "count  ...  9500.000000  9.500000e+03  9500.000000  9.500000e+03  9500.000000   \n",
       "mean   ...     0.421233  7.503808e+00     0.296221  2.364990e+01    -0.000176   \n",
       "std    ...     0.733515  2.717888e+01     0.569562  1.690988e+02     0.015585   \n",
       "min    ...    -0.053270 -8.080768e-07    -0.159943 -5.043427e-15    -0.697674   \n",
       "25%    ...    -0.026441 -8.080768e-07    -0.088246 -5.043427e-15     0.000000   \n",
       "50%    ...     0.000000  0.000000e+00     0.000000  0.000000e+00     0.000000   \n",
       "75%    ...     0.973559  9.999992e-01     0.911754  1.000000e+00     0.000000   \n",
       "max    ...     5.177891  5.419436e+02     3.810602  2.368760e+03     0.302326   \n",
       "\n",
       "               114          115          116          117          118  \n",
       "count  9500.000000  9500.000000  9500.000000  9500.000000  9500.000000  \n",
       "mean      0.003476     0.210526     0.421053     0.157895     0.210526  \n",
       "std       0.042702     0.407704     0.493754     0.364661     0.407704  \n",
       "min      -0.589781     0.000000     0.000000     0.000000     0.000000  \n",
       "25%       0.000000     0.000000     0.000000     0.000000     0.000000  \n",
       "50%       0.000000     0.000000     0.000000     0.000000     0.000000  \n",
       "75%       0.000000     0.000000     1.000000     0.000000     0.000000  \n",
       "max       0.410219     1.000000     1.000000     1.000000     1.000000  \n",
       "\n",
       "[8 rows x 119 columns]"
      ]
     },
     "execution_count": 108,
     "metadata": {
      "tags": []
     },
     "output_type": "execute_result"
    }
   ],
   "source": [
    "desc"
   ]
  },
  {
   "cell_type": "markdown",
   "metadata": {
    "id": "oeuLaH3E5Cd_"
   },
   "source": [
    "# KDD"
   ]
  },
  {
   "cell_type": "code",
   "execution_count": 2,
   "metadata": {
    "id": "bEuolBiB5Cd_"
   },
   "outputs": [],
   "source": [
    "names=\"\"\"duration: continuous.\n",
    "protocol_type: symbolic.\n",
    "service: symbolic.\n",
    "flag: symbolic.\n",
    "src_bytes: continuous.\n",
    "dst_bytes: continuous.\n",
    "land: symbolic.\n",
    "wrong_fragment: continuous.\n",
    "urgent: continuous.\n",
    "hot: continuous.\n",
    "num_failed_logins: continuous.\n",
    "logged_in: symbolic.\n",
    "num_compromised: continuous.\n",
    "root_shell: continuous.\n",
    "su_attempted: continuous.\n",
    "num_root: continuous.\n",
    "num_file_creations: continuous.\n",
    "num_shells: continuous.\n",
    "num_access_files: continuous.\n",
    "num_outbound_cmds: continuous.\n",
    "is_host_login: symbolic.\n",
    "is_guest_login: symbolic.\n",
    "count: continuous.\n",
    "srv_count: continuous.\n",
    "serror_rate: continuous.\n",
    "srv_serror_rate: continuous.\n",
    "rerror_rate: continuous.\n",
    "srv_rerror_rate: continuous.\n",
    "same_srv_rate: continuous.\n",
    "diff_srv_rate: continuous.\n",
    "srv_diff_host_rate: continuous.\n",
    "dst_host_count: continuous.\n",
    "dst_host_srv_count: continuous.\n",
    "dst_host_same_srv_rate: continuous.\n",
    "dst_host_diff_srv_rate: continuous.\n",
    "dst_host_same_src_port_rate: continuous.\n",
    "dst_host_srv_diff_host_rate: continuous.\n",
    "dst_host_serror_rate: continuous.\n",
    "dst_host_srv_serror_rate: continuous.\n",
    "dst_host_rerror_rate: continuous.\n",
    "dst_host_srv_rerror_rate: continuous.\"\"\"\n",
    "names=names.split(\"\\n\")"
   ]
  },
  {
   "cell_type": "code",
   "execution_count": 3,
   "metadata": {
    "id": "b04mpW1F5CeA"
   },
   "outputs": [],
   "source": [
    "final_names=[]\n",
    "for obj in names:\n",
    "    idx=obj.index(\":\")\n",
    "    colname=obj[:idx]\n",
    "    final_names.append(colname)"
   ]
  },
  {
   "cell_type": "code",
   "execution_count": 4,
   "metadata": {
    "colab": {
     "base_uri": "https://localhost:8080/"
    },
    "id": "lnGh6xwK5CeA",
    "outputId": "f7eecf7f-acab-4065-cdb4-7ecdacdb0761"
   },
   "outputs": [
    {
     "data": {
      "text/plain": [
       "['duration',\n",
       " 'protocol_type',\n",
       " 'service',\n",
       " 'flag',\n",
       " 'src_bytes',\n",
       " 'dst_bytes',\n",
       " 'land',\n",
       " 'wrong_fragment',\n",
       " 'urgent',\n",
       " 'hot',\n",
       " 'num_failed_logins',\n",
       " 'logged_in',\n",
       " 'num_compromised',\n",
       " 'root_shell',\n",
       " 'su_attempted',\n",
       " 'num_root',\n",
       " 'num_file_creations',\n",
       " 'num_shells',\n",
       " 'num_access_files',\n",
       " 'num_outbound_cmds',\n",
       " 'is_host_login',\n",
       " 'is_guest_login',\n",
       " 'count',\n",
       " 'srv_count',\n",
       " 'serror_rate',\n",
       " 'srv_serror_rate',\n",
       " 'rerror_rate',\n",
       " 'srv_rerror_rate',\n",
       " 'same_srv_rate',\n",
       " 'diff_srv_rate',\n",
       " 'srv_diff_host_rate',\n",
       " 'dst_host_count',\n",
       " 'dst_host_srv_count',\n",
       " 'dst_host_same_srv_rate',\n",
       " 'dst_host_diff_srv_rate',\n",
       " 'dst_host_same_src_port_rate',\n",
       " 'dst_host_srv_diff_host_rate',\n",
       " 'dst_host_serror_rate',\n",
       " 'dst_host_srv_serror_rate',\n",
       " 'dst_host_rerror_rate',\n",
       " 'dst_host_srv_rerror_rate']"
      ]
     },
     "execution_count": 4,
     "metadata": {},
     "output_type": "execute_result"
    }
   ],
   "source": [
    "final_names"
   ]
  },
  {
   "cell_type": "code",
   "execution_count": 5,
   "metadata": {
    "colab": {
     "base_uri": "https://localhost:8080/"
    },
    "id": "CLDBNcfB5CeA",
    "outputId": "a79062d1-ed5b-4f5a-938d-352f1527de15"
   },
   "outputs": [
    {
     "data": {
      "text/plain": [
       "41"
      ]
     },
     "execution_count": 5,
     "metadata": {},
     "output_type": "execute_result"
    }
   ],
   "source": [
    "len(final_names)"
   ]
  },
  {
   "cell_type": "code",
   "execution_count": null,
   "metadata": {
    "id": "riOx2wF_5CeA",
    "outputId": "2db3377d-bfed-4c97-8276-6aaebd934ad9"
   },
   "outputs": [
    {
     "data": {
      "text/plain": [
       "42"
      ]
     },
     "execution_count": 14,
     "metadata": {
      "tags": []
     },
     "output_type": "execute_result"
    }
   ],
   "source": [
    "#len(kdd.columns)"
   ]
  },
  {
   "cell_type": "code",
   "execution_count": 6,
   "metadata": {
    "id": "VNaj-_OB5CeB"
   },
   "outputs": [],
   "source": [
    "final_names.append('output')\n",
    "kdd=pd.read_csv('kddcup.data_10_percent_corrected',names=final_names)"
   ]
  },
  {
   "cell_type": "code",
   "execution_count": null,
   "metadata": {
    "id": "_jgZ5sc55CeB"
   },
   "outputs": [],
   "source": []
  },
  {
   "cell_type": "code",
   "execution_count": null,
   "metadata": {
    "id": "5Pcd-acq5CeB"
   },
   "outputs": [],
   "source": []
  },
  {
   "cell_type": "code",
   "execution_count": null,
   "metadata": {
    "id": "lCQpZx6S5CeB"
   },
   "outputs": [],
   "source": []
  },
  {
   "cell_type": "code",
   "execution_count": 32,
   "metadata": {
    "colab": {
     "base_uri": "https://localhost:8080/",
     "height": 222
    },
    "id": "FcQHY8dJ5CeB",
    "outputId": "97f1c425-ac32-4c9d-aa28-c6722bddd13b"
   },
   "outputs": [
    {
     "data": {
      "text/html": [
       "<div>\n",
       "<style scoped>\n",
       "    .dataframe tbody tr th:only-of-type {\n",
       "        vertical-align: middle;\n",
       "    }\n",
       "\n",
       "    .dataframe tbody tr th {\n",
       "        vertical-align: top;\n",
       "    }\n",
       "\n",
       "    .dataframe thead th {\n",
       "        text-align: right;\n",
       "    }\n",
       "</style>\n",
       "<table border=\"1\" class=\"dataframe\">\n",
       "  <thead>\n",
       "    <tr style=\"text-align: right;\">\n",
       "      <th></th>\n",
       "      <th>duration</th>\n",
       "      <th>protocol_type</th>\n",
       "      <th>service</th>\n",
       "      <th>flag</th>\n",
       "      <th>src_bytes</th>\n",
       "      <th>dst_bytes</th>\n",
       "      <th>land</th>\n",
       "      <th>wrong_fragment</th>\n",
       "      <th>urgent</th>\n",
       "      <th>hot</th>\n",
       "      <th>num_failed_logins</th>\n",
       "      <th>logged_in</th>\n",
       "      <th>num_compromised</th>\n",
       "      <th>root_shell</th>\n",
       "      <th>su_attempted</th>\n",
       "      <th>num_root</th>\n",
       "      <th>num_file_creations</th>\n",
       "      <th>num_shells</th>\n",
       "      <th>num_access_files</th>\n",
       "      <th>num_outbound_cmds</th>\n",
       "      <th>is_host_login</th>\n",
       "      <th>is_guest_login</th>\n",
       "      <th>count</th>\n",
       "      <th>srv_count</th>\n",
       "      <th>serror_rate</th>\n",
       "      <th>srv_serror_rate</th>\n",
       "      <th>rerror_rate</th>\n",
       "      <th>srv_rerror_rate</th>\n",
       "      <th>same_srv_rate</th>\n",
       "      <th>diff_srv_rate</th>\n",
       "      <th>srv_diff_host_rate</th>\n",
       "      <th>dst_host_count</th>\n",
       "      <th>dst_host_srv_count</th>\n",
       "      <th>dst_host_same_srv_rate</th>\n",
       "      <th>dst_host_diff_srv_rate</th>\n",
       "      <th>dst_host_same_src_port_rate</th>\n",
       "      <th>dst_host_srv_diff_host_rate</th>\n",
       "      <th>dst_host_serror_rate</th>\n",
       "      <th>dst_host_srv_serror_rate</th>\n",
       "      <th>dst_host_rerror_rate</th>\n",
       "      <th>dst_host_srv_rerror_rate</th>\n",
       "      <th>output</th>\n",
       "    </tr>\n",
       "  </thead>\n",
       "  <tbody>\n",
       "    <tr>\n",
       "      <th>0</th>\n",
       "      <td>0</td>\n",
       "      <td>tcp</td>\n",
       "      <td>http</td>\n",
       "      <td>SF</td>\n",
       "      <td>181</td>\n",
       "      <td>5450</td>\n",
       "      <td>0</td>\n",
       "      <td>0</td>\n",
       "      <td>0</td>\n",
       "      <td>0</td>\n",
       "      <td>0</td>\n",
       "      <td>1</td>\n",
       "      <td>0</td>\n",
       "      <td>0</td>\n",
       "      <td>0</td>\n",
       "      <td>0</td>\n",
       "      <td>0</td>\n",
       "      <td>0</td>\n",
       "      <td>0</td>\n",
       "      <td>0</td>\n",
       "      <td>0</td>\n",
       "      <td>0</td>\n",
       "      <td>8</td>\n",
       "      <td>8</td>\n",
       "      <td>0.0</td>\n",
       "      <td>0.0</td>\n",
       "      <td>0.0</td>\n",
       "      <td>0.0</td>\n",
       "      <td>1.0</td>\n",
       "      <td>0.0</td>\n",
       "      <td>0.0</td>\n",
       "      <td>9</td>\n",
       "      <td>9</td>\n",
       "      <td>1.0</td>\n",
       "      <td>0.0</td>\n",
       "      <td>0.11</td>\n",
       "      <td>0.0</td>\n",
       "      <td>0.0</td>\n",
       "      <td>0.0</td>\n",
       "      <td>0.0</td>\n",
       "      <td>0.0</td>\n",
       "      <td>normal.</td>\n",
       "    </tr>\n",
       "    <tr>\n",
       "      <th>1</th>\n",
       "      <td>0</td>\n",
       "      <td>tcp</td>\n",
       "      <td>http</td>\n",
       "      <td>SF</td>\n",
       "      <td>239</td>\n",
       "      <td>486</td>\n",
       "      <td>0</td>\n",
       "      <td>0</td>\n",
       "      <td>0</td>\n",
       "      <td>0</td>\n",
       "      <td>0</td>\n",
       "      <td>1</td>\n",
       "      <td>0</td>\n",
       "      <td>0</td>\n",
       "      <td>0</td>\n",
       "      <td>0</td>\n",
       "      <td>0</td>\n",
       "      <td>0</td>\n",
       "      <td>0</td>\n",
       "      <td>0</td>\n",
       "      <td>0</td>\n",
       "      <td>0</td>\n",
       "      <td>8</td>\n",
       "      <td>8</td>\n",
       "      <td>0.0</td>\n",
       "      <td>0.0</td>\n",
       "      <td>0.0</td>\n",
       "      <td>0.0</td>\n",
       "      <td>1.0</td>\n",
       "      <td>0.0</td>\n",
       "      <td>0.0</td>\n",
       "      <td>19</td>\n",
       "      <td>19</td>\n",
       "      <td>1.0</td>\n",
       "      <td>0.0</td>\n",
       "      <td>0.05</td>\n",
       "      <td>0.0</td>\n",
       "      <td>0.0</td>\n",
       "      <td>0.0</td>\n",
       "      <td>0.0</td>\n",
       "      <td>0.0</td>\n",
       "      <td>normal.</td>\n",
       "    </tr>\n",
       "    <tr>\n",
       "      <th>2</th>\n",
       "      <td>0</td>\n",
       "      <td>tcp</td>\n",
       "      <td>http</td>\n",
       "      <td>SF</td>\n",
       "      <td>235</td>\n",
       "      <td>1337</td>\n",
       "      <td>0</td>\n",
       "      <td>0</td>\n",
       "      <td>0</td>\n",
       "      <td>0</td>\n",
       "      <td>0</td>\n",
       "      <td>1</td>\n",
       "      <td>0</td>\n",
       "      <td>0</td>\n",
       "      <td>0</td>\n",
       "      <td>0</td>\n",
       "      <td>0</td>\n",
       "      <td>0</td>\n",
       "      <td>0</td>\n",
       "      <td>0</td>\n",
       "      <td>0</td>\n",
       "      <td>0</td>\n",
       "      <td>8</td>\n",
       "      <td>8</td>\n",
       "      <td>0.0</td>\n",
       "      <td>0.0</td>\n",
       "      <td>0.0</td>\n",
       "      <td>0.0</td>\n",
       "      <td>1.0</td>\n",
       "      <td>0.0</td>\n",
       "      <td>0.0</td>\n",
       "      <td>29</td>\n",
       "      <td>29</td>\n",
       "      <td>1.0</td>\n",
       "      <td>0.0</td>\n",
       "      <td>0.03</td>\n",
       "      <td>0.0</td>\n",
       "      <td>0.0</td>\n",
       "      <td>0.0</td>\n",
       "      <td>0.0</td>\n",
       "      <td>0.0</td>\n",
       "      <td>normal.</td>\n",
       "    </tr>\n",
       "    <tr>\n",
       "      <th>3</th>\n",
       "      <td>0</td>\n",
       "      <td>tcp</td>\n",
       "      <td>http</td>\n",
       "      <td>SF</td>\n",
       "      <td>219</td>\n",
       "      <td>1337</td>\n",
       "      <td>0</td>\n",
       "      <td>0</td>\n",
       "      <td>0</td>\n",
       "      <td>0</td>\n",
       "      <td>0</td>\n",
       "      <td>1</td>\n",
       "      <td>0</td>\n",
       "      <td>0</td>\n",
       "      <td>0</td>\n",
       "      <td>0</td>\n",
       "      <td>0</td>\n",
       "      <td>0</td>\n",
       "      <td>0</td>\n",
       "      <td>0</td>\n",
       "      <td>0</td>\n",
       "      <td>0</td>\n",
       "      <td>6</td>\n",
       "      <td>6</td>\n",
       "      <td>0.0</td>\n",
       "      <td>0.0</td>\n",
       "      <td>0.0</td>\n",
       "      <td>0.0</td>\n",
       "      <td>1.0</td>\n",
       "      <td>0.0</td>\n",
       "      <td>0.0</td>\n",
       "      <td>39</td>\n",
       "      <td>39</td>\n",
       "      <td>1.0</td>\n",
       "      <td>0.0</td>\n",
       "      <td>0.03</td>\n",
       "      <td>0.0</td>\n",
       "      <td>0.0</td>\n",
       "      <td>0.0</td>\n",
       "      <td>0.0</td>\n",
       "      <td>0.0</td>\n",
       "      <td>normal.</td>\n",
       "    </tr>\n",
       "    <tr>\n",
       "      <th>4</th>\n",
       "      <td>0</td>\n",
       "      <td>tcp</td>\n",
       "      <td>http</td>\n",
       "      <td>SF</td>\n",
       "      <td>217</td>\n",
       "      <td>2032</td>\n",
       "      <td>0</td>\n",
       "      <td>0</td>\n",
       "      <td>0</td>\n",
       "      <td>0</td>\n",
       "      <td>0</td>\n",
       "      <td>1</td>\n",
       "      <td>0</td>\n",
       "      <td>0</td>\n",
       "      <td>0</td>\n",
       "      <td>0</td>\n",
       "      <td>0</td>\n",
       "      <td>0</td>\n",
       "      <td>0</td>\n",
       "      <td>0</td>\n",
       "      <td>0</td>\n",
       "      <td>0</td>\n",
       "      <td>6</td>\n",
       "      <td>6</td>\n",
       "      <td>0.0</td>\n",
       "      <td>0.0</td>\n",
       "      <td>0.0</td>\n",
       "      <td>0.0</td>\n",
       "      <td>1.0</td>\n",
       "      <td>0.0</td>\n",
       "      <td>0.0</td>\n",
       "      <td>49</td>\n",
       "      <td>49</td>\n",
       "      <td>1.0</td>\n",
       "      <td>0.0</td>\n",
       "      <td>0.02</td>\n",
       "      <td>0.0</td>\n",
       "      <td>0.0</td>\n",
       "      <td>0.0</td>\n",
       "      <td>0.0</td>\n",
       "      <td>0.0</td>\n",
       "      <td>normal.</td>\n",
       "    </tr>\n",
       "  </tbody>\n",
       "</table>\n",
       "</div>"
      ],
      "text/plain": [
       "   duration protocol_type  ... dst_host_srv_rerror_rate   output\n",
       "0         0           tcp  ...                      0.0  normal.\n",
       "1         0           tcp  ...                      0.0  normal.\n",
       "2         0           tcp  ...                      0.0  normal.\n",
       "3         0           tcp  ...                      0.0  normal.\n",
       "4         0           tcp  ...                      0.0  normal.\n",
       "\n",
       "[5 rows x 42 columns]"
      ]
     },
     "execution_count": 32,
     "metadata": {
      "tags": []
     },
     "output_type": "execute_result"
    }
   ],
   "source": [
    "kdd.head()"
   ]
  },
  {
   "cell_type": "code",
   "execution_count": 26,
   "metadata": {
    "colab": {
     "base_uri": "https://localhost:8080/",
     "height": 35
    },
    "id": "dRyxIXph5CeB",
    "outputId": "ab9f2395-15f3-43f5-df4d-bb22ea470fe7"
   },
   "outputs": [
    {
     "data": {
      "application/vnd.google.colaboratory.intrinsic+json": {
       "type": "string"
      },
      "text/plain": [
       "'normal.'"
      ]
     },
     "execution_count": 26,
     "metadata": {
      "tags": []
     },
     "output_type": "execute_result"
    }
   ],
   "source": [
    "kdd.iloc[0]['output']"
   ]
  },
  {
   "cell_type": "code",
   "execution_count": null,
   "metadata": {
    "id": "eRBMazlb5CeC",
    "outputId": "8f478e7e-47aa-4395-cce8-fa3a45be98f9"
   },
   "outputs": [
    {
     "data": {
      "text/plain": [
       "duration                         int64\n",
       "protocol_type                   object\n",
       "service                         object\n",
       "flag                            object\n",
       "src_bytes                        int64\n",
       "dst_bytes                        int64\n",
       "land                             int64\n",
       "wrong_fragment                   int64\n",
       "urgent                           int64\n",
       "hot                              int64\n",
       "num_failed_logins                int64\n",
       "logged_in                        int64\n",
       "num_compromised                  int64\n",
       "root_shell                       int64\n",
       "su_attempted                     int64\n",
       "num_root                         int64\n",
       "num_file_creations               int64\n",
       "num_shells                       int64\n",
       "num_access_files                 int64\n",
       "num_outbound_cmds                int64\n",
       "is_host_login                    int64\n",
       "is_guest_login                   int64\n",
       "count                            int64\n",
       "srv_count                        int64\n",
       "serror_rate                    float64\n",
       "srv_serror_rate                float64\n",
       "rerror_rate                    float64\n",
       "srv_rerror_rate                float64\n",
       "same_srv_rate                  float64\n",
       "diff_srv_rate                  float64\n",
       "srv_diff_host_rate             float64\n",
       "dst_host_count                   int64\n",
       "dst_host_srv_count               int64\n",
       "dst_host_same_srv_rate         float64\n",
       "dst_host_diff_srv_rate         float64\n",
       "dst_host_same_src_port_rate    float64\n",
       "dst_host_srv_diff_host_rate    float64\n",
       "dst_host_serror_rate           float64\n",
       "dst_host_srv_serror_rate       float64\n",
       "dst_host_rerror_rate           float64\n",
       "dst_host_srv_rerror_rate       float64\n",
       "output                          object\n",
       "dtype: object"
      ]
     },
     "execution_count": 18,
     "metadata": {
      "tags": []
     },
     "output_type": "execute_result"
    }
   ],
   "source": [
    "kdd.dtypes"
   ]
  },
  {
   "cell_type": "code",
   "execution_count": 33,
   "metadata": {
    "colab": {
     "base_uri": "https://localhost:8080/"
    },
    "id": "_nNOXDCl5CeC",
    "outputId": "2e3f53e7-54c1-4b49-cf11-e95587e0e9f6"
   },
   "outputs": [
    {
     "data": {
      "text/plain": [
       "3"
      ]
     },
     "execution_count": 33,
     "metadata": {
      "tags": []
     },
     "output_type": "execute_result"
    }
   ],
   "source": [
    "len(kdd['protocol_type'].value_counts())"
   ]
  },
  {
   "cell_type": "code",
   "execution_count": 34,
   "metadata": {
    "colab": {
     "base_uri": "https://localhost:8080/"
    },
    "id": "Iu5EmZxj5CeC",
    "outputId": "44f2b604-754d-4022-cd34-2a68a28165e0"
   },
   "outputs": [
    {
     "data": {
      "text/plain": [
       "24"
      ]
     },
     "execution_count": 34,
     "metadata": {
      "tags": []
     },
     "output_type": "execute_result"
    }
   ],
   "source": [
    "len(kdd['service'].value_counts())"
   ]
  },
  {
   "cell_type": "code",
   "execution_count": 35,
   "metadata": {
    "colab": {
     "base_uri": "https://localhost:8080/"
    },
    "id": "6u04I4OM5CeC",
    "outputId": "8671dd50-1cf4-40e0-de9c-591ce1361d19"
   },
   "outputs": [
    {
     "data": {
      "text/plain": [
       "9"
      ]
     },
     "execution_count": 35,
     "metadata": {
      "tags": []
     },
     "output_type": "execute_result"
    }
   ],
   "source": [
    "len(kdd['flag'].value_counts())"
   ]
  },
  {
   "cell_type": "code",
   "execution_count": 7,
   "metadata": {
    "id": "4nWfM6JK5CeC"
   },
   "outputs": [],
   "source": [
    "temp=kdd.copy()"
   ]
  },
  {
   "cell_type": "code",
   "execution_count": 8,
   "metadata": {
    "id": "8Vidf8cr5CeD"
   },
   "outputs": [],
   "source": [
    "categoricals=['output','protocol_type','service','flag']\n",
    "continuous=temp.drop(categoricals,axis=1).columns"
   ]
  },
  {
   "cell_type": "code",
   "execution_count": 9,
   "metadata": {
    "id": "c4kuRKqN5CeD"
   },
   "outputs": [],
   "source": [
    "temp[continuous]=scaler.fit_transform(temp[continuous])"
   ]
  },
  {
   "cell_type": "code",
   "execution_count": 10,
   "metadata": {
    "id": "2Y-cLCKN5CeD"
   },
   "outputs": [],
   "source": [
    "label_encoder=LabelEncoder()"
   ]
  },
  {
   "cell_type": "code",
   "execution_count": 11,
   "metadata": {
    "colab": {
     "base_uri": "https://localhost:8080/"
    },
    "id": "gjNsZeHm7grU",
    "outputId": "4f171cfe-0aaf-4967-9c71-97d7e4ef9934"
   },
   "outputs": [
    {
     "data": {
      "text/plain": [
       "smurf.              280790\n",
       "neptune.            107201\n",
       "normal.              97278\n",
       "back.                 2203\n",
       "satan.                1589\n",
       "ipsweep.              1247\n",
       "portsweep.            1040\n",
       "warezclient.          1020\n",
       "teardrop.              979\n",
       "pod.                   264\n",
       "nmap.                  231\n",
       "guess_passwd.           53\n",
       "buffer_overflow.        30\n",
       "land.                   21\n",
       "warezmaster.            20\n",
       "imap.                   12\n",
       "rootkit.                10\n",
       "loadmodule.              9\n",
       "ftp_write.               8\n",
       "multihop.                7\n",
       "phf.                     4\n",
       "perl.                    3\n",
       "spy.                     2\n",
       "Name: output, dtype: int64"
      ]
     },
     "execution_count": 11,
     "metadata": {},
     "output_type": "execute_result"
    }
   ],
   "source": [
    "temp['output'].value_counts()"
   ]
  },
  {
   "cell_type": "code",
   "execution_count": 43,
   "metadata": {
    "id": "CDfomam59JbK"
   },
   "outputs": [],
   "source": [
    "\n",
    "#temp.drop(27899,inplace=True)"
   ]
  },
  {
   "cell_type": "code",
   "execution_count": 12,
   "metadata": {
    "id": "Y-IMOGJe5CeD"
   },
   "outputs": [],
   "source": [
    "temp['output']=label_encoder.fit_transform(temp['output'])"
   ]
  },
  {
   "cell_type": "code",
   "execution_count": 13,
   "metadata": {
    "id": "3zVd-d8X5CeD"
   },
   "outputs": [],
   "source": [
    "temp2=pd.get_dummies(temp,columns=['protocol_type'])\n",
    "temp=temp2"
   ]
  },
  {
   "cell_type": "code",
   "execution_count": 14,
   "metadata": {
    "id": "hlt17Gxw5CeE"
   },
   "outputs": [],
   "source": [
    "label_encoder=LabelEncoder()\n",
    "temp['service']=label_encoder.fit_transform(temp['service'])"
   ]
  },
  {
   "cell_type": "code",
   "execution_count": 15,
   "metadata": {
    "id": "J_TcbiYb5CeE"
   },
   "outputs": [],
   "source": [
    "label_encoder=LabelEncoder()\n",
    "temp['flag']=label_encoder.fit_transform(temp['flag'])"
   ]
  },
  {
   "cell_type": "code",
   "execution_count": 16,
   "metadata": {
    "colab": {
     "base_uri": "https://localhost:8080/",
     "height": 222
    },
    "id": "Y6k9szef5CeF",
    "outputId": "1cbdcb15-c722-4c60-fd4f-72bbf8decb73"
   },
   "outputs": [
    {
     "data": {
      "text/html": [
       "<div>\n",
       "<style scoped>\n",
       "    .dataframe tbody tr th:only-of-type {\n",
       "        vertical-align: middle;\n",
       "    }\n",
       "\n",
       "    .dataframe tbody tr th {\n",
       "        vertical-align: top;\n",
       "    }\n",
       "\n",
       "    .dataframe thead th {\n",
       "        text-align: right;\n",
       "    }\n",
       "</style>\n",
       "<table border=\"1\" class=\"dataframe\">\n",
       "  <thead>\n",
       "    <tr style=\"text-align: right;\">\n",
       "      <th></th>\n",
       "      <th>duration</th>\n",
       "      <th>service</th>\n",
       "      <th>flag</th>\n",
       "      <th>src_bytes</th>\n",
       "      <th>dst_bytes</th>\n",
       "      <th>land</th>\n",
       "      <th>wrong_fragment</th>\n",
       "      <th>urgent</th>\n",
       "      <th>hot</th>\n",
       "      <th>num_failed_logins</th>\n",
       "      <th>...</th>\n",
       "      <th>dst_host_same_src_port_rate</th>\n",
       "      <th>dst_host_srv_diff_host_rate</th>\n",
       "      <th>dst_host_serror_rate</th>\n",
       "      <th>dst_host_srv_serror_rate</th>\n",
       "      <th>dst_host_rerror_rate</th>\n",
       "      <th>dst_host_srv_rerror_rate</th>\n",
       "      <th>output</th>\n",
       "      <th>protocol_type_icmp</th>\n",
       "      <th>protocol_type_tcp</th>\n",
       "      <th>protocol_type_udp</th>\n",
       "    </tr>\n",
       "  </thead>\n",
       "  <tbody>\n",
       "    <tr>\n",
       "      <th>0</th>\n",
       "      <td>0.0</td>\n",
       "      <td>22</td>\n",
       "      <td>9</td>\n",
       "      <td>2.610418e-07</td>\n",
       "      <td>0.001057</td>\n",
       "      <td>0.0</td>\n",
       "      <td>0.0</td>\n",
       "      <td>0.0</td>\n",
       "      <td>0.0</td>\n",
       "      <td>0.0</td>\n",
       "      <td>...</td>\n",
       "      <td>0.11</td>\n",
       "      <td>0.0</td>\n",
       "      <td>0.0</td>\n",
       "      <td>0.0</td>\n",
       "      <td>0.0</td>\n",
       "      <td>0.0</td>\n",
       "      <td>11</td>\n",
       "      <td>0</td>\n",
       "      <td>1</td>\n",
       "      <td>0</td>\n",
       "    </tr>\n",
       "    <tr>\n",
       "      <th>1</th>\n",
       "      <td>0.0</td>\n",
       "      <td>22</td>\n",
       "      <td>9</td>\n",
       "      <td>3.446905e-07</td>\n",
       "      <td>0.000094</td>\n",
       "      <td>0.0</td>\n",
       "      <td>0.0</td>\n",
       "      <td>0.0</td>\n",
       "      <td>0.0</td>\n",
       "      <td>0.0</td>\n",
       "      <td>...</td>\n",
       "      <td>0.05</td>\n",
       "      <td>0.0</td>\n",
       "      <td>0.0</td>\n",
       "      <td>0.0</td>\n",
       "      <td>0.0</td>\n",
       "      <td>0.0</td>\n",
       "      <td>11</td>\n",
       "      <td>0</td>\n",
       "      <td>1</td>\n",
       "      <td>0</td>\n",
       "    </tr>\n",
       "    <tr>\n",
       "      <th>2</th>\n",
       "      <td>0.0</td>\n",
       "      <td>22</td>\n",
       "      <td>9</td>\n",
       "      <td>3.389216e-07</td>\n",
       "      <td>0.000259</td>\n",
       "      <td>0.0</td>\n",
       "      <td>0.0</td>\n",
       "      <td>0.0</td>\n",
       "      <td>0.0</td>\n",
       "      <td>0.0</td>\n",
       "      <td>...</td>\n",
       "      <td>0.03</td>\n",
       "      <td>0.0</td>\n",
       "      <td>0.0</td>\n",
       "      <td>0.0</td>\n",
       "      <td>0.0</td>\n",
       "      <td>0.0</td>\n",
       "      <td>11</td>\n",
       "      <td>0</td>\n",
       "      <td>1</td>\n",
       "      <td>0</td>\n",
       "    </tr>\n",
       "    <tr>\n",
       "      <th>3</th>\n",
       "      <td>0.0</td>\n",
       "      <td>22</td>\n",
       "      <td>9</td>\n",
       "      <td>3.158461e-07</td>\n",
       "      <td>0.000259</td>\n",
       "      <td>0.0</td>\n",
       "      <td>0.0</td>\n",
       "      <td>0.0</td>\n",
       "      <td>0.0</td>\n",
       "      <td>0.0</td>\n",
       "      <td>...</td>\n",
       "      <td>0.03</td>\n",
       "      <td>0.0</td>\n",
       "      <td>0.0</td>\n",
       "      <td>0.0</td>\n",
       "      <td>0.0</td>\n",
       "      <td>0.0</td>\n",
       "      <td>11</td>\n",
       "      <td>0</td>\n",
       "      <td>1</td>\n",
       "      <td>0</td>\n",
       "    </tr>\n",
       "    <tr>\n",
       "      <th>4</th>\n",
       "      <td>0.0</td>\n",
       "      <td>22</td>\n",
       "      <td>9</td>\n",
       "      <td>3.129617e-07</td>\n",
       "      <td>0.000394</td>\n",
       "      <td>0.0</td>\n",
       "      <td>0.0</td>\n",
       "      <td>0.0</td>\n",
       "      <td>0.0</td>\n",
       "      <td>0.0</td>\n",
       "      <td>...</td>\n",
       "      <td>0.02</td>\n",
       "      <td>0.0</td>\n",
       "      <td>0.0</td>\n",
       "      <td>0.0</td>\n",
       "      <td>0.0</td>\n",
       "      <td>0.0</td>\n",
       "      <td>11</td>\n",
       "      <td>0</td>\n",
       "      <td>1</td>\n",
       "      <td>0</td>\n",
       "    </tr>\n",
       "  </tbody>\n",
       "</table>\n",
       "<p>5 rows × 44 columns</p>\n",
       "</div>"
      ],
      "text/plain": [
       "   duration  service  flag     src_bytes  dst_bytes  land  wrong_fragment  \\\n",
       "0       0.0       22     9  2.610418e-07   0.001057   0.0             0.0   \n",
       "1       0.0       22     9  3.446905e-07   0.000094   0.0             0.0   \n",
       "2       0.0       22     9  3.389216e-07   0.000259   0.0             0.0   \n",
       "3       0.0       22     9  3.158461e-07   0.000259   0.0             0.0   \n",
       "4       0.0       22     9  3.129617e-07   0.000394   0.0             0.0   \n",
       "\n",
       "   urgent  hot  num_failed_logins  ...  dst_host_same_src_port_rate  \\\n",
       "0     0.0  0.0                0.0  ...                         0.11   \n",
       "1     0.0  0.0                0.0  ...                         0.05   \n",
       "2     0.0  0.0                0.0  ...                         0.03   \n",
       "3     0.0  0.0                0.0  ...                         0.03   \n",
       "4     0.0  0.0                0.0  ...                         0.02   \n",
       "\n",
       "   dst_host_srv_diff_host_rate  dst_host_serror_rate  \\\n",
       "0                          0.0                   0.0   \n",
       "1                          0.0                   0.0   \n",
       "2                          0.0                   0.0   \n",
       "3                          0.0                   0.0   \n",
       "4                          0.0                   0.0   \n",
       "\n",
       "   dst_host_srv_serror_rate  dst_host_rerror_rate  dst_host_srv_rerror_rate  \\\n",
       "0                       0.0                   0.0                       0.0   \n",
       "1                       0.0                   0.0                       0.0   \n",
       "2                       0.0                   0.0                       0.0   \n",
       "3                       0.0                   0.0                       0.0   \n",
       "4                       0.0                   0.0                       0.0   \n",
       "\n",
       "   output  protocol_type_icmp  protocol_type_tcp  protocol_type_udp  \n",
       "0      11                   0                  1                  0  \n",
       "1      11                   0                  1                  0  \n",
       "2      11                   0                  1                  0  \n",
       "3      11                   0                  1                  0  \n",
       "4      11                   0                  1                  0  \n",
       "\n",
       "[5 rows x 44 columns]"
      ]
     },
     "execution_count": 16,
     "metadata": {},
     "output_type": "execute_result"
    }
   ],
   "source": [
    "temp.head()"
   ]
  },
  {
   "cell_type": "code",
   "execution_count": null,
   "metadata": {
    "id": "k8VHCaww5CeF",
    "outputId": "e973ecd6-c4b4-4197-ac2f-f9b170cab4fa"
   },
   "outputs": [
    {
     "data": {
      "text/plain": [
       "output                         1.000000\n",
       "srv_count                      0.950510\n",
       "protocol_type_icmp             0.938052\n",
       "dst_host_same_src_port_rate    0.926218\n",
       "count                          0.864138\n",
       "dst_host_srv_count             0.747434\n",
       "dst_host_same_srv_rate         0.726273\n",
       "same_srv_rate                  0.694686\n",
       "flag                           0.642673\n",
       "dst_host_count                 0.305767\n",
       "wrong_fragment                 0.056932\n",
       "is_guest_login                 0.008246\n",
       "src_bytes                      0.000523\n",
       "su_attempted                  -0.003485\n",
       "urgent                        -0.004133\n",
       "num_root                      -0.004886\n",
       "num_shells                    -0.009071\n",
       "num_file_creations            -0.009668\n",
       "num_compromised               -0.011365\n",
       "dst_bytes                     -0.012693\n",
       "land                          -0.013341\n",
       "hot                           -0.016753\n",
       "root_shell                    -0.017152\n",
       "num_failed_logins             -0.022221\n",
       "num_access_files              -0.023827\n",
       "duration                      -0.048000\n",
       "protocol_type_udp             -0.152618\n",
       "dst_host_srv_diff_host_rate   -0.175171\n",
       "srv_diff_host_rate            -0.198930\n",
       "diff_srv_rate                 -0.242419\n",
       "dst_host_diff_srv_rate        -0.245183\n",
       "rerror_rate                   -0.277120\n",
       "dst_host_rerror_rate          -0.277752\n",
       "dst_host_srv_rerror_rate      -0.279409\n",
       "srv_rerror_rate               -0.280471\n",
       "logged_in                     -0.375192\n",
       "dst_host_srv_serror_rate      -0.615139\n",
       "serror_rate                   -0.615363\n",
       "srv_serror_rate               -0.615430\n",
       "dst_host_serror_rate          -0.616028\n",
       "service                       -0.808786\n",
       "protocol_type_tcp             -0.891037\n",
       "num_outbound_cmds                   NaN\n",
       "is_host_login                       NaN\n",
       "Name: output, dtype: float64"
      ]
     },
     "execution_count": 26,
     "metadata": {
      "tags": []
     },
     "output_type": "execute_result"
    }
   ],
   "source": [
    "temp.corr()['output'].sort_values(ascending=False)"
   ]
  },
  {
   "cell_type": "code",
   "execution_count": null,
   "metadata": {
    "id": "tzZsWDFB5CeF",
    "outputId": "74884e08-ca83-4d87-ef52-3fb481051e2b"
   },
   "outputs": [
    {
     "data": {
      "text/plain": [
       "(494021, 44)"
      ]
     },
     "execution_count": 28,
     "metadata": {
      "tags": []
     },
     "output_type": "execute_result"
    }
   ],
   "source": [
    "temp.shape"
   ]
  },
  {
   "cell_type": "code",
   "execution_count": null,
   "metadata": {
    "id": "n5WtP93_5CeF"
   },
   "outputs": [],
   "source": [
    "mini_temp=temp.sample(n=20000,random_state=40)"
   ]
  },
  {
   "cell_type": "code",
   "execution_count": null,
   "metadata": {
    "id": "ShVQzZWo5CeF",
    "outputId": "a385c631-9bd3-435a-d59d-e2ed9d3b7863"
   },
   "outputs": [
    {
     "data": {
      "text/html": [
       "<div>\n",
       "<style scoped>\n",
       "    .dataframe tbody tr th:only-of-type {\n",
       "        vertical-align: middle;\n",
       "    }\n",
       "\n",
       "    .dataframe tbody tr th {\n",
       "        vertical-align: top;\n",
       "    }\n",
       "\n",
       "    .dataframe thead th {\n",
       "        text-align: right;\n",
       "    }\n",
       "</style>\n",
       "<table border=\"1\" class=\"dataframe\">\n",
       "  <thead>\n",
       "    <tr style=\"text-align: right;\">\n",
       "      <th></th>\n",
       "      <th>duration</th>\n",
       "      <th>service</th>\n",
       "      <th>flag</th>\n",
       "      <th>src_bytes</th>\n",
       "      <th>dst_bytes</th>\n",
       "      <th>land</th>\n",
       "      <th>wrong_fragment</th>\n",
       "      <th>urgent</th>\n",
       "      <th>hot</th>\n",
       "      <th>num_failed_logins</th>\n",
       "      <th>...</th>\n",
       "      <th>dst_host_same_src_port_rate</th>\n",
       "      <th>dst_host_srv_diff_host_rate</th>\n",
       "      <th>dst_host_serror_rate</th>\n",
       "      <th>dst_host_srv_serror_rate</th>\n",
       "      <th>dst_host_rerror_rate</th>\n",
       "      <th>dst_host_srv_rerror_rate</th>\n",
       "      <th>output</th>\n",
       "      <th>protocol_type_icmp</th>\n",
       "      <th>protocol_type_tcp</th>\n",
       "      <th>protocol_type_udp</th>\n",
       "    </tr>\n",
       "  </thead>\n",
       "  <tbody>\n",
       "    <tr>\n",
       "      <th>0</th>\n",
       "      <td>0.000000</td>\n",
       "      <td>45</td>\n",
       "      <td>5</td>\n",
       "      <td>0.000000e+00</td>\n",
       "      <td>0.00000</td>\n",
       "      <td>0.0</td>\n",
       "      <td>0.0</td>\n",
       "      <td>0.0</td>\n",
       "      <td>0.0</td>\n",
       "      <td>0.0</td>\n",
       "      <td>...</td>\n",
       "      <td>0.0</td>\n",
       "      <td>0.0</td>\n",
       "      <td>1.0</td>\n",
       "      <td>1.0</td>\n",
       "      <td>0.0</td>\n",
       "      <td>0.0</td>\n",
       "      <td>9</td>\n",
       "      <td>0</td>\n",
       "      <td>1</td>\n",
       "      <td>0</td>\n",
       "    </tr>\n",
       "    <tr>\n",
       "      <th>1</th>\n",
       "      <td>0.081829</td>\n",
       "      <td>40</td>\n",
       "      <td>9</td>\n",
       "      <td>2.120063e-07</td>\n",
       "      <td>0.00002</td>\n",
       "      <td>0.0</td>\n",
       "      <td>0.0</td>\n",
       "      <td>0.0</td>\n",
       "      <td>0.0</td>\n",
       "      <td>0.0</td>\n",
       "      <td>...</td>\n",
       "      <td>1.0</td>\n",
       "      <td>0.0</td>\n",
       "      <td>0.0</td>\n",
       "      <td>0.0</td>\n",
       "      <td>0.0</td>\n",
       "      <td>0.0</td>\n",
       "      <td>11</td>\n",
       "      <td>0</td>\n",
       "      <td>0</td>\n",
       "      <td>1</td>\n",
       "    </tr>\n",
       "    <tr>\n",
       "      <th>2</th>\n",
       "      <td>0.000000</td>\n",
       "      <td>14</td>\n",
       "      <td>9</td>\n",
       "      <td>1.488371e-06</td>\n",
       "      <td>0.00000</td>\n",
       "      <td>0.0</td>\n",
       "      <td>0.0</td>\n",
       "      <td>0.0</td>\n",
       "      <td>0.0</td>\n",
       "      <td>0.0</td>\n",
       "      <td>...</td>\n",
       "      <td>1.0</td>\n",
       "      <td>0.0</td>\n",
       "      <td>0.0</td>\n",
       "      <td>0.0</td>\n",
       "      <td>0.0</td>\n",
       "      <td>0.0</td>\n",
       "      <td>18</td>\n",
       "      <td>1</td>\n",
       "      <td>0</td>\n",
       "      <td>0</td>\n",
       "    </tr>\n",
       "    <tr>\n",
       "      <th>3</th>\n",
       "      <td>0.000000</td>\n",
       "      <td>14</td>\n",
       "      <td>9</td>\n",
       "      <td>1.488371e-06</td>\n",
       "      <td>0.00000</td>\n",
       "      <td>0.0</td>\n",
       "      <td>0.0</td>\n",
       "      <td>0.0</td>\n",
       "      <td>0.0</td>\n",
       "      <td>0.0</td>\n",
       "      <td>...</td>\n",
       "      <td>1.0</td>\n",
       "      <td>0.0</td>\n",
       "      <td>0.0</td>\n",
       "      <td>0.0</td>\n",
       "      <td>0.0</td>\n",
       "      <td>0.0</td>\n",
       "      <td>18</td>\n",
       "      <td>1</td>\n",
       "      <td>0</td>\n",
       "      <td>0</td>\n",
       "    </tr>\n",
       "    <tr>\n",
       "      <th>4</th>\n",
       "      <td>0.000000</td>\n",
       "      <td>14</td>\n",
       "      <td>9</td>\n",
       "      <td>1.488371e-06</td>\n",
       "      <td>0.00000</td>\n",
       "      <td>0.0</td>\n",
       "      <td>0.0</td>\n",
       "      <td>0.0</td>\n",
       "      <td>0.0</td>\n",
       "      <td>0.0</td>\n",
       "      <td>...</td>\n",
       "      <td>1.0</td>\n",
       "      <td>0.0</td>\n",
       "      <td>0.0</td>\n",
       "      <td>0.0</td>\n",
       "      <td>0.0</td>\n",
       "      <td>0.0</td>\n",
       "      <td>18</td>\n",
       "      <td>1</td>\n",
       "      <td>0</td>\n",
       "      <td>0</td>\n",
       "    </tr>\n",
       "  </tbody>\n",
       "</table>\n",
       "<p>5 rows × 44 columns</p>\n",
       "</div>"
      ],
      "text/plain": [
       "   duration  service  flag     src_bytes  dst_bytes  land  wrong_fragment  \\\n",
       "0  0.000000       45     5  0.000000e+00    0.00000   0.0             0.0   \n",
       "1  0.081829       40     9  2.120063e-07    0.00002   0.0             0.0   \n",
       "2  0.000000       14     9  1.488371e-06    0.00000   0.0             0.0   \n",
       "3  0.000000       14     9  1.488371e-06    0.00000   0.0             0.0   \n",
       "4  0.000000       14     9  1.488371e-06    0.00000   0.0             0.0   \n",
       "\n",
       "   urgent  hot  num_failed_logins  ...  dst_host_same_src_port_rate  \\\n",
       "0     0.0  0.0                0.0  ...                          0.0   \n",
       "1     0.0  0.0                0.0  ...                          1.0   \n",
       "2     0.0  0.0                0.0  ...                          1.0   \n",
       "3     0.0  0.0                0.0  ...                          1.0   \n",
       "4     0.0  0.0                0.0  ...                          1.0   \n",
       "\n",
       "   dst_host_srv_diff_host_rate  dst_host_serror_rate  \\\n",
       "0                          0.0                   1.0   \n",
       "1                          0.0                   0.0   \n",
       "2                          0.0                   0.0   \n",
       "3                          0.0                   0.0   \n",
       "4                          0.0                   0.0   \n",
       "\n",
       "   dst_host_srv_serror_rate  dst_host_rerror_rate  dst_host_srv_rerror_rate  \\\n",
       "0                       1.0                   0.0                       0.0   \n",
       "1                       0.0                   0.0                       0.0   \n",
       "2                       0.0                   0.0                       0.0   \n",
       "3                       0.0                   0.0                       0.0   \n",
       "4                       0.0                   0.0                       0.0   \n",
       "\n",
       "   output  protocol_type_icmp  protocol_type_tcp  protocol_type_udp  \n",
       "0       9                   0                  1                  0  \n",
       "1      11                   0                  0                  1  \n",
       "2      18                   1                  0                  0  \n",
       "3      18                   1                  0                  0  \n",
       "4      18                   1                  0                  0  \n",
       "\n",
       "[5 rows x 44 columns]"
      ]
     },
     "execution_count": 114,
     "metadata": {
      "tags": []
     },
     "output_type": "execute_result"
    }
   ],
   "source": [
    "mini_temp.reset_index(drop=True,inplace=True)\n",
    "mini_temp.head()"
   ]
  },
  {
   "cell_type": "code",
   "execution_count": null,
   "metadata": {
    "id": "IKx__Nju5CeG"
   },
   "outputs": [],
   "source": [
    "mini_temp['class_label']=mini_temp['output'].apply(lambda x: is_intrusion(x))"
   ]
  },
  {
   "cell_type": "code",
   "execution_count": null,
   "metadata": {
    "id": "1Tb253D25CeG",
    "outputId": "69c426b8-914b-4f3d-f940-aa6cdd122aa0"
   },
   "outputs": [
    {
     "data": {
      "text/plain": [
       "1    16143\n",
       "0     3857\n",
       "Name: class_label, dtype: int64"
      ]
     },
     "execution_count": 117,
     "metadata": {
      "tags": []
     },
     "output_type": "execute_result"
    }
   ],
   "source": [
    "mini_temp['class_label'].value_counts()"
   ]
  },
  {
   "cell_type": "code",
   "execution_count": 17,
   "metadata": {
    "colab": {
     "base_uri": "https://localhost:8080/"
    },
    "id": "dzt5Me2x5CeG",
    "outputId": "aae86ac6-b085-452c-d2a3-c633dd1a4d35"
   },
   "outputs": [
    {
     "data": {
      "text/plain": [
       "19         2\n",
       "12         3\n",
       "13         4\n",
       "8          7\n",
       "2          8\n",
       "7          9\n",
       "16        10\n",
       "4         12\n",
       "22        20\n",
       "6         21\n",
       "1         30\n",
       "3         53\n",
       "10       231\n",
       "14       264\n",
       "20       979\n",
       "21      1020\n",
       "15      1040\n",
       "5       1247\n",
       "17      1589\n",
       "0       2203\n",
       "11     97278\n",
       "9     107201\n",
       "18    280790\n",
       "Name: output, dtype: int64"
      ]
     },
     "execution_count": 17,
     "metadata": {},
     "output_type": "execute_result"
    }
   ],
   "source": [
    "temp['output'].value_counts().sort_values()"
   ]
  },
  {
   "cell_type": "markdown",
   "metadata": {
    "id": "2CEj1zjQ5CeG"
   },
   "source": [
    "# Removing instances of low counts"
   ]
  },
  {
   "cell_type": "code",
   "execution_count": 18,
   "metadata": {
    "id": "YHfjDcEq5CeG"
   },
   "outputs": [],
   "source": [
    "remove_labels=[19,12,13]\n",
    "remove_idx=[]\n",
    "for idx in range(temp.shape[0]):\n",
    "    if temp.iloc[idx]['output'] in remove_labels:\n",
    "        remove_idx.append(idx)"
   ]
  },
  {
   "cell_type": "code",
   "execution_count": 19,
   "metadata": {
    "id": "14L0NOTI5CeH"
   },
   "outputs": [],
   "source": [
    "temp.drop(remove_idx,inplace=True)"
   ]
  },
  {
   "cell_type": "code",
   "execution_count": null,
   "metadata": {
    "id": "zblGf9Fe5CeH",
    "outputId": "e4ab4b04-f902-4d1e-93fe-2215578a6c5b"
   },
   "outputs": [
    {
     "data": {
      "text/html": [
       "<div>\n",
       "<style scoped>\n",
       "    .dataframe tbody tr th:only-of-type {\n",
       "        vertical-align: middle;\n",
       "    }\n",
       "\n",
       "    .dataframe tbody tr th {\n",
       "        vertical-align: top;\n",
       "    }\n",
       "\n",
       "    .dataframe thead th {\n",
       "        text-align: right;\n",
       "    }\n",
       "</style>\n",
       "<table border=\"1\" class=\"dataframe\">\n",
       "  <thead>\n",
       "    <tr style=\"text-align: right;\">\n",
       "      <th></th>\n",
       "      <th>duration</th>\n",
       "      <th>service</th>\n",
       "      <th>flag</th>\n",
       "      <th>src_bytes</th>\n",
       "      <th>dst_bytes</th>\n",
       "      <th>land</th>\n",
       "      <th>wrong_fragment</th>\n",
       "      <th>urgent</th>\n",
       "      <th>hot</th>\n",
       "      <th>num_failed_logins</th>\n",
       "      <th>...</th>\n",
       "      <th>dst_host_same_src_port_rate</th>\n",
       "      <th>dst_host_srv_diff_host_rate</th>\n",
       "      <th>dst_host_serror_rate</th>\n",
       "      <th>dst_host_srv_serror_rate</th>\n",
       "      <th>dst_host_rerror_rate</th>\n",
       "      <th>dst_host_srv_rerror_rate</th>\n",
       "      <th>output</th>\n",
       "      <th>protocol_type_icmp</th>\n",
       "      <th>protocol_type_tcp</th>\n",
       "      <th>protocol_type_udp</th>\n",
       "    </tr>\n",
       "  </thead>\n",
       "  <tbody>\n",
       "    <tr>\n",
       "      <th>0</th>\n",
       "      <td>0.0</td>\n",
       "      <td>22</td>\n",
       "      <td>9</td>\n",
       "      <td>2.610418e-07</td>\n",
       "      <td>0.001057</td>\n",
       "      <td>0.0</td>\n",
       "      <td>0.0</td>\n",
       "      <td>0.0</td>\n",
       "      <td>0.0</td>\n",
       "      <td>0.0</td>\n",
       "      <td>...</td>\n",
       "      <td>0.11</td>\n",
       "      <td>0.0</td>\n",
       "      <td>0.0</td>\n",
       "      <td>0.0</td>\n",
       "      <td>0.0</td>\n",
       "      <td>0.0</td>\n",
       "      <td>11</td>\n",
       "      <td>0</td>\n",
       "      <td>1</td>\n",
       "      <td>0</td>\n",
       "    </tr>\n",
       "    <tr>\n",
       "      <th>1</th>\n",
       "      <td>0.0</td>\n",
       "      <td>22</td>\n",
       "      <td>9</td>\n",
       "      <td>3.446905e-07</td>\n",
       "      <td>0.000094</td>\n",
       "      <td>0.0</td>\n",
       "      <td>0.0</td>\n",
       "      <td>0.0</td>\n",
       "      <td>0.0</td>\n",
       "      <td>0.0</td>\n",
       "      <td>...</td>\n",
       "      <td>0.05</td>\n",
       "      <td>0.0</td>\n",
       "      <td>0.0</td>\n",
       "      <td>0.0</td>\n",
       "      <td>0.0</td>\n",
       "      <td>0.0</td>\n",
       "      <td>11</td>\n",
       "      <td>0</td>\n",
       "      <td>1</td>\n",
       "      <td>0</td>\n",
       "    </tr>\n",
       "    <tr>\n",
       "      <th>2</th>\n",
       "      <td>0.0</td>\n",
       "      <td>22</td>\n",
       "      <td>9</td>\n",
       "      <td>3.389216e-07</td>\n",
       "      <td>0.000259</td>\n",
       "      <td>0.0</td>\n",
       "      <td>0.0</td>\n",
       "      <td>0.0</td>\n",
       "      <td>0.0</td>\n",
       "      <td>0.0</td>\n",
       "      <td>...</td>\n",
       "      <td>0.03</td>\n",
       "      <td>0.0</td>\n",
       "      <td>0.0</td>\n",
       "      <td>0.0</td>\n",
       "      <td>0.0</td>\n",
       "      <td>0.0</td>\n",
       "      <td>11</td>\n",
       "      <td>0</td>\n",
       "      <td>1</td>\n",
       "      <td>0</td>\n",
       "    </tr>\n",
       "    <tr>\n",
       "      <th>3</th>\n",
       "      <td>0.0</td>\n",
       "      <td>22</td>\n",
       "      <td>9</td>\n",
       "      <td>3.158461e-07</td>\n",
       "      <td>0.000259</td>\n",
       "      <td>0.0</td>\n",
       "      <td>0.0</td>\n",
       "      <td>0.0</td>\n",
       "      <td>0.0</td>\n",
       "      <td>0.0</td>\n",
       "      <td>...</td>\n",
       "      <td>0.03</td>\n",
       "      <td>0.0</td>\n",
       "      <td>0.0</td>\n",
       "      <td>0.0</td>\n",
       "      <td>0.0</td>\n",
       "      <td>0.0</td>\n",
       "      <td>11</td>\n",
       "      <td>0</td>\n",
       "      <td>1</td>\n",
       "      <td>0</td>\n",
       "    </tr>\n",
       "    <tr>\n",
       "      <th>4</th>\n",
       "      <td>0.0</td>\n",
       "      <td>22</td>\n",
       "      <td>9</td>\n",
       "      <td>3.129617e-07</td>\n",
       "      <td>0.000394</td>\n",
       "      <td>0.0</td>\n",
       "      <td>0.0</td>\n",
       "      <td>0.0</td>\n",
       "      <td>0.0</td>\n",
       "      <td>0.0</td>\n",
       "      <td>...</td>\n",
       "      <td>0.02</td>\n",
       "      <td>0.0</td>\n",
       "      <td>0.0</td>\n",
       "      <td>0.0</td>\n",
       "      <td>0.0</td>\n",
       "      <td>0.0</td>\n",
       "      <td>11</td>\n",
       "      <td>0</td>\n",
       "      <td>1</td>\n",
       "      <td>0</td>\n",
       "    </tr>\n",
       "  </tbody>\n",
       "</table>\n",
       "<p>5 rows × 44 columns</p>\n",
       "</div>"
      ],
      "text/plain": [
       "   duration  service  flag     src_bytes  dst_bytes  land  wrong_fragment  \\\n",
       "0       0.0       22     9  2.610418e-07   0.001057   0.0             0.0   \n",
       "1       0.0       22     9  3.446905e-07   0.000094   0.0             0.0   \n",
       "2       0.0       22     9  3.389216e-07   0.000259   0.0             0.0   \n",
       "3       0.0       22     9  3.158461e-07   0.000259   0.0             0.0   \n",
       "4       0.0       22     9  3.129617e-07   0.000394   0.0             0.0   \n",
       "\n",
       "   urgent  hot  num_failed_logins  ...  dst_host_same_src_port_rate  \\\n",
       "0     0.0  0.0                0.0  ...                         0.11   \n",
       "1     0.0  0.0                0.0  ...                         0.05   \n",
       "2     0.0  0.0                0.0  ...                         0.03   \n",
       "3     0.0  0.0                0.0  ...                         0.03   \n",
       "4     0.0  0.0                0.0  ...                         0.02   \n",
       "\n",
       "   dst_host_srv_diff_host_rate  dst_host_serror_rate  \\\n",
       "0                          0.0                   0.0   \n",
       "1                          0.0                   0.0   \n",
       "2                          0.0                   0.0   \n",
       "3                          0.0                   0.0   \n",
       "4                          0.0                   0.0   \n",
       "\n",
       "   dst_host_srv_serror_rate  dst_host_rerror_rate  dst_host_srv_rerror_rate  \\\n",
       "0                       0.0                   0.0                       0.0   \n",
       "1                       0.0                   0.0                       0.0   \n",
       "2                       0.0                   0.0                       0.0   \n",
       "3                       0.0                   0.0                       0.0   \n",
       "4                       0.0                   0.0                       0.0   \n",
       "\n",
       "   output  protocol_type_icmp  protocol_type_tcp  protocol_type_udp  \n",
       "0      11                   0                  1                  0  \n",
       "1      11                   0                  1                  0  \n",
       "2      11                   0                  1                  0  \n",
       "3      11                   0                  1                  0  \n",
       "4      11                   0                  1                  0  \n",
       "\n",
       "[5 rows x 44 columns]"
      ]
     },
     "execution_count": 143,
     "metadata": {
      "tags": []
     },
     "output_type": "execute_result"
    }
   ],
   "source": [
    "temp.head()"
   ]
  },
  {
   "cell_type": "code",
   "execution_count": null,
   "metadata": {
    "id": "zE7aMp3H5CeH"
   },
   "outputs": [],
   "source": []
  },
  {
   "cell_type": "code",
   "execution_count": null,
   "metadata": {
    "id": "qoX6nu0a5CeH"
   },
   "outputs": [],
   "source": []
  },
  {
   "cell_type": "code",
   "execution_count": null,
   "metadata": {
    "id": "Q6LHKdk65CeH"
   },
   "outputs": [],
   "source": []
  },
  {
   "cell_type": "code",
   "execution_count": null,
   "metadata": {
    "id": "9BkF3N1C5CeH"
   },
   "outputs": [],
   "source": []
  },
  {
   "cell_type": "code",
   "execution_count": 20,
   "metadata": {
    "id": "QOOnnSmo5CeI"
   },
   "outputs": [],
   "source": [
    "X=temp.drop(['output','service'],axis=1)\n",
    "y=temp['output']\n",
    "X_train,X_test,y_train,y_test=train_test_split(X,y)"
   ]
  },
  {
   "cell_type": "code",
   "execution_count": 53,
   "metadata": {
    "id": "zn8DU1hD9sdb"
   },
   "outputs": [],
   "source": [
    "# Ensemble Metaheuristic Classifier"
   ]
  },
  {
   "cell_type": "code",
   "execution_count": 55,
   "metadata": {
    "colab": {
     "base_uri": "https://localhost:8080/"
    },
    "id": "tcg7Bene9zLk",
    "outputId": "46a0a5d6-fe7e-4393-b995-69bcec915a57"
   },
   "outputs": [
    {
     "name": "stdout",
     "output_type": "stream",
     "text": [
      "Collecting mealpy\n",
      "\u001b[?25l  Downloading https://files.pythonhosted.org/packages/bd/ac/964facdbb4c31418c356ed96e4e5acaf89b39d8869b1028e647bc898edd8/mealpy-1.1.0-py3-none-any.whl (275kB)\n",
      "\r",
      "\u001b[K     |█▏                              | 10kB 21.5MB/s eta 0:00:01\r",
      "\u001b[K     |██▍                             | 20kB 28.0MB/s eta 0:00:01\r",
      "\u001b[K     |███▋                            | 30kB 27.4MB/s eta 0:00:01\r",
      "\u001b[K     |████▊                           | 40kB 29.8MB/s eta 0:00:01\r",
      "\u001b[K     |██████                          | 51kB 26.5MB/s eta 0:00:01\r",
      "\u001b[K     |███████▏                        | 61kB 27.6MB/s eta 0:00:01\r",
      "\u001b[K     |████████▍                       | 71kB 19.3MB/s eta 0:00:01\r",
      "\u001b[K     |█████████▌                      | 81kB 20.5MB/s eta 0:00:01\r",
      "\u001b[K     |██████████▊                     | 92kB 19.3MB/s eta 0:00:01\r",
      "\u001b[K     |████████████                    | 102kB 19.4MB/s eta 0:00:01\r",
      "\u001b[K     |█████████████                   | 112kB 19.4MB/s eta 0:00:01\r",
      "\u001b[K     |██████████████▎                 | 122kB 19.4MB/s eta 0:00:01\r",
      "\u001b[K     |███████████████▌                | 133kB 19.4MB/s eta 0:00:01\r",
      "\u001b[K     |████████████████▊               | 143kB 19.4MB/s eta 0:00:01\r",
      "\u001b[K     |█████████████████▉              | 153kB 19.4MB/s eta 0:00:01\r",
      "\u001b[K     |███████████████████             | 163kB 19.4MB/s eta 0:00:01\r",
      "\u001b[K     |████████████████████▎           | 174kB 19.4MB/s eta 0:00:01\r",
      "\u001b[K     |█████████████████████▌          | 184kB 19.4MB/s eta 0:00:01\r",
      "\u001b[K     |██████████████████████▋         | 194kB 19.4MB/s eta 0:00:01\r",
      "\u001b[K     |███████████████████████▉        | 204kB 19.4MB/s eta 0:00:01\r",
      "\u001b[K     |█████████████████████████       | 215kB 19.4MB/s eta 0:00:01\r",
      "\u001b[K     |██████████████████████████▏     | 225kB 19.4MB/s eta 0:00:01\r",
      "\u001b[K     |███████████████████████████▍    | 235kB 19.4MB/s eta 0:00:01\r",
      "\u001b[K     |████████████████████████████▋   | 245kB 19.4MB/s eta 0:00:01\r",
      "\u001b[K     |█████████████████████████████▉  | 256kB 19.4MB/s eta 0:00:01\r",
      "\u001b[K     |███████████████████████████████ | 266kB 19.4MB/s eta 0:00:01\r",
      "\u001b[K     |████████████████████████████████| 276kB 19.4MB/s \n",
      "\u001b[?25hRequirement already satisfied: scipy in /usr/local/lib/python3.7/dist-packages (from mealpy) (1.4.1)\n",
      "Requirement already satisfied: matplotlib in /usr/local/lib/python3.7/dist-packages (from mealpy) (3.2.2)\n",
      "Requirement already satisfied: numpy in /usr/local/lib/python3.7/dist-packages (from mealpy) (1.19.5)\n",
      "Collecting opfunu\n",
      "\u001b[?25l  Downloading https://files.pythonhosted.org/packages/17/f9/d8419aea57fda6952478936d180ecc98e5f85e03ed14acac975caf360af0/opfunu-0.8.0-py3-none-any.whl (7.4MB)\n",
      "\u001b[K     |████████████████████████████████| 7.5MB 28.7MB/s \n",
      "\u001b[?25hRequirement already satisfied: python-dateutil>=2.1 in /usr/local/lib/python3.7/dist-packages (from matplotlib->mealpy) (2.8.1)\n",
      "Requirement already satisfied: pyparsing!=2.0.4,!=2.1.2,!=2.1.6,>=2.0.1 in /usr/local/lib/python3.7/dist-packages (from matplotlib->mealpy) (2.4.7)\n",
      "Requirement already satisfied: kiwisolver>=1.0.1 in /usr/local/lib/python3.7/dist-packages (from matplotlib->mealpy) (1.3.1)\n",
      "Requirement already satisfied: cycler>=0.10 in /usr/local/lib/python3.7/dist-packages (from matplotlib->mealpy) (0.10.0)\n",
      "Requirement already satisfied: six>=1.5 in /usr/local/lib/python3.7/dist-packages (from python-dateutil>=2.1->matplotlib->mealpy) (1.15.0)\n",
      "Installing collected packages: opfunu, mealpy\n",
      "Successfully installed mealpy-1.1.0 opfunu-0.8.0\n"
     ]
    }
   ],
   "source": [
    "!pip install mealpy"
   ]
  },
  {
   "cell_type": "code",
   "execution_count": 56,
   "metadata": {
    "id": "KpX_rokY9zJY"
   },
   "outputs": [],
   "source": [
    "from mealpy.swarm_based.SFO import ImprovedSFO"
   ]
  },
  {
   "cell_type": "code",
   "execution_count": 57,
   "metadata": {
    "colab": {
     "base_uri": "https://localhost:8080/"
    },
    "id": "h50aLxZg9zGV",
    "outputId": "1a5ad775-e8a8-40bc-dd4f-7d991b795706"
   },
   "outputs": [
    {
     "name": "stderr",
     "output_type": "stream",
     "text": [
      "/usr/local/lib/python3.7/dist-packages/sklearn/externals/six.py:31: FutureWarning: The module is deprecated in version 0.21 and will be removed in version 0.23 since we've dropped support for Python 2.7. Please rely on the official version of six (https://pypi.org/project/six/).\n",
      "  \"(https://pypi.org/project/six/).\", FutureWarning)\n"
     ]
    }
   ],
   "source": [
    "from mealpy.swarm_based.SFO import ImprovedSFO\n",
    "from sklearn.preprocessing import LabelBinarizer\n",
    "from sklearn.model_selection import train_test_split\n",
    "from sklearn.preprocessing import StandardScaler\n",
    "from sklearn.neighbors import KNeighborsClassifier\n",
    "from sklearn.metrics import confusion_matrix\n",
    "from sklearn.metrics import make_scorer\n",
    "from sklearn.svm import SVC\n",
    "from sklearn.ensemble import VotingClassifier\n",
    "from mlxtend.classifier import EnsembleVoteClassifier\n",
    "from sklearn.metrics import roc_curve\n",
    "from sklearn.metrics import make_scorer\n",
    "from sklearn.ensemble import RandomForestClassifier\n",
    "from sklearn.naive_bayes import GaussianNB\n",
    "from sklearn.svm import LinearSVC,NuSVC"
   ]
  },
  {
   "cell_type": "code",
   "execution_count": 61,
   "metadata": {
    "id": "Y6hdR8r49zCO"
   },
   "outputs": [],
   "source": [
    "models=[]\n",
    "cls1 = KNeighborsClassifier(n_neighbors = 1, metric = 'minkowski', p = 2)\n",
    "models.append(cls1)\n",
    "# score = model_selection.cross_val_score(cls1, real_x, real_y, cv = 5, scoring = 'accuracy')\n",
    "# acc.append(score.mean()) \n",
    "# score = model_selection.cross_val_score(cls1, real_x, real_y, cv = 5, scoring = 'precision')\n",
    "# pre.append(score.mean())\n",
    "# score = model_selection.cross_val_score(cls1, real_x, real_y, cv = 5, scoring = 'recall')\n",
    "# recall.append(score.mean())\n",
    "# score = model_selection.cross_val_score(cls1, real_x, real_y, cv = 5, scoring = 'f1')\n",
    "# f_m.append(score.mean())\n",
    "# score = model_selection.cross_val_score(cls1, real_x, real_y, cv = 5, scoring = scorer)\n",
    "# speci.append(score.mean())\n",
    "\n",
    "\n",
    "cls2 = KNeighborsClassifier(n_neighbors = 3, metric = 'minkowski', p = 2)\n",
    "models.append(cls2)\n",
    "# score = model_selection.cross_val_score(cls2, real_x, real_y, cv = 5, scoring = 'accuracy')\n",
    "# acc.append(score.mean())\n",
    "# score = model_selection.cross_val_score(cls2, real_x, real_y, cv = 5, scoring = 'precision')\n",
    "# pre.append(score.mean())\n",
    "# score = model_selection.cross_val_score(cls2, real_x, real_y, cv = 5, scoring = 'recall')\n",
    "# recall.append(score.mean())\n",
    "# score = model_selection.cross_val_score(cls2, real_x, real_y, cv = 5, scoring = 'f1')\n",
    "# f_m.append(score.mean())\n",
    "# score = model_selection.cross_val_score(cls2, real_x, real_y, cv = 5, scoring = scorer)\n",
    "# speci.append(score.mean())\n",
    "\n",
    "cls3 = KNeighborsClassifier(n_neighbors = 5, metric = 'minkowski', p = 2)\n",
    "models.append(cls3)\n",
    "# score = model_selection.cross_val_score(cls3, real_x, real_y, cv = 5, scoring = 'accuracy')\n",
    "# acc.append(score.mean())\n",
    "# score = model_selection.cross_val_score(cls3, real_x, real_y, cv = 5, scoring = 'precision')\n",
    "# pre.append(score.mean())\n",
    "# score = model_selection.cross_val_score(cls3, real_x, real_y, cv = 5, scoring = 'recall')\n",
    "# recall.append(score.mean())\n",
    "# score = model_selection.cross_val_score(cls3, real_x, real_y, cv = 5, scoring = 'f1')\n",
    "# f_m.append(score.mean())\n",
    "# score = model_selection.cross_val_score(cls3, real_x, real_y, cv = 5, scoring = scorer)\n",
    "# speci.append(score.mean())\n",
    "\n",
    "cls4 = KNeighborsClassifier(n_neighbors = 7, metric = 'minkowski', p = 2)\n",
    "models.append(cls4)\n",
    "# score = model_selection.cross_val_score(cls4, real_x, real_y, cv = 5, scoring = 'accuracy')\n",
    "# acc.append(score.mean())\n",
    "# score = model_selection.cross_val_score(cls4, real_x, real_y, cv = 5, scoring = 'precision')\n",
    "# pre.append(score.mean())\n",
    "# score = model_selection.cross_val_score(cls4, real_x, real_y, cv = 5, scoring = 'recall')\n",
    "# recall.append(score.mean())\n",
    "# score = model_selection.cross_val_score(cls4, real_x, real_y, cv = 5, scoring = 'f1')\n",
    "# f_m.append(score.mean())\n",
    "# score = model_selection.cross_val_score(cls4, real_x, real_y, cv = 5, scoring = scorer)\n",
    "# speci.append(score.mean())\n",
    "\n",
    "cls5 = KNeighborsClassifier(n_neighbors = 9, metric = 'minkowski', p = 2)\n",
    "models.append(cls5)\n",
    "# score = model_selection.cross_val_score(cls5, real_x, real_y, cv = 5, scoring = 'accuracy')\n",
    "# acc.append(score.mean())\n",
    "# score = model_selection.cross_val_score(cls5, real_x, real_y, cv = 5, scoring = 'precision')\n",
    "# pre.append(score.mean())\n",
    "# score = model_selection.cross_val_score(cls5, real_x, real_y, cv = 5, scoring = 'recall')\n",
    "# recall.append(score.mean())\n",
    "# score = model_selection.cross_val_score(cls5, real_x, real_y, cv = 5, scoring = 'f1')\n",
    "# f_m.append(score.mean())\n",
    "# score = model_selection.cross_val_score(cls5, real_x, real_y, cv = 5, scoring = scorer)\n",
    "# speci.append(score.mean())\n",
    "\n",
    "cls6 = KNeighborsClassifier(n_neighbors = 11, metric = 'minkowski', p = 2)\n",
    "models.append(cls6)\n",
    "# score = model_selection.cross_val_score(cls6, real_x, real_y, cv = 5, scoring = 'accuracy')\n",
    "# acc.append(score.mean())\n",
    "# score = model_selection.cross_val_score(cls6, real_x, real_y, cv = 5, scoring = 'precision')\n",
    "# pre.append(score.mean())\n",
    "# score = model_selection.cross_val_score(cls6, real_x, real_y, cv = 5, scoring = 'recall')\n",
    "# recall.append(score.mean())\n",
    "# score = model_selection.cross_val_score(cls6, real_x, real_y, cv = 5, scoring = 'f1')\n",
    "# f_m.append(score.mean())\n",
    "# score = model_selection.cross_val_score(cls6, real_x, real_y, cv = 5, scoring = scorer)\n",
    "# speci.append(score.mean())\n",
    "\n",
    "model1 = SVC(kernel = \"rbf\", random_state = 0, gamma = 0.1, probability = True)\n",
    "models.append(model1)\n",
    "# score = model_selection.cross_val_score(model1, real_x, real_y, cv = 5, scoring = 'accuracy')\n",
    "# acc.append(score.mean())\n",
    "# score = model_selection.cross_val_score(model1, real_x, real_y, cv = 5, scoring = 'precision')\n",
    "# pre.append(score.mean())\n",
    "# score = model_selection.cross_val_score(model1, real_x, real_y, cv = 5, scoring = 'recall')\n",
    "# recall.append(score.mean())\n",
    "# score = model_selection.cross_val_score(model1, real_x, real_y, cv = 5, scoring = 'f1')\n",
    "# f_m.append(score.mean())\n",
    "# score = model_selection.cross_val_score(model1, real_x, real_y, cv = 5, scoring = scorer)\n",
    "# speci.append(score.mean())\n",
    "\n",
    "model2 = SVC(kernel = \"rbf\", random_state = 0, gamma = 0.2, probability = True)\n",
    "models.append(model2)\n",
    "# score = model_selection.cross_val_score(model2, real_x, real_y, cv = 5, scoring = 'accuracy')\n",
    "# acc.append(score.mean())\n",
    "# score = model_selection.cross_val_score(model2, real_x, real_y, cv = 5, scoring = 'precision')\n",
    "# pre.append(score.mean())\n",
    "# score = model_selection.cross_val_score(model2, real_x, real_y, cv = 5, scoring = 'recall')\n",
    "# recall.append(score.mean())\n",
    "# score = model_selection.cross_val_score(model2, real_x, real_y, cv = 5, scoring = 'f1')\n",
    "# f_m.append(score.mean())\n",
    "# score = model_selection.cross_val_score(model2, real_x, real_y, cv = 5, scoring = scorer)\n",
    "# speci.append(score.mean())\n",
    "\n",
    "model3 = SVC(kernel = \"rbf\", random_state = 0, gamma = 0.5, probability = True)\n",
    "models.append(model3)\n",
    "# score = model_selection.cross_val_score(model3, real_x, real_y, cv = 5, scoring = 'accuracy')\n",
    "# acc.append(score.mean())\n",
    "# score = model_selection.cross_val_score(model3, real_x, real_y, cv = 5, scoring = 'precision')\n",
    "# pre.append(score.mean())\n",
    "# score = model_selection.cross_val_score(model3, real_x, real_y, cv = 5, scoring = 'recall')\n",
    "# recall.append(score.mean())\n",
    "# score = model_selection.cross_val_score(model3, real_x, real_y, cv = 5, scoring = 'f1')\n",
    "# f_m.append(score.mean())\n",
    "# score = model_selection.cross_val_score(model3, real_x, real_y, cv = 5, scoring = scorer)\n",
    "# speci.append(score.mean())\n",
    "\n",
    "model4 = SVC(kernel = \"rbf\", random_state = 0, gamma = 1, probability = True)\n",
    "models.append(model4)\n",
    "# score = model_selection.cross_val_score(model4, real_x, real_y, cv = 5, scoring = 'accuracy')\n",
    "# acc.append(score.mean())\n",
    "# score = model_selection.cross_val_score(model4, real_x, real_y, cv = 5, scoring = 'precision')\n",
    "# pre.append(score.mean())\n",
    "# score = model_selection.cross_val_score(model4, real_x, real_y, cv = 5, scoring = 'recall')\n",
    "# recall.append(score.mean())\n",
    "# score = model_selection.cross_val_score(model4, real_x, real_y, cv = 5, scoring = 'f1')\n",
    "# f_m.append(score.mean())\n",
    "# score = model_selection.cross_val_score(model4, real_x, real_y, cv = 5, scoring = scorer)\n",
    "# speci.append(score.mean())\n",
    "\n",
    "model5 = SVC(kernel = \"rbf\", random_state = 0, gamma = 2, probability = True)\n",
    "models.append(model5)\n",
    "# score = model_selection.cross_val_score(model5, real_x, real_y, cv = 5, scoring = 'accuracy')\n",
    "# acc.append(score.mean())\n",
    "# score = model_selection.cross_val_score(model5, real_x, real_y, cv = 5, scoring = 'precision')\n",
    "# pre.append(score.mean())\n",
    "# score = model_selection.cross_val_score(model5, real_x, real_y, cv = 5, scoring = 'recall')\n",
    "# recall.append(score.mean())\n",
    "# score = model_selection.cross_val_score(model5, real_x, real_y, cv = 5, scoring = 'f1')\n",
    "# f_m.append(score.mean())\n",
    "# score = model_selection.cross_val_score(model5, real_x, real_y, cv = 5, scoring = scorer)\n",
    "# speci.append(score.mean())\n",
    "\n",
    "model6 = SVC(kernel = \"rbf\", random_state = 0, gamma = 5, probability = True)\n",
    "models.append(model6)\n",
    "# score = model_selection.cross_val_score(model6, real_x, real_y, cv = 5, scoring = 'accuracy')\n",
    "# acc.append(score.mean())\n",
    "# score = model_selection.cross_val_score(model6, real_x, real_y, cv = 5, scoring = 'precision')\n",
    "# pre.append(score.mean())\n",
    "# score = model_selection.cross_val_score(model6, real_x, real_y, cv = 5, scoring = 'recall')\n",
    "# recall.append(score.mean())\n",
    "# score = model_selection.cross_val_score(model6, real_x, real_y, cv = 5, scoring = 'f1')\n",
    "# f_m.append(score.mean())\n",
    "# score = model_selection.cross_val_score(model6, real_x, real_y, cv = 5, scoring = scorer)\n",
    "# speci.append(score.mean())\n",
    "\n",
    "\n",
    "#score = model_selection.cross_val_score(model, real_x, real_y, cv = 5, scoring = 'accuracy')\n",
    "#acc.append(score.mean())\n",
    "#score = model_selection.cross_val_score(model, real_x, real_y, cv = 5, scoring = 'precision')\n",
    "#pre.append(score.mean())\n",
    "#score = model_selection.cross_val_score(model, real_x, real_y, cv = 5, scoring = 'recall')\n",
    "#recall.append(score.mean())\n",
    "#score = model_selection.cross_val_score(model, real_x, real_y, cv = 5, scoring = 'f1')\n",
    "#f_m.append(score.mean())\n",
    "#score = model_selection.cross_val_score(model, real_x, real_y, cv = 5, scoring = scorer)\n",
    "#speci.append(score.mean())\n",
    "\n",
    "model7 = GradientBoostingClassifier(criterion='friedman_mse', init=None, learning_rate=0.05, loss='deviance', max_depth=3, max_features=5, max_leaf_nodes=None, min_impurity_decrease=0.0, min_impurity_split=None, min_samples_leaf=1, min_samples_split=2, min_weight_fraction_leaf=0.0, n_estimators=500, n_iter_no_change=None, random_state=100, subsample=1.0, tol=0.0001, validation_fraction=0.1, verbose=0, warm_start=False)\n",
    "models.append(model7)"
   ]
  },
  {
   "cell_type": "code",
   "execution_count": 62,
   "metadata": {
    "id": "qtGrQULU9y_S"
   },
   "outputs": [],
   "source": []
  },
  {
   "cell_type": "code",
   "execution_count": null,
   "metadata": {
    "id": "MNF74cPT9y8C"
   },
   "outputs": [],
   "source": []
  },
  {
   "cell_type": "code",
   "execution_count": null,
   "metadata": {
    "id": "i02fVjZS9yzo"
   },
   "outputs": [],
   "source": []
  },
  {
   "cell_type": "code",
   "execution_count": null,
   "metadata": {
    "id": "rjbRHo239ymx"
   },
   "outputs": [],
   "source": []
  },
  {
   "cell_type": "code",
   "execution_count": null,
   "metadata": {
    "id": "n4QNOqEM9xdW"
   },
   "outputs": [],
   "source": []
  },
  {
   "cell_type": "code",
   "execution_count": null,
   "metadata": {
    "id": "K6zuV9h75CeI"
   },
   "outputs": [],
   "source": [
    "from sklearn.ensemble import RandomForestClassifier"
   ]
  },
  {
   "cell_type": "code",
   "execution_count": null,
   "metadata": {
    "id": "5KX3bRRs5CeI"
   },
   "outputs": [],
   "source": [
    "tree_model=RandomForestClassifier()"
   ]
  },
  {
   "cell_type": "code",
   "execution_count": null,
   "metadata": {
    "id": "hTTCvrvd5CeI",
    "outputId": "8cde5258-c19a-42aa-8c1e-1fd257da1d3f"
   },
   "outputs": [
    {
     "name": "stderr",
     "output_type": "stream",
     "text": [
      "c:\\users\\mihee\\appdata\\local\\programs\\python\\python36\\lib\\site-packages\\deap\\creator.py:141: RuntimeWarning: A class named 'FeatureSelect' has already been created and it will be overwritten. Consider deleting previous creation of that class or rename it.\n",
      "  RuntimeWarning)\n",
      "c:\\users\\mihee\\appdata\\local\\programs\\python\\python36\\lib\\site-packages\\deap\\creator.py:141: RuntimeWarning: A class named 'Individual' has already been created and it will be overwritten. Consider deleting previous creation of that class or rename it.\n",
      "  RuntimeWarning)\n"
     ]
    }
   ],
   "source": [
    "from feature_selection_ga import FeatureSelectionGA, FitnessFunction\n",
    "fsga = FeatureSelectionGA(tree_model,X_train.to_numpy(),y_train.to_numpy(), ff_obj = FitnessFunction())"
   ]
  },
  {
   "cell_type": "code",
   "execution_count": null,
   "metadata": {
    "id": "W0wN5QyM5CeI"
   },
   "outputs": [],
   "source": [
    "def is_intrusion(x):\n",
    "    if x==11:\n",
    "        return 0\n",
    "    else:\n",
    "        return 1"
   ]
  },
  {
   "cell_type": "code",
   "execution_count": null,
   "metadata": {
    "id": "Hq7BMyeT5CeI"
   },
   "outputs": [],
   "source": []
  },
  {
   "cell_type": "code",
   "execution_count": null,
   "metadata": {
    "id": "Zhdu8Ln95CeJ"
   },
   "outputs": [],
   "source": [
    "a=time.time()"
   ]
  },
  {
   "cell_type": "code",
   "execution_count": null,
   "metadata": {
    "id": "WDxRdG5s5CeJ"
   },
   "outputs": [],
   "source": [
    "import time"
   ]
  },
  {
   "cell_type": "code",
   "execution_count": null,
   "metadata": {
    "id": "_-D-SxMq5CeJ",
    "outputId": "be5c5ec9-d90a-49bd-b67c-f4d95e58b3a2"
   },
   "outputs": [
    {
     "name": "stdout",
     "output_type": "stream",
     "text": [
      "EVOLVING.......\n"
     ]
    },
    {
     "name": "stderr",
     "output_type": "stream",
     "text": [
      "c:\\users\\mihee\\appdata\\local\\programs\\python\\python36\\lib\\site-packages\\sklearn\\ensemble\\forest.py:245: FutureWarning: The default value of n_estimators will change from 10 in version 0.20 to 100 in 0.22.\n",
      "  \"10 in version 0.20 to 100 in 0.22.\", FutureWarning)\n"
     ]
    },
    {
     "name": "stdout",
     "output_type": "stream",
     "text": [
      "-- GENERATION 1 --\n",
      "Evaluated 26 individuals\n",
      "-- GENERATION 2 --\n",
      "Evaluated 29 individuals\n",
      "-- GENERATION 3 --\n",
      "Evaluated 34 individuals\n",
      "-- GENERATION 4 --\n",
      "Evaluated 32 individuals\n",
      "-- GENERATION 5 --\n",
      "Evaluated 30 individuals\n",
      "-- Only the fittest survives --\n",
      "Best individual is [1, 1, 1, 1, 1, 1, 1, 1, 0, 1, 0, 0, 1, 1, 1, 0, 1, 0, 1, 1, 1, 0, 0, 0, 0, 0, 0, 1, 1, 1, 0, 0, 1, 1, 1, 1, 1, 0, 1, 1, 0, 0], (0.9996545125252705,)\n"
     ]
    }
   ],
   "source": [
    "start=time.time()\n",
    "pop=fsga.generate(50)"
   ]
  },
  {
   "cell_type": "code",
   "execution_count": null,
   "metadata": {
    "id": "PuWMaqz55CeJ"
   },
   "outputs": [],
   "source": [
    "end=time.time()\n"
   ]
  },
  {
   "cell_type": "code",
   "execution_count": null,
   "metadata": {
    "id": "-qS1jeGM5CeJ",
    "outputId": "ef148c86-36ee-4f91-bdcc-9fdceab4f07c"
   },
   "outputs": [
    {
     "name": "stdout",
     "output_type": "stream",
     "text": [
      "44.25656646887462 minutes\n"
     ]
    }
   ],
   "source": [
    "end=time.time()\n",
    "\n",
    "print((end-start)/60.0,'minutes')"
   ]
  },
  {
   "cell_type": "code",
   "execution_count": null,
   "metadata": {
    "id": "1tcarExU5CeK"
   },
   "outputs": [],
   "source": []
  },
  {
   "cell_type": "code",
   "execution_count": 64,
   "metadata": {
    "id": "CvtjVwa35CeK"
   },
   "outputs": [],
   "source": [
    "features=X_train.columns\n",
    "selected_feats=[]\n",
    "bestpop= [1, 1, 1, 1, 1, 1, 1, 1, 0, 1, 0, 0, 1, 1, 1, 0, 1, 0, 1, 1, 1, 0, 0, 0, 0, 0, 0, 1, 1, 1, 0, 0, 1, 1, 1, 1, 1, 0, 1, 1, 0, 0]\n",
    "for idx in range(len(bestpop)):\n",
    "    if bestpop[idx]==1:\n",
    "        selected_feats.append(features[idx])"
   ]
  },
  {
   "cell_type": "code",
   "execution_count": null,
   "metadata": {
    "id": "eQZ4J6Zs5CeK"
   },
   "outputs": [],
   "source": [
    "final_model=RandomForestClassifier()"
   ]
  },
  {
   "cell_type": "code",
   "execution_count": 65,
   "metadata": {
    "id": "TnI3YKVP5CeK"
   },
   "outputs": [],
   "source": [
    "X_train=X_train[selected_feats]\n",
    "X_test=X_test[selected_feats]"
   ]
  },
  {
   "cell_type": "markdown",
   "metadata": {
    "id": "FtCSRRPh5CeK"
   },
   "source": [
    "# Results on 10000 samples"
   ]
  },
  {
   "cell_type": "code",
   "execution_count": null,
   "metadata": {
    "id": "BdC8tqYx5CeK",
    "outputId": "b7d15a3f-94a9-403d-8b14-225f9f532a33"
   },
   "outputs": [
    {
     "name": "stdout",
     "output_type": "stream",
     "text": [
      "              precision    recall  f1-score   support\n",
      "\n",
      "           0       0.91      1.00      0.95        21\n",
      "           5       1.00      1.00      1.00        12\n",
      "           9       1.00      1.00      1.00      1091\n",
      "          10       1.00      1.00      1.00         3\n",
      "          11       1.00      1.00      1.00       963\n",
      "          14       1.00      1.00      1.00         3\n",
      "          15       1.00      1.00      1.00         6\n",
      "          17       1.00      0.91      0.95        11\n",
      "          18       1.00      1.00      1.00      2872\n",
      "          20       1.00      1.00      1.00         7\n",
      "          21       1.00      0.70      0.82        10\n",
      "\n",
      "    accuracy                           1.00      4999\n",
      "   macro avg       0.99      0.96      0.98      4999\n",
      "weighted avg       1.00      1.00      1.00      4999\n",
      "\n"
     ]
    },
    {
     "name": "stderr",
     "output_type": "stream",
     "text": [
      "c:\\users\\mihee\\appdata\\local\\programs\\python\\python36\\lib\\site-packages\\sklearn\\ensemble\\forest.py:245: FutureWarning: The default value of n_estimators will change from 10 in version 0.20 to 100 in 0.22.\n",
      "  \"10 in version 0.20 to 100 in 0.22.\", FutureWarning)\n"
     ]
    }
   ],
   "source": [
    "final_model.fit(X_train,y_train)\n",
    "preds=final_model.predict(X_test)\n",
    "print(classification_report(y_test,preds))"
   ]
  },
  {
   "cell_type": "code",
   "execution_count": null,
   "metadata": {
    "id": "-XtOMErY5CeL",
    "outputId": "c5d92f3f-5007-4fbe-8bb3-f7ea8f71aee6"
   },
   "outputs": [
    {
     "data": {
      "text/plain": [
       "(493988, 44)"
      ]
     },
     "execution_count": 172,
     "metadata": {
      "tags": []
     },
     "output_type": "execute_result"
    }
   ],
   "source": [
    "temp.shape"
   ]
  },
  {
   "cell_type": "code",
   "execution_count": null,
   "metadata": {
    "id": "opGUYM395CeL",
    "outputId": "9f9099e6-cfa3-438e-b463-e7257208b9a8"
   },
   "outputs": [
    {
     "data": {
      "text/plain": [
       "26"
      ]
     },
     "execution_count": 171,
     "metadata": {
      "tags": []
     },
     "output_type": "execute_result"
    }
   ],
   "source": [
    "\n",
    "len(selected_feats)"
   ]
  },
  {
   "cell_type": "markdown",
   "metadata": {
    "id": "FHLoNA9_5CeL"
   },
   "source": [
    "# Result on Full Dataset"
   ]
  },
  {
   "cell_type": "code",
   "execution_count": null,
   "metadata": {
    "id": "NpaKdd1Q5CeL",
    "outputId": "6965e16d-ff03-4f9d-a5be-6446a40c8425"
   },
   "outputs": [
    {
     "name": "stderr",
     "output_type": "stream",
     "text": [
      "c:\\users\\mihee\\appdata\\local\\programs\\python\\python36\\lib\\site-packages\\sklearn\\ensemble\\forest.py:245: FutureWarning: The default value of n_estimators will change from 10 in version 0.20 to 100 in 0.22.\n",
      "  \"10 in version 0.20 to 100 in 0.22.\", FutureWarning)\n"
     ]
    },
    {
     "name": "stdout",
     "output_type": "stream",
     "text": [
      "              precision    recall  f1-score   support\n",
      "\n",
      "           0       1.00      1.00      1.00       550\n",
      "           1       1.00      0.43      0.60         7\n",
      "           3       1.00      1.00      1.00        12\n",
      "           4       1.00      0.50      0.67         2\n",
      "           5       1.00      0.99      1.00       314\n",
      "           6       0.75      1.00      0.86         3\n",
      "           9       1.00      1.00      1.00     26855\n",
      "          10       0.93      0.96      0.95        54\n",
      "          11       1.00      1.00      1.00     24364\n",
      "          14       1.00      1.00      1.00        58\n",
      "          15       1.00      1.00      1.00       252\n",
      "          16       1.00      0.33      0.50         3\n",
      "          17       0.99      0.97      0.98       397\n",
      "          18       1.00      1.00      1.00     70126\n",
      "          20       1.00      1.00      1.00       231\n",
      "          21       0.99      0.98      0.98       260\n",
      "          22       1.00      0.67      0.80         9\n",
      "\n",
      "    accuracy                           1.00    123497\n",
      "   macro avg       0.98      0.87      0.90    123497\n",
      "weighted avg       1.00      1.00      1.00    123497\n",
      "\n"
     ]
    }
   ],
   "source": [
    "final_model.fit(X_train,y_train)\n",
    "preds=final_model.predict(X_test)\n",
    "print(classification_report(y_test,preds))"
   ]
  },
  {
   "cell_type": "code",
   "execution_count": 75,
   "metadata": {
    "id": "SXYarHJAAykM"
   },
   "outputs": [],
   "source": [
    "# Results Using Ensemble Classifier"
   ]
  },
  {
   "cell_type": "code",
   "execution_count": 78,
   "metadata": {
    "id": "InuqX_gLCRwx"
   },
   "outputs": [],
   "source": [
    "def objf(wts, models=models):\n",
    "    \n",
    "    model = VotingClassifier(estimators=[('knn1', models[0]), ('knn2', models[1]), ('knn3', models[2]), ('knn4', models[3]), \n",
    "                                         ('knn5', models[4]), ('knn6', models[5]), ('svm1', models[6]), ('svm2', models[7]), \n",
    "                                         ('svm3', models[8]), ('svm4', models[9]), ('svm5', models[10]), ('svm6', models[11]),\n",
    "                                         ('gbc1', model7)], \n",
    "                             voting='soft', weights = wts)\n",
    "    \n",
    "    model.fit(X_train, y_train)\n",
    "    final_pred = model.predict(X_test)\n",
    "#    c_m = confusion_matrix(testing_y, final_pred)\n",
    "#    fitness = (c_m[0][1] + c_m[1][0])/(c_m[0][0] + c_m[0][1] + c_m[1][0] + c_m[1][1])\n",
    "    fitness=mean_squared_error(y_test,final_pred)\n",
    "    return fitness"
   ]
  },
  {
   "cell_type": "code",
   "execution_count": 72,
   "metadata": {
    "colab": {
     "base_uri": "https://localhost:8080/"
    },
    "id": "SXaXULhmCdhP",
    "outputId": "c8a57f2a-5db1-45dc-a4ee-886277873b78"
   },
   "outputs": [
    {
     "data": {
      "text/plain": [
       "13"
      ]
     },
     "execution_count": 72,
     "metadata": {
      "tags": []
     },
     "output_type": "execute_result"
    }
   ],
   "source": [
    "\n",
    "len(models)"
   ]
  },
  {
   "cell_type": "code",
   "execution_count": null,
   "metadata": {
    "id": "FGAvZRTMAyay"
   },
   "outputs": [],
   "source": [
    "from mealpy.swarm_based.SFO import ImprovedSFO\n",
    "\n",
    "## Setting parameters\n",
    "lb = [-1000 for i in range(13)] \n",
    "ub = [1000 for i in range(13)]\n",
    "#lb and ub are used in the Root class of the optimizers. They are the bounds for \n",
    "problem_size = 12\n",
    "#lb and ub are used in the Root class of the optimizers. They are the bounds for \n",
    "batch_size = 25\n",
    "verbose = True\n",
    "epoch = 12\n",
    "pop_size = 50\n",
    "\n",
    "md1 = ImprovedSFO(objf, lb, ub, verbose, epoch, pop_size)\n",
    "best_pos1,best_fit1,list_loss1=md1.train()\n",
    "#best_pos1, best_fit1, list_loss1 = md1.train()\n",
    "#print(md1.solution[0])\n",
    "#print(md1.solution[1])\n",
    "#print(md1.loss_train)"
   ]
  },
  {
   "cell_type": "code",
   "execution_count": null,
   "metadata": {
    "id": "DybEYyjwAxlx"
   },
   "outputs": [],
   "source": [
    "wts=md1.solution[0]\n",
    "model = VotingClassifier(estimators=[('knn1', cls1), ('knn2', cls2), ('knn3', cls3), ('knn4', cls4), ('knn5', cls5), \n",
    "                                     ('knn6', cls6), ('svm1', model1), ('svm2', model2), ('svm3', model3), ('svm4', model4), \n",
    "                                     ('svm5', model5), ('svm6', model6), ('gbc1', model7)], voting='soft', weights = wts)\n",
    "model.fit(X_train, y_train)\n",
    "final_pred = model.predict(X_test)"
   ]
  },
  {
   "cell_type": "code",
   "execution_count": null,
   "metadata": {
    "id": "h9ru6HxBDM71"
   },
   "outputs": [],
   "source": [
    "from sklearn.metrics import classification_report\n",
    "print(classification_report(y_test,final_pred))"
   ]
  },
  {
   "cell_type": "markdown",
   "metadata": {
    "id": "jNwPrZal5CeL"
   },
   "source": [
    "# Feature Reduction: Second Run"
   ]
  },
  {
   "cell_type": "code",
   "execution_count": null,
   "metadata": {
    "id": "TP95CJL05CeM"
   },
   "outputs": [],
   "source": [
    "classifier2=RandomForestClassifier()"
   ]
  },
  {
   "cell_type": "code",
   "execution_count": null,
   "metadata": {
    "id": "2z7vv1UT5CeM"
   },
   "outputs": [],
   "source": [
    "X_train=X_train[selected_feats]\n",
    "X_test=X_test[selected_feats]"
   ]
  },
  {
   "cell_type": "code",
   "execution_count": null,
   "metadata": {
    "id": "kboH-Pfp5CeM",
    "outputId": "b4179cc0-a966-473b-b729-f1eae62efb82"
   },
   "outputs": [
    {
     "data": {
      "text/html": [
       "<div>\n",
       "<style scoped>\n",
       "    .dataframe tbody tr th:only-of-type {\n",
       "        vertical-align: middle;\n",
       "    }\n",
       "\n",
       "    .dataframe tbody tr th {\n",
       "        vertical-align: top;\n",
       "    }\n",
       "\n",
       "    .dataframe thead th {\n",
       "        text-align: right;\n",
       "    }\n",
       "</style>\n",
       "<table border=\"1\" class=\"dataframe\">\n",
       "  <thead>\n",
       "    <tr style=\"text-align: right;\">\n",
       "      <th></th>\n",
       "      <th>duration</th>\n",
       "      <th>flag</th>\n",
       "      <th>src_bytes</th>\n",
       "      <th>dst_bytes</th>\n",
       "      <th>land</th>\n",
       "      <th>wrong_fragment</th>\n",
       "      <th>urgent</th>\n",
       "      <th>hot</th>\n",
       "      <th>logged_in</th>\n",
       "      <th>su_attempted</th>\n",
       "      <th>...</th>\n",
       "      <th>diff_srv_rate</th>\n",
       "      <th>srv_diff_host_rate</th>\n",
       "      <th>dst_host_count</th>\n",
       "      <th>dst_host_diff_srv_rate</th>\n",
       "      <th>dst_host_same_src_port_rate</th>\n",
       "      <th>dst_host_srv_diff_host_rate</th>\n",
       "      <th>dst_host_serror_rate</th>\n",
       "      <th>dst_host_srv_serror_rate</th>\n",
       "      <th>dst_host_srv_rerror_rate</th>\n",
       "      <th>protocol_type_icmp</th>\n",
       "    </tr>\n",
       "  </thead>\n",
       "  <tbody>\n",
       "    <tr>\n",
       "      <th>46359</th>\n",
       "      <td>0.0</td>\n",
       "      <td>9</td>\n",
       "      <td>0.000001</td>\n",
       "      <td>0.0</td>\n",
       "      <td>0.0</td>\n",
       "      <td>0.0</td>\n",
       "      <td>0.0</td>\n",
       "      <td>0.0</td>\n",
       "      <td>0.0</td>\n",
       "      <td>0.0</td>\n",
       "      <td>...</td>\n",
       "      <td>0.00</td>\n",
       "      <td>0.0</td>\n",
       "      <td>1.0</td>\n",
       "      <td>0.00</td>\n",
       "      <td>1.0</td>\n",
       "      <td>0.0</td>\n",
       "      <td>0.0</td>\n",
       "      <td>0.0</td>\n",
       "      <td>0.0</td>\n",
       "      <td>1</td>\n",
       "    </tr>\n",
       "    <tr>\n",
       "      <th>490636</th>\n",
       "      <td>0.0</td>\n",
       "      <td>9</td>\n",
       "      <td>0.000001</td>\n",
       "      <td>0.0</td>\n",
       "      <td>0.0</td>\n",
       "      <td>0.0</td>\n",
       "      <td>0.0</td>\n",
       "      <td>0.0</td>\n",
       "      <td>0.0</td>\n",
       "      <td>0.0</td>\n",
       "      <td>...</td>\n",
       "      <td>0.00</td>\n",
       "      <td>0.0</td>\n",
       "      <td>1.0</td>\n",
       "      <td>0.00</td>\n",
       "      <td>1.0</td>\n",
       "      <td>0.0</td>\n",
       "      <td>0.0</td>\n",
       "      <td>0.0</td>\n",
       "      <td>0.0</td>\n",
       "      <td>1</td>\n",
       "    </tr>\n",
       "    <tr>\n",
       "      <th>464634</th>\n",
       "      <td>0.0</td>\n",
       "      <td>1</td>\n",
       "      <td>0.000000</td>\n",
       "      <td>0.0</td>\n",
       "      <td>0.0</td>\n",
       "      <td>0.0</td>\n",
       "      <td>0.0</td>\n",
       "      <td>0.0</td>\n",
       "      <td>0.0</td>\n",
       "      <td>0.0</td>\n",
       "      <td>...</td>\n",
       "      <td>0.07</td>\n",
       "      <td>0.0</td>\n",
       "      <td>1.0</td>\n",
       "      <td>0.07</td>\n",
       "      <td>0.0</td>\n",
       "      <td>0.0</td>\n",
       "      <td>0.0</td>\n",
       "      <td>0.0</td>\n",
       "      <td>1.0</td>\n",
       "      <td>0</td>\n",
       "    </tr>\n",
       "    <tr>\n",
       "      <th>205657</th>\n",
       "      <td>0.0</td>\n",
       "      <td>9</td>\n",
       "      <td>0.000001</td>\n",
       "      <td>0.0</td>\n",
       "      <td>0.0</td>\n",
       "      <td>0.0</td>\n",
       "      <td>0.0</td>\n",
       "      <td>0.0</td>\n",
       "      <td>0.0</td>\n",
       "      <td>0.0</td>\n",
       "      <td>...</td>\n",
       "      <td>0.00</td>\n",
       "      <td>0.0</td>\n",
       "      <td>1.0</td>\n",
       "      <td>0.00</td>\n",
       "      <td>1.0</td>\n",
       "      <td>0.0</td>\n",
       "      <td>0.0</td>\n",
       "      <td>0.0</td>\n",
       "      <td>0.0</td>\n",
       "      <td>1</td>\n",
       "    </tr>\n",
       "    <tr>\n",
       "      <th>117745</th>\n",
       "      <td>0.0</td>\n",
       "      <td>5</td>\n",
       "      <td>0.000000</td>\n",
       "      <td>0.0</td>\n",
       "      <td>0.0</td>\n",
       "      <td>0.0</td>\n",
       "      <td>0.0</td>\n",
       "      <td>0.0</td>\n",
       "      <td>0.0</td>\n",
       "      <td>0.0</td>\n",
       "      <td>...</td>\n",
       "      <td>0.06</td>\n",
       "      <td>0.0</td>\n",
       "      <td>1.0</td>\n",
       "      <td>0.07</td>\n",
       "      <td>0.0</td>\n",
       "      <td>0.0</td>\n",
       "      <td>1.0</td>\n",
       "      <td>1.0</td>\n",
       "      <td>0.0</td>\n",
       "      <td>0</td>\n",
       "    </tr>\n",
       "  </tbody>\n",
       "</table>\n",
       "<p>5 rows × 26 columns</p>\n",
       "</div>"
      ],
      "text/plain": [
       "        duration  flag  src_bytes  dst_bytes  land  wrong_fragment  urgent  \\\n",
       "46359        0.0     9   0.000001        0.0   0.0             0.0     0.0   \n",
       "490636       0.0     9   0.000001        0.0   0.0             0.0     0.0   \n",
       "464634       0.0     1   0.000000        0.0   0.0             0.0     0.0   \n",
       "205657       0.0     9   0.000001        0.0   0.0             0.0     0.0   \n",
       "117745       0.0     5   0.000000        0.0   0.0             0.0     0.0   \n",
       "\n",
       "        hot  logged_in  su_attempted  ...  diff_srv_rate  srv_diff_host_rate  \\\n",
       "46359   0.0        0.0           0.0  ...           0.00                 0.0   \n",
       "490636  0.0        0.0           0.0  ...           0.00                 0.0   \n",
       "464634  0.0        0.0           0.0  ...           0.07                 0.0   \n",
       "205657  0.0        0.0           0.0  ...           0.00                 0.0   \n",
       "117745  0.0        0.0           0.0  ...           0.06                 0.0   \n",
       "\n",
       "        dst_host_count  dst_host_diff_srv_rate  dst_host_same_src_port_rate  \\\n",
       "46359              1.0                    0.00                          1.0   \n",
       "490636             1.0                    0.00                          1.0   \n",
       "464634             1.0                    0.07                          0.0   \n",
       "205657             1.0                    0.00                          1.0   \n",
       "117745             1.0                    0.07                          0.0   \n",
       "\n",
       "        dst_host_srv_diff_host_rate  dst_host_serror_rate  \\\n",
       "46359                           0.0                   0.0   \n",
       "490636                          0.0                   0.0   \n",
       "464634                          0.0                   0.0   \n",
       "205657                          0.0                   0.0   \n",
       "117745                          0.0                   1.0   \n",
       "\n",
       "        dst_host_srv_serror_rate  dst_host_srv_rerror_rate  protocol_type_icmp  \n",
       "46359                        0.0                       0.0                   1  \n",
       "490636                       0.0                       0.0                   1  \n",
       "464634                       0.0                       1.0                   0  \n",
       "205657                       0.0                       0.0                   1  \n",
       "117745                       1.0                       0.0                   0  \n",
       "\n",
       "[5 rows x 26 columns]"
      ]
     },
     "execution_count": 37,
     "metadata": {
      "tags": []
     },
     "output_type": "execute_result"
    }
   ],
   "source": [
    "X_train.head()"
   ]
  },
  {
   "cell_type": "code",
   "execution_count": null,
   "metadata": {
    "id": "VUspe9A75CeM"
   },
   "outputs": [],
   "source": [
    "from feature_selection_ga import FeatureSelectionGA, FitnessFunction\n",
    "fsga = FeatureSelectionGA(classifier2,X_train.to_numpy(),y_train.to_numpy(), ff_obj = FitnessFunction())"
   ]
  },
  {
   "cell_type": "code",
   "execution_count": null,
   "metadata": {
    "id": "ArRkeXvt5CeM",
    "outputId": "5c6d1368-2510-4411-d08b-4b9081df712b"
   },
   "outputs": [
    {
     "name": "stdout",
     "output_type": "stream",
     "text": [
      "EVOLVING.......\n"
     ]
    },
    {
     "name": "stderr",
     "output_type": "stream",
     "text": [
      "c:\\users\\mihee\\appdata\\local\\programs\\python\\python36\\lib\\site-packages\\sklearn\\ensemble\\forest.py:245: FutureWarning: The default value of n_estimators will change from 10 in version 0.20 to 100 in 0.22.\n",
      "  \"10 in version 0.20 to 100 in 0.22.\", FutureWarning)\n"
     ]
    },
    {
     "name": "stdout",
     "output_type": "stream",
     "text": [
      "-- GENERATION 1 --\n",
      "Evaluated 30 individuals\n",
      "-- GENERATION 2 --\n",
      "Evaluated 29 individuals\n",
      "-- GENERATION 3 --\n",
      "Evaluated 36 individuals\n",
      "-- GENERATION 4 --\n",
      "Evaluated 26 individuals\n",
      "-- GENERATION 5 --\n",
      "Evaluated 35 individuals\n",
      "-- Only the fittest survives --\n",
      "Best individual is [0, 1, 1, 1, 1, 1, 0, 0, 1, 1, 0, 1, 1, 1, 1, 1, 1, 1, 1, 1, 1, 1, 1, 0, 0, 1], (0.9995816362610698,)\n"
     ]
    }
   ],
   "source": [
    "start=time.time()\n",
    "pop=fsga.generate(50)"
   ]
  },
  {
   "cell_type": "code",
   "execution_count": null,
   "metadata": {
    "id": "4GkJbRo45CeN",
    "outputId": "3877c84d-1152-4fa4-e2fe-0bb7cb3e62f4"
   },
   "outputs": [
    {
     "name": "stdout",
     "output_type": "stream",
     "text": [
      "38.36158158779144 minutes\n"
     ]
    }
   ],
   "source": [
    "end=time.time()\n",
    "print((end-start)/60.0,'minutes')"
   ]
  },
  {
   "cell_type": "code",
   "execution_count": null,
   "metadata": {
    "id": "SEgNSwNy5CeN"
   },
   "outputs": [],
   "source": [
    "chosen_feats=[0, 1, 1, 1, 1, 1, 0, 0, 1, 1, 0, 1, 1, 1, 1, 1, 1, 1, 1, 1, 1, 1, 1, 0, 0, 1]"
   ]
  },
  {
   "cell_type": "code",
   "execution_count": null,
   "metadata": {
    "id": "Kuo5ajiL5CeN"
   },
   "outputs": [],
   "source": [
    "features=X_train.columns\n",
    "selected_feats=[]\n",
    "for idx in range(len(chosen_feats)):\n",
    "    if bestpop[idx]==1:\n",
    "        selected_feats.append(features[idx])"
   ]
  },
  {
   "cell_type": "code",
   "execution_count": null,
   "metadata": {
    "id": "JceLE8og5CeN"
   },
   "outputs": [],
   "source": []
  },
  {
   "cell_type": "markdown",
   "metadata": {
    "id": "IYDwsdck5CeN"
   },
   "source": [
    "## Second Feature Reduction Results"
   ]
  },
  {
   "cell_type": "code",
   "execution_count": null,
   "metadata": {
    "id": "XUWFccbk5CeN",
    "outputId": "c6d5d745-eabb-4eed-93b8-6f62712459bb"
   },
   "outputs": [
    {
     "name": "stderr",
     "output_type": "stream",
     "text": [
      "c:\\users\\mihee\\appdata\\local\\programs\\python\\python36\\lib\\site-packages\\sklearn\\metrics\\classification.py:1437: UndefinedMetricWarning: Precision and F-score are ill-defined and being set to 0.0 in labels with no predicted samples.\n",
      "  'precision', 'predicted', average, warn_for)\n"
     ]
    },
    {
     "name": "stdout",
     "output_type": "stream",
     "text": [
      "              precision    recall  f1-score   support\n",
      "\n",
      "           0       1.00      1.00      1.00       560\n",
      "           1       1.00      0.40      0.57         5\n",
      "           3       1.00      0.91      0.95        11\n",
      "           4       0.00      0.00      0.00         4\n",
      "           5       0.91      0.99      0.94       309\n",
      "           6       0.78      1.00      0.88         7\n",
      "           9       1.00      1.00      1.00     26962\n",
      "          10       0.96      0.53      0.69        45\n",
      "          11       1.00      1.00      1.00     24188\n",
      "          14       0.97      0.96      0.97        75\n",
      "          15       1.00      1.00      1.00       255\n",
      "          16       0.00      0.00      0.00         2\n",
      "          17       1.00      0.96      0.98       425\n",
      "          18       1.00      1.00      1.00     70149\n",
      "          20       1.00      0.99      0.99       236\n",
      "          21       0.98      0.95      0.96       259\n",
      "          22       1.00      0.60      0.75         5\n",
      "\n",
      "    accuracy                           1.00    123497\n",
      "   macro avg       0.86      0.78      0.80    123497\n",
      "weighted avg       1.00      1.00      1.00    123497\n",
      "\n"
     ]
    }
   ],
   "source": [
    "final_model_2=RandomForestClassifier()\n",
    "X_train=X_train[selected_feats]\n",
    "X_test=X_test[selected_feats]\n",
    "final_model_2.fit(X_train,y_train)\n",
    "preds=final_model_2.predict(X_test)\n",
    "print(classification_report(y_test,preds))"
   ]
  },
  {
   "cell_type": "code",
   "execution_count": null,
   "metadata": {
    "id": "oq0wR7aH5CeO"
   },
   "outputs": [],
   "source": [
    "print(classification_report(y_test,preds))"
   ]
  },
  {
   "cell_type": "code",
   "execution_count": null,
   "metadata": {
    "id": "kNScdK2G5CeO"
   },
   "outputs": [],
   "source": []
  },
  {
   "cell_type": "code",
   "execution_count": null,
   "metadata": {
    "id": "XfDrLlr35CeO"
   },
   "outputs": [],
   "source": []
  },
  {
   "cell_type": "code",
   "execution_count": null,
   "metadata": {
    "id": "T3PVhrB_5CeP"
   },
   "outputs": [],
   "source": []
  },
  {
   "cell_type": "code",
   "execution_count": null,
   "metadata": {
    "id": "wUxpPzEK5CeP"
   },
   "outputs": [],
   "source": [
    "import pickle"
   ]
  },
  {
   "cell_type": "code",
   "execution_count": null,
   "metadata": {
    "id": "91MnYYIH5CeP"
   },
   "outputs": [],
   "source": []
  },
  {
   "cell_type": "code",
   "execution_count": null,
   "metadata": {
    "id": "E-anOnbb5CeP"
   },
   "outputs": [],
   "source": []
  },
  {
   "cell_type": "code",
   "execution_count": null,
   "metadata": {
    "id": "O8B_3wBL5CeP"
   },
   "outputs": [],
   "source": [
    "filename='CN_randomforest.sav'\n",
    "pickle.dump(final_model,open(filename,'wb'))"
   ]
  },
  {
   "cell_type": "markdown",
   "metadata": {
    "id": "B3kYyDde5CeP"
   },
   "source": [
    "# Clustering"
   ]
  },
  {
   "cell_type": "code",
   "execution_count": null,
   "metadata": {
    "id": "gmff5-iK5CeP",
    "outputId": "785c173c-e66b-4989-df60-78b34aa67d9c"
   },
   "outputs": [
    {
     "data": {
      "text/html": [
       "<div>\n",
       "<style scoped>\n",
       "    .dataframe tbody tr th:only-of-type {\n",
       "        vertical-align: middle;\n",
       "    }\n",
       "\n",
       "    .dataframe tbody tr th {\n",
       "        vertical-align: top;\n",
       "    }\n",
       "\n",
       "    .dataframe thead th {\n",
       "        text-align: right;\n",
       "    }\n",
       "</style>\n",
       "<table border=\"1\" class=\"dataframe\">\n",
       "  <thead>\n",
       "    <tr style=\"text-align: right;\">\n",
       "      <th></th>\n",
       "      <th>duration</th>\n",
       "      <th>flag</th>\n",
       "      <th>src_bytes</th>\n",
       "      <th>dst_bytes</th>\n",
       "      <th>land</th>\n",
       "      <th>wrong_fragment</th>\n",
       "      <th>urgent</th>\n",
       "      <th>hot</th>\n",
       "      <th>num_failed_logins</th>\n",
       "      <th>logged_in</th>\n",
       "      <th>...</th>\n",
       "      <th>dst_host_diff_srv_rate</th>\n",
       "      <th>dst_host_same_src_port_rate</th>\n",
       "      <th>dst_host_srv_diff_host_rate</th>\n",
       "      <th>dst_host_serror_rate</th>\n",
       "      <th>dst_host_srv_serror_rate</th>\n",
       "      <th>dst_host_rerror_rate</th>\n",
       "      <th>dst_host_srv_rerror_rate</th>\n",
       "      <th>protocol_type_icmp</th>\n",
       "      <th>protocol_type_tcp</th>\n",
       "      <th>protocol_type_udp</th>\n",
       "    </tr>\n",
       "  </thead>\n",
       "  <tbody>\n",
       "    <tr>\n",
       "      <th>0</th>\n",
       "      <td>0.0</td>\n",
       "      <td>9</td>\n",
       "      <td>2.610418e-07</td>\n",
       "      <td>0.001057</td>\n",
       "      <td>0.0</td>\n",
       "      <td>0.0</td>\n",
       "      <td>0.0</td>\n",
       "      <td>0.0</td>\n",
       "      <td>0.0</td>\n",
       "      <td>1.0</td>\n",
       "      <td>...</td>\n",
       "      <td>0.0</td>\n",
       "      <td>0.11</td>\n",
       "      <td>0.0</td>\n",
       "      <td>0.0</td>\n",
       "      <td>0.0</td>\n",
       "      <td>0.0</td>\n",
       "      <td>0.0</td>\n",
       "      <td>0</td>\n",
       "      <td>1</td>\n",
       "      <td>0</td>\n",
       "    </tr>\n",
       "    <tr>\n",
       "      <th>1</th>\n",
       "      <td>0.0</td>\n",
       "      <td>9</td>\n",
       "      <td>3.446905e-07</td>\n",
       "      <td>0.000094</td>\n",
       "      <td>0.0</td>\n",
       "      <td>0.0</td>\n",
       "      <td>0.0</td>\n",
       "      <td>0.0</td>\n",
       "      <td>0.0</td>\n",
       "      <td>1.0</td>\n",
       "      <td>...</td>\n",
       "      <td>0.0</td>\n",
       "      <td>0.05</td>\n",
       "      <td>0.0</td>\n",
       "      <td>0.0</td>\n",
       "      <td>0.0</td>\n",
       "      <td>0.0</td>\n",
       "      <td>0.0</td>\n",
       "      <td>0</td>\n",
       "      <td>1</td>\n",
       "      <td>0</td>\n",
       "    </tr>\n",
       "    <tr>\n",
       "      <th>2</th>\n",
       "      <td>0.0</td>\n",
       "      <td>9</td>\n",
       "      <td>3.389216e-07</td>\n",
       "      <td>0.000259</td>\n",
       "      <td>0.0</td>\n",
       "      <td>0.0</td>\n",
       "      <td>0.0</td>\n",
       "      <td>0.0</td>\n",
       "      <td>0.0</td>\n",
       "      <td>1.0</td>\n",
       "      <td>...</td>\n",
       "      <td>0.0</td>\n",
       "      <td>0.03</td>\n",
       "      <td>0.0</td>\n",
       "      <td>0.0</td>\n",
       "      <td>0.0</td>\n",
       "      <td>0.0</td>\n",
       "      <td>0.0</td>\n",
       "      <td>0</td>\n",
       "      <td>1</td>\n",
       "      <td>0</td>\n",
       "    </tr>\n",
       "    <tr>\n",
       "      <th>3</th>\n",
       "      <td>0.0</td>\n",
       "      <td>9</td>\n",
       "      <td>3.158461e-07</td>\n",
       "      <td>0.000259</td>\n",
       "      <td>0.0</td>\n",
       "      <td>0.0</td>\n",
       "      <td>0.0</td>\n",
       "      <td>0.0</td>\n",
       "      <td>0.0</td>\n",
       "      <td>1.0</td>\n",
       "      <td>...</td>\n",
       "      <td>0.0</td>\n",
       "      <td>0.03</td>\n",
       "      <td>0.0</td>\n",
       "      <td>0.0</td>\n",
       "      <td>0.0</td>\n",
       "      <td>0.0</td>\n",
       "      <td>0.0</td>\n",
       "      <td>0</td>\n",
       "      <td>1</td>\n",
       "      <td>0</td>\n",
       "    </tr>\n",
       "    <tr>\n",
       "      <th>4</th>\n",
       "      <td>0.0</td>\n",
       "      <td>9</td>\n",
       "      <td>3.129617e-07</td>\n",
       "      <td>0.000394</td>\n",
       "      <td>0.0</td>\n",
       "      <td>0.0</td>\n",
       "      <td>0.0</td>\n",
       "      <td>0.0</td>\n",
       "      <td>0.0</td>\n",
       "      <td>1.0</td>\n",
       "      <td>...</td>\n",
       "      <td>0.0</td>\n",
       "      <td>0.02</td>\n",
       "      <td>0.0</td>\n",
       "      <td>0.0</td>\n",
       "      <td>0.0</td>\n",
       "      <td>0.0</td>\n",
       "      <td>0.0</td>\n",
       "      <td>0</td>\n",
       "      <td>1</td>\n",
       "      <td>0</td>\n",
       "    </tr>\n",
       "  </tbody>\n",
       "</table>\n",
       "<p>5 rows × 42 columns</p>\n",
       "</div>"
      ],
      "text/plain": [
       "   duration  flag     src_bytes  dst_bytes  land  wrong_fragment  urgent  hot  \\\n",
       "0       0.0     9  2.610418e-07   0.001057   0.0             0.0     0.0  0.0   \n",
       "1       0.0     9  3.446905e-07   0.000094   0.0             0.0     0.0  0.0   \n",
       "2       0.0     9  3.389216e-07   0.000259   0.0             0.0     0.0  0.0   \n",
       "3       0.0     9  3.158461e-07   0.000259   0.0             0.0     0.0  0.0   \n",
       "4       0.0     9  3.129617e-07   0.000394   0.0             0.0     0.0  0.0   \n",
       "\n",
       "   num_failed_logins  logged_in  ...  dst_host_diff_srv_rate  \\\n",
       "0                0.0        1.0  ...                     0.0   \n",
       "1                0.0        1.0  ...                     0.0   \n",
       "2                0.0        1.0  ...                     0.0   \n",
       "3                0.0        1.0  ...                     0.0   \n",
       "4                0.0        1.0  ...                     0.0   \n",
       "\n",
       "   dst_host_same_src_port_rate  dst_host_srv_diff_host_rate  \\\n",
       "0                         0.11                          0.0   \n",
       "1                         0.05                          0.0   \n",
       "2                         0.03                          0.0   \n",
       "3                         0.03                          0.0   \n",
       "4                         0.02                          0.0   \n",
       "\n",
       "   dst_host_serror_rate  dst_host_srv_serror_rate  dst_host_rerror_rate  \\\n",
       "0                   0.0                       0.0                   0.0   \n",
       "1                   0.0                       0.0                   0.0   \n",
       "2                   0.0                       0.0                   0.0   \n",
       "3                   0.0                       0.0                   0.0   \n",
       "4                   0.0                       0.0                   0.0   \n",
       "\n",
       "   dst_host_srv_rerror_rate  protocol_type_icmp  protocol_type_tcp  \\\n",
       "0                       0.0                   0                  1   \n",
       "1                       0.0                   0                  1   \n",
       "2                       0.0                   0                  1   \n",
       "3                       0.0                   0                  1   \n",
       "4                       0.0                   0                  1   \n",
       "\n",
       "   protocol_type_udp  \n",
       "0                  0  \n",
       "1                  0  \n",
       "2                  0  \n",
       "3                  0  \n",
       "4                  0  \n",
       "\n",
       "[5 rows x 42 columns]"
      ]
     },
     "execution_count": 18,
     "metadata": {
      "tags": []
     },
     "output_type": "execute_result"
    }
   ],
   "source": [
    "X.head()"
   ]
  },
  {
   "cell_type": "code",
   "execution_count": null,
   "metadata": {
    "id": "oXwXke5o5CeQ"
   },
   "outputs": [],
   "source": [
    "X_best=X[selected_feats]"
   ]
  },
  {
   "cell_type": "code",
   "execution_count": null,
   "metadata": {
    "id": "ZAkXC6TV5CeQ"
   },
   "outputs": [],
   "source": [
    "data_new=pd.concat([X_best,y],axis=1)"
   ]
  },
  {
   "cell_type": "code",
   "execution_count": null,
   "metadata": {
    "id": "rS0ZC0dh5CeQ",
    "outputId": "2da8f8e8-49cf-4fef-a8d8-ac0c78b47171"
   },
   "outputs": [
    {
     "data": {
      "text/html": [
       "<div>\n",
       "<style scoped>\n",
       "    .dataframe tbody tr th:only-of-type {\n",
       "        vertical-align: middle;\n",
       "    }\n",
       "\n",
       "    .dataframe tbody tr th {\n",
       "        vertical-align: top;\n",
       "    }\n",
       "\n",
       "    .dataframe thead th {\n",
       "        text-align: right;\n",
       "    }\n",
       "</style>\n",
       "<table border=\"1\" class=\"dataframe\">\n",
       "  <thead>\n",
       "    <tr style=\"text-align: right;\">\n",
       "      <th></th>\n",
       "      <th>duration</th>\n",
       "      <th>flag</th>\n",
       "      <th>src_bytes</th>\n",
       "      <th>dst_bytes</th>\n",
       "      <th>land</th>\n",
       "      <th>wrong_fragment</th>\n",
       "      <th>urgent</th>\n",
       "      <th>hot</th>\n",
       "      <th>logged_in</th>\n",
       "      <th>su_attempted</th>\n",
       "      <th>...</th>\n",
       "      <th>srv_diff_host_rate</th>\n",
       "      <th>dst_host_count</th>\n",
       "      <th>dst_host_diff_srv_rate</th>\n",
       "      <th>dst_host_same_src_port_rate</th>\n",
       "      <th>dst_host_srv_diff_host_rate</th>\n",
       "      <th>dst_host_serror_rate</th>\n",
       "      <th>dst_host_srv_serror_rate</th>\n",
       "      <th>dst_host_srv_rerror_rate</th>\n",
       "      <th>protocol_type_icmp</th>\n",
       "      <th>output</th>\n",
       "    </tr>\n",
       "  </thead>\n",
       "  <tbody>\n",
       "    <tr>\n",
       "      <th>0</th>\n",
       "      <td>0.0</td>\n",
       "      <td>9</td>\n",
       "      <td>2.610418e-07</td>\n",
       "      <td>0.001057</td>\n",
       "      <td>0.0</td>\n",
       "      <td>0.0</td>\n",
       "      <td>0.0</td>\n",
       "      <td>0.0</td>\n",
       "      <td>1.0</td>\n",
       "      <td>0.0</td>\n",
       "      <td>...</td>\n",
       "      <td>0.0</td>\n",
       "      <td>0.035294</td>\n",
       "      <td>0.0</td>\n",
       "      <td>0.11</td>\n",
       "      <td>0.0</td>\n",
       "      <td>0.0</td>\n",
       "      <td>0.0</td>\n",
       "      <td>0.0</td>\n",
       "      <td>0</td>\n",
       "      <td>11</td>\n",
       "    </tr>\n",
       "    <tr>\n",
       "      <th>1</th>\n",
       "      <td>0.0</td>\n",
       "      <td>9</td>\n",
       "      <td>3.446905e-07</td>\n",
       "      <td>0.000094</td>\n",
       "      <td>0.0</td>\n",
       "      <td>0.0</td>\n",
       "      <td>0.0</td>\n",
       "      <td>0.0</td>\n",
       "      <td>1.0</td>\n",
       "      <td>0.0</td>\n",
       "      <td>...</td>\n",
       "      <td>0.0</td>\n",
       "      <td>0.074510</td>\n",
       "      <td>0.0</td>\n",
       "      <td>0.05</td>\n",
       "      <td>0.0</td>\n",
       "      <td>0.0</td>\n",
       "      <td>0.0</td>\n",
       "      <td>0.0</td>\n",
       "      <td>0</td>\n",
       "      <td>11</td>\n",
       "    </tr>\n",
       "    <tr>\n",
       "      <th>2</th>\n",
       "      <td>0.0</td>\n",
       "      <td>9</td>\n",
       "      <td>3.389216e-07</td>\n",
       "      <td>0.000259</td>\n",
       "      <td>0.0</td>\n",
       "      <td>0.0</td>\n",
       "      <td>0.0</td>\n",
       "      <td>0.0</td>\n",
       "      <td>1.0</td>\n",
       "      <td>0.0</td>\n",
       "      <td>...</td>\n",
       "      <td>0.0</td>\n",
       "      <td>0.113725</td>\n",
       "      <td>0.0</td>\n",
       "      <td>0.03</td>\n",
       "      <td>0.0</td>\n",
       "      <td>0.0</td>\n",
       "      <td>0.0</td>\n",
       "      <td>0.0</td>\n",
       "      <td>0</td>\n",
       "      <td>11</td>\n",
       "    </tr>\n",
       "    <tr>\n",
       "      <th>3</th>\n",
       "      <td>0.0</td>\n",
       "      <td>9</td>\n",
       "      <td>3.158461e-07</td>\n",
       "      <td>0.000259</td>\n",
       "      <td>0.0</td>\n",
       "      <td>0.0</td>\n",
       "      <td>0.0</td>\n",
       "      <td>0.0</td>\n",
       "      <td>1.0</td>\n",
       "      <td>0.0</td>\n",
       "      <td>...</td>\n",
       "      <td>0.0</td>\n",
       "      <td>0.152941</td>\n",
       "      <td>0.0</td>\n",
       "      <td>0.03</td>\n",
       "      <td>0.0</td>\n",
       "      <td>0.0</td>\n",
       "      <td>0.0</td>\n",
       "      <td>0.0</td>\n",
       "      <td>0</td>\n",
       "      <td>11</td>\n",
       "    </tr>\n",
       "    <tr>\n",
       "      <th>4</th>\n",
       "      <td>0.0</td>\n",
       "      <td>9</td>\n",
       "      <td>3.129617e-07</td>\n",
       "      <td>0.000394</td>\n",
       "      <td>0.0</td>\n",
       "      <td>0.0</td>\n",
       "      <td>0.0</td>\n",
       "      <td>0.0</td>\n",
       "      <td>1.0</td>\n",
       "      <td>0.0</td>\n",
       "      <td>...</td>\n",
       "      <td>0.0</td>\n",
       "      <td>0.192157</td>\n",
       "      <td>0.0</td>\n",
       "      <td>0.02</td>\n",
       "      <td>0.0</td>\n",
       "      <td>0.0</td>\n",
       "      <td>0.0</td>\n",
       "      <td>0.0</td>\n",
       "      <td>0</td>\n",
       "      <td>11</td>\n",
       "    </tr>\n",
       "  </tbody>\n",
       "</table>\n",
       "<p>5 rows × 27 columns</p>\n",
       "</div>"
      ],
      "text/plain": [
       "   duration  flag     src_bytes  dst_bytes  land  wrong_fragment  urgent  hot  \\\n",
       "0       0.0     9  2.610418e-07   0.001057   0.0             0.0     0.0  0.0   \n",
       "1       0.0     9  3.446905e-07   0.000094   0.0             0.0     0.0  0.0   \n",
       "2       0.0     9  3.389216e-07   0.000259   0.0             0.0     0.0  0.0   \n",
       "3       0.0     9  3.158461e-07   0.000259   0.0             0.0     0.0  0.0   \n",
       "4       0.0     9  3.129617e-07   0.000394   0.0             0.0     0.0  0.0   \n",
       "\n",
       "   logged_in  su_attempted  ...  srv_diff_host_rate  dst_host_count  \\\n",
       "0        1.0           0.0  ...                 0.0        0.035294   \n",
       "1        1.0           0.0  ...                 0.0        0.074510   \n",
       "2        1.0           0.0  ...                 0.0        0.113725   \n",
       "3        1.0           0.0  ...                 0.0        0.152941   \n",
       "4        1.0           0.0  ...                 0.0        0.192157   \n",
       "\n",
       "   dst_host_diff_srv_rate  dst_host_same_src_port_rate  \\\n",
       "0                     0.0                         0.11   \n",
       "1                     0.0                         0.05   \n",
       "2                     0.0                         0.03   \n",
       "3                     0.0                         0.03   \n",
       "4                     0.0                         0.02   \n",
       "\n",
       "   dst_host_srv_diff_host_rate  dst_host_serror_rate  \\\n",
       "0                          0.0                   0.0   \n",
       "1                          0.0                   0.0   \n",
       "2                          0.0                   0.0   \n",
       "3                          0.0                   0.0   \n",
       "4                          0.0                   0.0   \n",
       "\n",
       "   dst_host_srv_serror_rate  dst_host_srv_rerror_rate  protocol_type_icmp  \\\n",
       "0                       0.0                       0.0                   0   \n",
       "1                       0.0                       0.0                   0   \n",
       "2                       0.0                       0.0                   0   \n",
       "3                       0.0                       0.0                   0   \n",
       "4                       0.0                       0.0                   0   \n",
       "\n",
       "   output  \n",
       "0      11  \n",
       "1      11  \n",
       "2      11  \n",
       "3      11  \n",
       "4      11  \n",
       "\n",
       "[5 rows x 27 columns]"
      ]
     },
     "execution_count": 22,
     "metadata": {
      "tags": []
     },
     "output_type": "execute_result"
    }
   ],
   "source": [
    "data_new.head()"
   ]
  },
  {
   "cell_type": "code",
   "execution_count": null,
   "metadata": {
    "id": "2xWsWsa85CeQ",
    "outputId": "32bc0a08-7a72-49ab-8d64-1e4dce6a6153"
   },
   "outputs": [
    {
     "ename": "ValueError",
     "evalue": "y contains previously unseen labels: [11]",
     "output_type": "error",
     "traceback": [
      "\u001b[1;31m---------------------------------------------------------------------------\u001b[0m",
      "\u001b[1;31mValueError\u001b[0m                                Traceback (most recent call last)",
      "\u001b[1;32m<ipython-input-26-28caca48bbea>\u001b[0m in \u001b[0;36m<module>\u001b[1;34m\u001b[0m\n\u001b[1;32m----> 1\u001b[1;33m \u001b[0mdata_new\u001b[0m\u001b[1;33m[\u001b[0m\u001b[1;34m'output_label'\u001b[0m\u001b[1;33m]\u001b[0m\u001b[1;33m=\u001b[0m\u001b[0mdata_new\u001b[0m\u001b[1;33m[\u001b[0m\u001b[1;34m'output'\u001b[0m\u001b[1;33m]\u001b[0m\u001b[1;33m.\u001b[0m\u001b[0mapply\u001b[0m\u001b[1;33m(\u001b[0m\u001b[1;32mlambda\u001b[0m \u001b[0mx\u001b[0m\u001b[1;33m:\u001b[0m \u001b[0mlabel_encoder\u001b[0m\u001b[1;33m.\u001b[0m\u001b[0minverse_transform\u001b[0m\u001b[1;33m(\u001b[0m\u001b[1;33m[\u001b[0m\u001b[0mx\u001b[0m\u001b[1;33m]\u001b[0m\u001b[1;33m)\u001b[0m\u001b[1;33m)\u001b[0m\u001b[1;33m\u001b[0m\u001b[1;33m\u001b[0m\u001b[0m\n\u001b[0m",
      "\u001b[1;32mc:\\users\\mihee\\appdata\\local\\programs\\python\\python36\\lib\\site-packages\\pandas\\core\\series.py\u001b[0m in \u001b[0;36mapply\u001b[1;34m(self, func, convert_dtype, args, **kwds)\u001b[0m\n\u001b[0;32m   4036\u001b[0m             \u001b[1;32melse\u001b[0m\u001b[1;33m:\u001b[0m\u001b[1;33m\u001b[0m\u001b[1;33m\u001b[0m\u001b[0m\n\u001b[0;32m   4037\u001b[0m                 \u001b[0mvalues\u001b[0m \u001b[1;33m=\u001b[0m \u001b[0mself\u001b[0m\u001b[1;33m.\u001b[0m\u001b[0mastype\u001b[0m\u001b[1;33m(\u001b[0m\u001b[0mobject\u001b[0m\u001b[1;33m)\u001b[0m\u001b[1;33m.\u001b[0m\u001b[0mvalues\u001b[0m\u001b[1;33m\u001b[0m\u001b[1;33m\u001b[0m\u001b[0m\n\u001b[1;32m-> 4038\u001b[1;33m                 \u001b[0mmapped\u001b[0m \u001b[1;33m=\u001b[0m \u001b[0mlib\u001b[0m\u001b[1;33m.\u001b[0m\u001b[0mmap_infer\u001b[0m\u001b[1;33m(\u001b[0m\u001b[0mvalues\u001b[0m\u001b[1;33m,\u001b[0m \u001b[0mf\u001b[0m\u001b[1;33m,\u001b[0m \u001b[0mconvert\u001b[0m\u001b[1;33m=\u001b[0m\u001b[0mconvert_dtype\u001b[0m\u001b[1;33m)\u001b[0m\u001b[1;33m\u001b[0m\u001b[1;33m\u001b[0m\u001b[0m\n\u001b[0m\u001b[0;32m   4039\u001b[0m \u001b[1;33m\u001b[0m\u001b[0m\n\u001b[0;32m   4040\u001b[0m         \u001b[1;32mif\u001b[0m \u001b[0mlen\u001b[0m\u001b[1;33m(\u001b[0m\u001b[0mmapped\u001b[0m\u001b[1;33m)\u001b[0m \u001b[1;32mand\u001b[0m \u001b[0misinstance\u001b[0m\u001b[1;33m(\u001b[0m\u001b[0mmapped\u001b[0m\u001b[1;33m[\u001b[0m\u001b[1;36m0\u001b[0m\u001b[1;33m]\u001b[0m\u001b[1;33m,\u001b[0m \u001b[0mSeries\u001b[0m\u001b[1;33m)\u001b[0m\u001b[1;33m:\u001b[0m\u001b[1;33m\u001b[0m\u001b[1;33m\u001b[0m\u001b[0m\n",
      "\u001b[1;32mpandas\\_libs\\lib.pyx\u001b[0m in \u001b[0;36mpandas._libs.lib.map_infer\u001b[1;34m()\u001b[0m\n",
      "\u001b[1;32m<ipython-input-26-28caca48bbea>\u001b[0m in \u001b[0;36m<lambda>\u001b[1;34m(x)\u001b[0m\n\u001b[1;32m----> 1\u001b[1;33m \u001b[0mdata_new\u001b[0m\u001b[1;33m[\u001b[0m\u001b[1;34m'output_label'\u001b[0m\u001b[1;33m]\u001b[0m\u001b[1;33m=\u001b[0m\u001b[0mdata_new\u001b[0m\u001b[1;33m[\u001b[0m\u001b[1;34m'output'\u001b[0m\u001b[1;33m]\u001b[0m\u001b[1;33m.\u001b[0m\u001b[0mapply\u001b[0m\u001b[1;33m(\u001b[0m\u001b[1;32mlambda\u001b[0m \u001b[0mx\u001b[0m\u001b[1;33m:\u001b[0m \u001b[0mlabel_encoder\u001b[0m\u001b[1;33m.\u001b[0m\u001b[0minverse_transform\u001b[0m\u001b[1;33m(\u001b[0m\u001b[1;33m[\u001b[0m\u001b[0mx\u001b[0m\u001b[1;33m]\u001b[0m\u001b[1;33m)\u001b[0m\u001b[1;33m)\u001b[0m\u001b[1;33m\u001b[0m\u001b[1;33m\u001b[0m\u001b[0m\n\u001b[0m",
      "\u001b[1;32mc:\\users\\mihee\\appdata\\local\\programs\\python\\python36\\lib\\site-packages\\sklearn\\preprocessing\\label.py\u001b[0m in \u001b[0;36minverse_transform\u001b[1;34m(self, y)\u001b[0m\n\u001b[0;32m    279\u001b[0m         \u001b[1;32mif\u001b[0m \u001b[0mlen\u001b[0m\u001b[1;33m(\u001b[0m\u001b[0mdiff\u001b[0m\u001b[1;33m)\u001b[0m\u001b[1;33m:\u001b[0m\u001b[1;33m\u001b[0m\u001b[1;33m\u001b[0m\u001b[0m\n\u001b[0;32m    280\u001b[0m             raise ValueError(\n\u001b[1;32m--> 281\u001b[1;33m                     \"y contains previously unseen labels: %s\" % str(diff))\n\u001b[0m\u001b[0;32m    282\u001b[0m         \u001b[0my\u001b[0m \u001b[1;33m=\u001b[0m \u001b[0mnp\u001b[0m\u001b[1;33m.\u001b[0m\u001b[0masarray\u001b[0m\u001b[1;33m(\u001b[0m\u001b[0my\u001b[0m\u001b[1;33m)\u001b[0m\u001b[1;33m\u001b[0m\u001b[1;33m\u001b[0m\u001b[0m\n\u001b[0;32m    283\u001b[0m         \u001b[1;32mreturn\u001b[0m \u001b[0mself\u001b[0m\u001b[1;33m.\u001b[0m\u001b[0mclasses_\u001b[0m\u001b[1;33m[\u001b[0m\u001b[0my\u001b[0m\u001b[1;33m]\u001b[0m\u001b[1;33m\u001b[0m\u001b[1;33m\u001b[0m\u001b[0m\n",
      "\u001b[1;31mValueError\u001b[0m: y contains previously unseen labels: [11]"
     ]
    }
   ],
   "source": [
    "data_new['output_label']=data_new['output'].apply(lambda x: label_encoder.inverse_transform([x]))"
   ]
  },
  {
   "cell_type": "code",
   "execution_count": null,
   "metadata": {
    "id": "_lTbBuxE5CeR",
    "outputId": "8b915147-90c6-4639-d23d-3508b72ff0b9"
   },
   "outputs": [
    {
     "ename": "NotFittedError",
     "evalue": "This LabelEncoder instance is not fitted yet. Call 'fit' with appropriate arguments before using this method.",
     "output_type": "error",
     "traceback": [
      "\u001b[1;31m---------------------------------------------------------------------------\u001b[0m",
      "\u001b[1;31mNotFittedError\u001b[0m                            Traceback (most recent call last)",
      "\u001b[1;32m<ipython-input-52-cd54afe2e1d6>\u001b[0m in \u001b[0;36m<module>\u001b[1;34m\u001b[0m\n\u001b[1;32m----> 1\u001b[1;33m \u001b[0mlabel_encoder\u001b[0m\u001b[1;33m.\u001b[0m\u001b[0minverse_transform\u001b[0m\u001b[1;33m(\u001b[0m\u001b[0mdata_new\u001b[0m\u001b[1;33m[\u001b[0m\u001b[1;34m'output'\u001b[0m\u001b[1;33m]\u001b[0m\u001b[1;33m)\u001b[0m\u001b[1;33m\u001b[0m\u001b[1;33m\u001b[0m\u001b[0m\n\u001b[0m",
      "\u001b[1;32mc:\\users\\mihee\\appdata\\local\\programs\\python\\python36\\lib\\site-packages\\sklearn\\preprocessing\\label.py\u001b[0m in \u001b[0;36minverse_transform\u001b[1;34m(self, y)\u001b[0m\n\u001b[0;32m    270\u001b[0m         \u001b[0my\u001b[0m \u001b[1;33m:\u001b[0m \u001b[0mnumpy\u001b[0m \u001b[0marray\u001b[0m \u001b[0mof\u001b[0m \u001b[0mshape\u001b[0m \u001b[1;33m[\u001b[0m\u001b[0mn_samples\u001b[0m\u001b[1;33m]\u001b[0m\u001b[1;33m\u001b[0m\u001b[1;33m\u001b[0m\u001b[0m\n\u001b[0;32m    271\u001b[0m         \"\"\"\n\u001b[1;32m--> 272\u001b[1;33m         \u001b[0mcheck_is_fitted\u001b[0m\u001b[1;33m(\u001b[0m\u001b[0mself\u001b[0m\u001b[1;33m,\u001b[0m \u001b[1;34m'classes_'\u001b[0m\u001b[1;33m)\u001b[0m\u001b[1;33m\u001b[0m\u001b[1;33m\u001b[0m\u001b[0m\n\u001b[0m\u001b[0;32m    273\u001b[0m         \u001b[0my\u001b[0m \u001b[1;33m=\u001b[0m \u001b[0mcolumn_or_1d\u001b[0m\u001b[1;33m(\u001b[0m\u001b[0my\u001b[0m\u001b[1;33m,\u001b[0m \u001b[0mwarn\u001b[0m\u001b[1;33m=\u001b[0m\u001b[1;32mTrue\u001b[0m\u001b[1;33m)\u001b[0m\u001b[1;33m\u001b[0m\u001b[1;33m\u001b[0m\u001b[0m\n\u001b[0;32m    274\u001b[0m         \u001b[1;31m# inverse transform of empty array is empty array\u001b[0m\u001b[1;33m\u001b[0m\u001b[1;33m\u001b[0m\u001b[1;33m\u001b[0m\u001b[0m\n",
      "\u001b[1;32mc:\\users\\mihee\\appdata\\local\\programs\\python\\python36\\lib\\site-packages\\sklearn\\utils\\validation.py\u001b[0m in \u001b[0;36mcheck_is_fitted\u001b[1;34m(estimator, attributes, msg, all_or_any)\u001b[0m\n\u001b[0;32m    912\u001b[0m \u001b[1;33m\u001b[0m\u001b[0m\n\u001b[0;32m    913\u001b[0m     \u001b[1;32mif\u001b[0m \u001b[1;32mnot\u001b[0m \u001b[0mall_or_any\u001b[0m\u001b[1;33m(\u001b[0m\u001b[1;33m[\u001b[0m\u001b[0mhasattr\u001b[0m\u001b[1;33m(\u001b[0m\u001b[0mestimator\u001b[0m\u001b[1;33m,\u001b[0m \u001b[0mattr\u001b[0m\u001b[1;33m)\u001b[0m \u001b[1;32mfor\u001b[0m \u001b[0mattr\u001b[0m \u001b[1;32min\u001b[0m \u001b[0mattributes\u001b[0m\u001b[1;33m]\u001b[0m\u001b[1;33m)\u001b[0m\u001b[1;33m:\u001b[0m\u001b[1;33m\u001b[0m\u001b[1;33m\u001b[0m\u001b[0m\n\u001b[1;32m--> 914\u001b[1;33m         \u001b[1;32mraise\u001b[0m \u001b[0mNotFittedError\u001b[0m\u001b[1;33m(\u001b[0m\u001b[0mmsg\u001b[0m \u001b[1;33m%\u001b[0m \u001b[1;33m{\u001b[0m\u001b[1;34m'name'\u001b[0m\u001b[1;33m:\u001b[0m \u001b[0mtype\u001b[0m\u001b[1;33m(\u001b[0m\u001b[0mestimator\u001b[0m\u001b[1;33m)\u001b[0m\u001b[1;33m.\u001b[0m\u001b[0m__name__\u001b[0m\u001b[1;33m}\u001b[0m\u001b[1;33m)\u001b[0m\u001b[1;33m\u001b[0m\u001b[1;33m\u001b[0m\u001b[0m\n\u001b[0m\u001b[0;32m    915\u001b[0m \u001b[1;33m\u001b[0m\u001b[0m\n\u001b[0;32m    916\u001b[0m \u001b[1;33m\u001b[0m\u001b[0m\n",
      "\u001b[1;31mNotFittedError\u001b[0m: This LabelEncoder instance is not fitted yet. Call 'fit' with appropriate arguments before using this method."
     ]
    }
   ],
   "source": [
    "label_encoder.inverse_transform(data_new['output'])"
   ]
  },
  {
   "cell_type": "code",
   "execution_count": null,
   "metadata": {
    "id": "8EjthihO5CeR"
   },
   "outputs": [],
   "source": []
  },
  {
   "cell_type": "code",
   "execution_count": null,
   "metadata": {
    "id": "cgJ1zPEs5CeR",
    "outputId": "2553c228-8947-40d4-914e-b32e8f45151d"
   },
   "outputs": [
    {
     "data": {
      "text/plain": [
       "18    280790\n",
       "9     107201\n",
       "11     97278\n",
       "0       2203\n",
       "17      1589\n",
       "5       1247\n",
       "15      1040\n",
       "21      1020\n",
       "20       979\n",
       "14       264\n",
       "10       231\n",
       "3         53\n",
       "1         30\n",
       "6         21\n",
       "22        20\n",
       "4         12\n",
       "16        10\n",
       "Name: output, dtype: int64"
      ]
     },
     "execution_count": 28,
     "metadata": {
      "tags": []
     },
     "output_type": "execute_result"
    }
   ],
   "source": [
    "data_new['output'].value_counts()"
   ]
  },
  {
   "cell_type": "code",
   "execution_count": null,
   "metadata": {
    "id": "k9iL0X575CeR",
    "outputId": "5c2fdfd0-4474-4eba-e693-6ca179b90e48"
   },
   "outputs": [
    {
     "data": {
      "text/plain": [
       "(494021, 42)"
      ]
     },
     "execution_count": 32,
     "metadata": {
      "tags": []
     },
     "output_type": "execute_result"
    }
   ],
   "source": [
    "kdd.shape"
   ]
  },
  {
   "cell_type": "code",
   "execution_count": null,
   "metadata": {
    "id": "FozO0bLu5CeS",
    "outputId": "d8414042-d819-4975-abc5-d5cafb3d6a3f"
   },
   "outputs": [
    {
     "data": {
      "text/plain": [
       "(493988, 27)"
      ]
     },
     "execution_count": 33,
     "metadata": {
      "tags": []
     },
     "output_type": "execute_result"
    }
   ],
   "source": [
    "data_new.shape"
   ]
  },
  {
   "cell_type": "code",
   "execution_count": null,
   "metadata": {
    "id": "aR5vJ64T5CeS"
   },
   "outputs": [],
   "source": []
  }
 ],
 "metadata": {
  "accelerator": "GPU",
  "colab": {
   "name": "Feature_selection_execution.ipynb",
   "provenance": []
  },
  "kernelspec": {
   "display_name": "Python 3",
   "language": "python",
   "name": "python3"
  },
  "language_info": {
   "codemirror_mode": {
    "name": "ipython",
    "version": 3
   },
   "file_extension": ".py",
   "mimetype": "text/x-python",
   "name": "python",
   "nbconvert_exporter": "python",
   "pygments_lexer": "ipython3",
   "version": "3.6.8"
  }
 },
 "nbformat": 4,
 "nbformat_minor": 1
}
